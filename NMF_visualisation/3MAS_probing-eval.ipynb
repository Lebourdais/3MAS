{
 "cells": [
  {
   "cell_type": "code",
   "execution_count": 16,
   "id": "00f95683",
   "metadata": {},
   "outputs": [],
   "source": [
    "import torch\n",
    "import torch.nn.functional as F\n",
    "import pandas\n",
    "import torchaudio\n",
    "import torchaudio.transforms as T\n",
    "import os\n",
    "from tqdm import tqdm\n",
    "from datasets import load_dataset,Audio\n",
    "import numpy as np\n",
    "import soundata\n",
    "import matplotlib.pyplot as plt\n",
    "from torch.utils.data import Dataset, DataLoader\n",
    "from ..src.utils.datasets import UrbanSound8k,GTZAN,CommonVoiceDataset,TimitDataset\n",
    "#from sklearn.model_selection import train_test_split\n",
    "torchaudio.set_audio_backend(\"soundfile\")"
   ]
  },
  {
   "cell_type": "code",
   "execution_count": 20,
   "id": "ab69070b",
   "metadata": {},
   "outputs": [],
   "source": [
    "from torchmetrics import Metric\n",
    "from torch import Tensor\n",
    "class ExpectedCost(Metric):\n",
    "    \"\"\"\n",
    "    Wrapper on the expected cost as defined in https://github.com/luferrer/expected_cost\n",
    "    \"\"\"\n",
    "    def __init__(self,task = \"binary\", costs=None, priors=None, sample_weight=None, adjusted=False,num_classes = 2):\n",
    "        super().__init__()\n",
    "        self.conf = ConfusionMatrix(task=task,num_classes=num_classes)\n",
    "        if costs is None:\n",
    "            \n",
    "            costs = 1-torch.eye(num_classes)\n",
    "            \n",
    "            self.costs = costs\n",
    "        else:\n",
    "            self.costs = costs\n",
    "        self.priors = priors\n",
    "        self.sample_weight = sample_weight\n",
    "        self.adjusted=adjusted\n",
    "        self.num_classes = num_classes\n",
    "        \n",
    "            \n",
    "        self.add_state(\"bincounts\", default=torch.zeros(num_classes), dist_reduce_fx=\"sum\")\n",
    "        self.add_state(\"matrix\", default=torch.zeros((num_classes,num_classes)), dist_reduce_fx=\"sum\")\n",
    "        \n",
    "    def _input_format(self,preds,target):\n",
    "        return preds,target\n",
    "    def update(self, preds: Tensor, target: Tensor):\n",
    "        preds, target = self._input_format(preds, target)\n",
    "        \n",
    "        assert preds.shape == target.shape\n",
    "        self.matrix = self.conf(preds,target)\n",
    "        \n",
    "        self.bincounts = torch.bincount(target,minlength=self.num_classes)\n",
    "        \n",
    "    def compute(self):\n",
    "        self.matrix = self.matrix/self.matrix.sum(axis=1, keepdims=True)\n",
    "        priors = (self.bincounts/self.bincounts.sum()).unsqueeze(0).T\n",
    "        if self.adjusted:\n",
    "            # When adjusted is true, normalize the average cost\n",
    "            # with the cost of a naive system that always makes\n",
    "            # the min cost decision.\n",
    "            norm_value = torch.min(torch.dot(priors.T, self.costs))\n",
    "        else:\n",
    "            norm_value = 1.0\n",
    "                \n",
    "        ave_cost = torch.sum(priors * self.costs * self.matrix)\n",
    "\n",
    "        return ave_cost / norm_value"
   ]
  },
  {
   "cell_type": "markdown",
   "id": "028f6558",
   "metadata": {},
   "source": [
    "## Datasets"
   ]
  },
  {
   "cell_type": "code",
   "execution_count": 11,
   "id": "ef2cf0e3",
   "metadata": {},
   "outputs": [
    {
     "name": "stderr",
     "output_type": "stream",
     "text": [
      "100%|██████████| 8732/8732 [01:24<00:00, 103.20it/s]  \n"
     ]
    }
   ],
   "source": [
    "noise_test = UrbanSound8k(mode=\"test\")"
   ]
  },
  {
   "cell_type": "code",
   "execution_count": 4,
   "id": "2fd71278",
   "metadata": {},
   "outputs": [],
   "source": [
    "music_test = GTZAN(csv_file=\"features_3_sec.csv\",root_dir=\"/lium/raid01_b/tmario/phD/data/gtzan/\",mode=\"eval\",overwrite=False)"
   ]
  },
  {
   "cell_type": "code",
   "execution_count": 5,
   "id": "4a8253fe",
   "metadata": {},
   "outputs": [
    {
     "name": "stdout",
     "output_type": "stream",
     "text": [
      "Cleaning.......OK\n"
     ]
    }
   ],
   "source": [
    "gender_test = CommonVoiceDataset(mode=\"test\")"
   ]
  },
  {
   "cell_type": "code",
   "execution_count": 6,
   "id": "4fc8fa15",
   "metadata": {},
   "outputs": [
    {
     "name": "stdout",
     "output_type": "stream",
     "text": [
      "Cleaning.......OK\n",
      "Dataset preparation\n"
     ]
    }
   ],
   "source": [
    "phone_test = TimitDataset(mode=\"test\")"
   ]
  },
  {
   "cell_type": "markdown",
   "id": "0abd21a4",
   "metadata": {},
   "source": [
    "## Load NMF-based multilabel segmentation model"
   ]
  },
  {
   "cell_type": "code",
   "execution_count": 8,
   "id": "a7c9e978",
   "metadata": {},
   "outputs": [
    {
     "name": "stdout",
     "output_type": "stream",
     "text": [
      "Type of NMF matrix: <class 'torch.Tensor'> torch.Size([513, 256])\n"
     ]
    },
    {
     "name": "stderr",
     "output_type": "stream",
     "text": [
      "Using cache found in /lium/home/mlebour/.cache/torch/hub/s3prl_s3prl_main\n"
     ]
    }
   ],
   "source": [
    "import yaml\n",
    "from pyannote.audio import Model\n",
    "\n",
    "w_nmf = torch.load(\"/lium/raid01_b/tmario/phD/JSALT2023/src/1.explainability/nmf/dict/W_win_1024_nfft_1024_256_beta_2_mu_1_AragonRadio_sp_200_mus_500_no_500_max_seg_4.pt\")\n",
    "with open(\"/lium/raid01_b/tmario/phD/JSALT2023/src/1.explainability/nmf/config_wavlm.yaml\",\"rb\") as fh:\n",
    "    cfg = yaml.safe_load(fh)\n",
    "model = Model.from_pretrained(\"/lium/raid01_b/tmario/phD/JSALT2023/src/1.explainability/nmf/3MASNMF/make_it_sparser_256/X.Segmentation.Full_WP2-make_it_sparser_256-10.0-5.0-0.1-augTrue/models/23_12_12.ckpt\",\n",
    "                              w_nmf=w_nmf,\n",
    "                              wavlm_cfg=cfg[\"model\"][\"wavlm\"],\n",
    "                              spec_kw={\"win_length\":1024, \"hop_length\":320,\"n_fft\":1024})\n",
    "model.freeze()"
   ]
  },
  {
   "cell_type": "code",
   "execution_count": null,
   "id": "b153b223",
   "metadata": {},
   "outputs": [],
   "source": []
  },
  {
   "cell_type": "markdown",
   "id": "d62fcceb",
   "metadata": {},
   "source": [
    "### Classifier instance"
   ]
  },
  {
   "cell_type": "code",
   "execution_count": 27,
   "id": "643c9a48",
   "metadata": {},
   "outputs": [],
   "source": [
    "class LinProbe(torch.nn.Module):\n",
    "    \n",
    "    def __init__(self,input_size=256,output_size=10,agreg = \"mean_std\"):\n",
    "        super().__init__()\n",
    "        self.agreg = agreg\n",
    "        weight = 1 if agreg in [\"mean\",\"std\"] else 2\n",
    "        \n",
    "        self.probe = torch.nn.Sequential(torch.nn.Linear(weight*input_size,output_size))\n",
    "    \n",
    "    def forward(self,x):\n",
    "        x_mean = None\n",
    "        x_std = None\n",
    "        if \"mean\" in self.agreg:\n",
    "            x_mean = x.mean(dim=1)\n",
    "        if \"std\" in self.agreg:\n",
    "            x_std = x.std(dim=1)\n",
    "        if x_mean is not None and x_std is not None:\n",
    "            input_x = torch.cat([x_mean,x_std],dim=-1)\n",
    "        elif x_mean is not None:\n",
    "            input_x = x_mean\n",
    "        elif x_std is not None:\n",
    "            input_x = x_std\n",
    "        \n",
    "        y = self.probe(input_x)\n",
    "        \n",
    "        return y"
   ]
  },
  {
   "cell_type": "markdown",
   "id": "fbea4ed2",
   "metadata": {},
   "source": [
    "## Train "
   ]
  },
  {
   "cell_type": "code",
   "execution_count": 28,
   "id": "318d29de",
   "metadata": {},
   "outputs": [],
   "source": [
    "from tqdm import tqdm\n",
    "\n",
    "def train_epoch(seg_model,classif_probe,dataloader,loss_fun,optimizer,device=\"cpu\"):\n",
    "    avg_loss=0\n",
    "    last_avg_loss=0\n",
    "    for batch_idx, (data,label) in enumerate(tqdm(dataloader)):    \n",
    "        optimizer.zero_grad()\n",
    "        \n",
    "        with torch.no_grad():\n",
    "            feat = seg_model.wavlm(data.to(device))\n",
    "            emb = seg_model.emb_transform(feat)\n",
    "        \n",
    "        logits = classif_probe(emb.permute(0,2,1))\n",
    "        \n",
    "        loss = loss_fun(logits,label.to(device))\n",
    "        loss.backward()\n",
    "        optimizer.step()\n",
    "        \n",
    "        avg_loss += loss\n",
    "        \n",
    "        if batch_idx%10 == 0:\n",
    "            avg_loss/=10\n",
    "            last_avg_loss=avg_loss\n",
    "            print(f\"Train loss: {avg_loss}\")\n",
    "            avg_loss=0\n",
    "        \n",
    "    return classif_probe, last_avg_loss\n",
    "\n",
    "def valid_epoch(seg_model,classif_probe,dataloader,loss_fun,device=\"cpu\"):\n",
    "    valid_loss=0.0\n",
    "    for batch_idx, (data, label) in enumerate(tqdm(dataloader,desc=\"Validation\")):        \n",
    "        \n",
    "        with torch.no_grad():\n",
    "            feat = seg_model.wavlm(data.to(device))\n",
    "            emb = seg_model.emb_transform(feat)\n",
    "        \n",
    "        logits = classif_probe(emb.permute(0,2,1))   \n",
    "        \n",
    "        valid_loss += loss_fun(logits,label.to(device))\n",
    "        \n",
    "    return valid_loss/(batch_idx+1)"
   ]
  },
  {
   "cell_type": "code",
   "execution_count": 38,
   "id": "673d715e",
   "metadata": {
    "scrolled": true,
    "tags": []
   },
   "outputs": [
    {
     "name": "stdout",
     "output_type": "stream",
     "text": [
      "Epoch 1\n"
     ]
    },
    {
     "name": "stderr",
     "output_type": "stream",
     "text": [
      "  2%|▏         | 1/57 [00:03<02:50,  3.05s/it]"
     ]
    },
    {
     "name": "stdout",
     "output_type": "stream",
     "text": [
      "Train loss: 0.12552934885025024\n"
     ]
    },
    {
     "name": "stderr",
     "output_type": "stream",
     "text": [
      " 19%|█▉        | 11/57 [00:19<01:16,  1.66s/it]"
     ]
    },
    {
     "name": "stdout",
     "output_type": "stream",
     "text": [
      "Train loss: 1.4565739631652832\n"
     ]
    },
    {
     "name": "stderr",
     "output_type": "stream",
     "text": [
      " 37%|███▋      | 21/57 [00:36<00:59,  1.66s/it]"
     ]
    },
    {
     "name": "stdout",
     "output_type": "stream",
     "text": [
      "Train loss: 1.485206961631775\n"
     ]
    },
    {
     "name": "stderr",
     "output_type": "stream",
     "text": [
      " 54%|█████▍    | 31/57 [00:52<00:43,  1.67s/it]"
     ]
    },
    {
     "name": "stdout",
     "output_type": "stream",
     "text": [
      "Train loss: 1.3756366968154907\n"
     ]
    },
    {
     "name": "stderr",
     "output_type": "stream",
     "text": [
      " 72%|███████▏  | 41/57 [01:09<00:26,  1.68s/it]"
     ]
    },
    {
     "name": "stdout",
     "output_type": "stream",
     "text": [
      "Train loss: 1.4662398099899292\n"
     ]
    },
    {
     "name": "stderr",
     "output_type": "stream",
     "text": [
      " 89%|████████▉ | 51/57 [01:26<00:10,  1.68s/it]"
     ]
    },
    {
     "name": "stdout",
     "output_type": "stream",
     "text": [
      "Train loss: 1.4510389566421509\n"
     ]
    },
    {
     "name": "stderr",
     "output_type": "stream",
     "text": [
      "100%|██████████| 57/57 [01:35<00:00,  1.67s/it]\n",
      "Validation: 100%|██████████| 7/7 [00:11<00:00,  1.70s/it]\n"
     ]
    },
    {
     "name": "stdout",
     "output_type": "stream",
     "text": [
      "Validation loss = [tensor(1.8563, device='cuda:0', grad_fn=<DivBackward0>), tensor(1.7085, device='cuda:0', grad_fn=<DivBackward0>), tensor(1.8367, device='cuda:0', grad_fn=<DivBackward0>), tensor(1.6290, device='cuda:0', grad_fn=<DivBackward0>), tensor(1.6546, device='cuda:0', grad_fn=<DivBackward0>), tensor(1.6288, device='cuda:0', grad_fn=<DivBackward0>), tensor(1.4934, device='cuda:0', grad_fn=<DivBackward0>), tensor(1.4674, device='cuda:0', grad_fn=<DivBackward0>), tensor(1.5490, device='cuda:0', grad_fn=<DivBackward0>), tensor(1.6865, device='cuda:0', grad_fn=<DivBackward0>), tensor(1.8506, device='cuda:0', grad_fn=<DivBackward0>), tensor(1.4970, device='cuda:0', grad_fn=<DivBackward0>), tensor(1.7092, device='cuda:0', grad_fn=<DivBackward0>), tensor(1.6074, device='cuda:0', grad_fn=<DivBackward0>), tensor(1.4997, device='cuda:0', grad_fn=<DivBackward0>), tensor(1.6789, device='cuda:0', grad_fn=<DivBackward0>), tensor(1.5519, device='cuda:0', grad_fn=<DivBackward0>), tensor(1.4611, device='cuda:0', grad_fn=<DivBackward0>), tensor(1.4611, device='cuda:0', grad_fn=<DivBackward0>), tensor(1.6216, device='cuda:0', grad_fn=<DivBackward0>), tensor(1.4452, device='cuda:0', grad_fn=<DivBackward0>), tensor(1.6208, device='cuda:0', grad_fn=<DivBackward0>), tensor(1.5803, device='cuda:0', grad_fn=<DivBackward0>), tensor(1.4840, device='cuda:0', grad_fn=<DivBackward0>), tensor(1.4245, device='cuda:0', grad_fn=<DivBackward0>), tensor(1.3859, device='cuda:0', grad_fn=<DivBackward0>), tensor(1.7199, device='cuda:0', grad_fn=<DivBackward0>), tensor(1.6597, device='cuda:0', grad_fn=<DivBackward0>), tensor(1.5217, device='cuda:0', grad_fn=<DivBackward0>), tensor(1.4703, device='cuda:0', grad_fn=<DivBackward0>), tensor(1.6512, device='cuda:0', grad_fn=<DivBackward0>), tensor(1.4858, device='cuda:0', grad_fn=<DivBackward0>), tensor(1.5360, device='cuda:0', grad_fn=<DivBackward0>), tensor(1.4833, device='cuda:0', grad_fn=<DivBackward0>), tensor(1.6907, device='cuda:0', grad_fn=<DivBackward0>), tensor(1.4465, device='cuda:0', grad_fn=<DivBackward0>), tensor(1.5241, device='cuda:0', grad_fn=<DivBackward0>), tensor(1.4801, device='cuda:0', grad_fn=<DivBackward0>), tensor(1.3726, device='cuda:0', grad_fn=<DivBackward0>), tensor(1.5140, device='cuda:0', grad_fn=<DivBackward0>), tensor(1.5298, device='cuda:0', grad_fn=<DivBackward0>), tensor(1.3662, device='cuda:0', grad_fn=<DivBackward0>), tensor(1.7593, device='cuda:0', grad_fn=<DivBackward0>), tensor(1.5053, device='cuda:0', grad_fn=<DivBackward0>), tensor(1.6024, device='cuda:0', grad_fn=<DivBackward0>), tensor(1.4355, device='cuda:0', grad_fn=<DivBackward0>), tensor(1.5013, device='cuda:0', grad_fn=<DivBackward0>), tensor(1.5995, device='cuda:0', grad_fn=<DivBackward0>), tensor(1.5221, device='cuda:0', grad_fn=<DivBackward0>), tensor(1.3972, device='cuda:0', grad_fn=<DivBackward0>), tensor(1.5361, device='cuda:0', grad_fn=<DivBackward0>)]\n",
      "Epoch 2\n"
     ]
    },
    {
     "name": "stderr",
     "output_type": "stream",
     "text": [
      "  2%|▏         | 1/57 [00:03<02:48,  3.00s/it]"
     ]
    },
    {
     "name": "stdout",
     "output_type": "stream",
     "text": [
      "Train loss: 0.14617912471294403\n"
     ]
    },
    {
     "name": "stderr",
     "output_type": "stream",
     "text": [
      " 19%|█▉        | 11/57 [00:19<01:18,  1.70s/it]"
     ]
    },
    {
     "name": "stdout",
     "output_type": "stream",
     "text": [
      "Train loss: 1.4548109769821167\n"
     ]
    },
    {
     "name": "stderr",
     "output_type": "stream",
     "text": [
      " 37%|███▋      | 21/57 [00:36<01:01,  1.70s/it]"
     ]
    },
    {
     "name": "stdout",
     "output_type": "stream",
     "text": [
      "Train loss: 1.4331587553024292\n"
     ]
    },
    {
     "name": "stderr",
     "output_type": "stream",
     "text": [
      " 54%|█████▍    | 31/57 [00:53<00:44,  1.70s/it]"
     ]
    },
    {
     "name": "stdout",
     "output_type": "stream",
     "text": [
      "Train loss: 1.4215689897537231\n"
     ]
    },
    {
     "name": "stderr",
     "output_type": "stream",
     "text": [
      " 72%|███████▏  | 41/57 [01:11<00:27,  1.70s/it]"
     ]
    },
    {
     "name": "stdout",
     "output_type": "stream",
     "text": [
      "Train loss: 1.4255316257476807\n"
     ]
    },
    {
     "name": "stderr",
     "output_type": "stream",
     "text": [
      " 89%|████████▉ | 51/57 [01:28<00:10,  1.70s/it]"
     ]
    },
    {
     "name": "stdout",
     "output_type": "stream",
     "text": [
      "Train loss: 1.4603885412216187\n"
     ]
    },
    {
     "name": "stderr",
     "output_type": "stream",
     "text": [
      "100%|██████████| 57/57 [01:36<00:00,  1.70s/it]\n",
      "Validation: 100%|██████████| 7/7 [00:11<00:00,  1.69s/it]\n"
     ]
    },
    {
     "name": "stdout",
     "output_type": "stream",
     "text": [
      "Validation loss = [tensor(1.8563, device='cuda:0', grad_fn=<DivBackward0>), tensor(1.7085, device='cuda:0', grad_fn=<DivBackward0>), tensor(1.8367, device='cuda:0', grad_fn=<DivBackward0>), tensor(1.6290, device='cuda:0', grad_fn=<DivBackward0>), tensor(1.6546, device='cuda:0', grad_fn=<DivBackward0>), tensor(1.6288, device='cuda:0', grad_fn=<DivBackward0>), tensor(1.4934, device='cuda:0', grad_fn=<DivBackward0>), tensor(1.4674, device='cuda:0', grad_fn=<DivBackward0>), tensor(1.5490, device='cuda:0', grad_fn=<DivBackward0>), tensor(1.6865, device='cuda:0', grad_fn=<DivBackward0>), tensor(1.8506, device='cuda:0', grad_fn=<DivBackward0>), tensor(1.4970, device='cuda:0', grad_fn=<DivBackward0>), tensor(1.7092, device='cuda:0', grad_fn=<DivBackward0>), tensor(1.6074, device='cuda:0', grad_fn=<DivBackward0>), tensor(1.4997, device='cuda:0', grad_fn=<DivBackward0>), tensor(1.6789, device='cuda:0', grad_fn=<DivBackward0>), tensor(1.5519, device='cuda:0', grad_fn=<DivBackward0>), tensor(1.4611, device='cuda:0', grad_fn=<DivBackward0>), tensor(1.4611, device='cuda:0', grad_fn=<DivBackward0>), tensor(1.6216, device='cuda:0', grad_fn=<DivBackward0>), tensor(1.4452, device='cuda:0', grad_fn=<DivBackward0>), tensor(1.6208, device='cuda:0', grad_fn=<DivBackward0>), tensor(1.5803, device='cuda:0', grad_fn=<DivBackward0>), tensor(1.4840, device='cuda:0', grad_fn=<DivBackward0>), tensor(1.4245, device='cuda:0', grad_fn=<DivBackward0>), tensor(1.3859, device='cuda:0', grad_fn=<DivBackward0>), tensor(1.7199, device='cuda:0', grad_fn=<DivBackward0>), tensor(1.6597, device='cuda:0', grad_fn=<DivBackward0>), tensor(1.5217, device='cuda:0', grad_fn=<DivBackward0>), tensor(1.4703, device='cuda:0', grad_fn=<DivBackward0>), tensor(1.6512, device='cuda:0', grad_fn=<DivBackward0>), tensor(1.4858, device='cuda:0', grad_fn=<DivBackward0>), tensor(1.5360, device='cuda:0', grad_fn=<DivBackward0>), tensor(1.4833, device='cuda:0', grad_fn=<DivBackward0>), tensor(1.6907, device='cuda:0', grad_fn=<DivBackward0>), tensor(1.4465, device='cuda:0', grad_fn=<DivBackward0>), tensor(1.5241, device='cuda:0', grad_fn=<DivBackward0>), tensor(1.4801, device='cuda:0', grad_fn=<DivBackward0>), tensor(1.3726, device='cuda:0', grad_fn=<DivBackward0>), tensor(1.5140, device='cuda:0', grad_fn=<DivBackward0>), tensor(1.5298, device='cuda:0', grad_fn=<DivBackward0>), tensor(1.3662, device='cuda:0', grad_fn=<DivBackward0>), tensor(1.7593, device='cuda:0', grad_fn=<DivBackward0>), tensor(1.5053, device='cuda:0', grad_fn=<DivBackward0>), tensor(1.6024, device='cuda:0', grad_fn=<DivBackward0>), tensor(1.4355, device='cuda:0', grad_fn=<DivBackward0>), tensor(1.5013, device='cuda:0', grad_fn=<DivBackward0>), tensor(1.5995, device='cuda:0', grad_fn=<DivBackward0>), tensor(1.5221, device='cuda:0', grad_fn=<DivBackward0>), tensor(1.3972, device='cuda:0', grad_fn=<DivBackward0>), tensor(1.5361, device='cuda:0', grad_fn=<DivBackward0>), tensor(1.6612, device='cuda:0', grad_fn=<DivBackward0>)]\n",
      "Epoch 3\n"
     ]
    },
    {
     "name": "stderr",
     "output_type": "stream",
     "text": [
      "  2%|▏         | 1/57 [00:03<02:48,  3.01s/it]"
     ]
    },
    {
     "name": "stdout",
     "output_type": "stream",
     "text": [
      "Train loss: 0.16268528997898102\n"
     ]
    },
    {
     "name": "stderr",
     "output_type": "stream",
     "text": [
      " 19%|█▉        | 11/57 [00:20<01:19,  1.72s/it]"
     ]
    },
    {
     "name": "stdout",
     "output_type": "stream",
     "text": [
      "Train loss: 1.48146390914917\n"
     ]
    },
    {
     "name": "stderr",
     "output_type": "stream",
     "text": [
      " 37%|███▋      | 21/57 [00:37<01:01,  1.71s/it]"
     ]
    },
    {
     "name": "stdout",
     "output_type": "stream",
     "text": [
      "Train loss: 1.4793680906295776\n"
     ]
    },
    {
     "name": "stderr",
     "output_type": "stream",
     "text": [
      " 54%|█████▍    | 31/57 [00:54<00:44,  1.71s/it]"
     ]
    },
    {
     "name": "stdout",
     "output_type": "stream",
     "text": [
      "Train loss: 1.4786690473556519\n"
     ]
    },
    {
     "name": "stderr",
     "output_type": "stream",
     "text": [
      " 72%|███████▏  | 41/57 [01:11<00:27,  1.70s/it]"
     ]
    },
    {
     "name": "stdout",
     "output_type": "stream",
     "text": [
      "Train loss: 1.3535531759262085\n"
     ]
    },
    {
     "name": "stderr",
     "output_type": "stream",
     "text": [
      " 89%|████████▉ | 51/57 [01:28<00:10,  1.70s/it]"
     ]
    },
    {
     "name": "stdout",
     "output_type": "stream",
     "text": [
      "Train loss: 1.3665876388549805\n"
     ]
    },
    {
     "name": "stderr",
     "output_type": "stream",
     "text": [
      "100%|██████████| 57/57 [01:37<00:00,  1.71s/it]\n",
      "Validation: 100%|██████████| 7/7 [00:11<00:00,  1.70s/it]\n"
     ]
    },
    {
     "name": "stdout",
     "output_type": "stream",
     "text": [
      "Validation loss = [tensor(1.8563, device='cuda:0', grad_fn=<DivBackward0>), tensor(1.7085, device='cuda:0', grad_fn=<DivBackward0>), tensor(1.8367, device='cuda:0', grad_fn=<DivBackward0>), tensor(1.6290, device='cuda:0', grad_fn=<DivBackward0>), tensor(1.6546, device='cuda:0', grad_fn=<DivBackward0>), tensor(1.6288, device='cuda:0', grad_fn=<DivBackward0>), tensor(1.4934, device='cuda:0', grad_fn=<DivBackward0>), tensor(1.4674, device='cuda:0', grad_fn=<DivBackward0>), tensor(1.5490, device='cuda:0', grad_fn=<DivBackward0>), tensor(1.6865, device='cuda:0', grad_fn=<DivBackward0>), tensor(1.8506, device='cuda:0', grad_fn=<DivBackward0>), tensor(1.4970, device='cuda:0', grad_fn=<DivBackward0>), tensor(1.7092, device='cuda:0', grad_fn=<DivBackward0>), tensor(1.6074, device='cuda:0', grad_fn=<DivBackward0>), tensor(1.4997, device='cuda:0', grad_fn=<DivBackward0>), tensor(1.6789, device='cuda:0', grad_fn=<DivBackward0>), tensor(1.5519, device='cuda:0', grad_fn=<DivBackward0>), tensor(1.4611, device='cuda:0', grad_fn=<DivBackward0>), tensor(1.4611, device='cuda:0', grad_fn=<DivBackward0>), tensor(1.6216, device='cuda:0', grad_fn=<DivBackward0>), tensor(1.4452, device='cuda:0', grad_fn=<DivBackward0>), tensor(1.6208, device='cuda:0', grad_fn=<DivBackward0>), tensor(1.5803, device='cuda:0', grad_fn=<DivBackward0>), tensor(1.4840, device='cuda:0', grad_fn=<DivBackward0>), tensor(1.4245, device='cuda:0', grad_fn=<DivBackward0>), tensor(1.3859, device='cuda:0', grad_fn=<DivBackward0>), tensor(1.7199, device='cuda:0', grad_fn=<DivBackward0>), tensor(1.6597, device='cuda:0', grad_fn=<DivBackward0>), tensor(1.5217, device='cuda:0', grad_fn=<DivBackward0>), tensor(1.4703, device='cuda:0', grad_fn=<DivBackward0>), tensor(1.6512, device='cuda:0', grad_fn=<DivBackward0>), tensor(1.4858, device='cuda:0', grad_fn=<DivBackward0>), tensor(1.5360, device='cuda:0', grad_fn=<DivBackward0>), tensor(1.4833, device='cuda:0', grad_fn=<DivBackward0>), tensor(1.6907, device='cuda:0', grad_fn=<DivBackward0>), tensor(1.4465, device='cuda:0', grad_fn=<DivBackward0>), tensor(1.5241, device='cuda:0', grad_fn=<DivBackward0>), tensor(1.4801, device='cuda:0', grad_fn=<DivBackward0>), tensor(1.3726, device='cuda:0', grad_fn=<DivBackward0>), tensor(1.5140, device='cuda:0', grad_fn=<DivBackward0>), tensor(1.5298, device='cuda:0', grad_fn=<DivBackward0>), tensor(1.3662, device='cuda:0', grad_fn=<DivBackward0>), tensor(1.7593, device='cuda:0', grad_fn=<DivBackward0>), tensor(1.5053, device='cuda:0', grad_fn=<DivBackward0>), tensor(1.6024, device='cuda:0', grad_fn=<DivBackward0>), tensor(1.4355, device='cuda:0', grad_fn=<DivBackward0>), tensor(1.5013, device='cuda:0', grad_fn=<DivBackward0>), tensor(1.5995, device='cuda:0', grad_fn=<DivBackward0>), tensor(1.5221, device='cuda:0', grad_fn=<DivBackward0>), tensor(1.3972, device='cuda:0', grad_fn=<DivBackward0>), tensor(1.5361, device='cuda:0', grad_fn=<DivBackward0>), tensor(1.6612, device='cuda:0', grad_fn=<DivBackward0>), tensor(1.3740, device='cuda:0', grad_fn=<DivBackward0>)]\n",
      "Epoch 4\n"
     ]
    },
    {
     "name": "stderr",
     "output_type": "stream",
     "text": [
      "  2%|▏         | 1/57 [00:03<02:49,  3.03s/it]"
     ]
    },
    {
     "name": "stdout",
     "output_type": "stream",
     "text": [
      "Train loss: 0.13369250297546387\n"
     ]
    },
    {
     "name": "stderr",
     "output_type": "stream",
     "text": [
      " 19%|█▉        | 11/57 [00:20<01:19,  1.72s/it]"
     ]
    },
    {
     "name": "stdout",
     "output_type": "stream",
     "text": [
      "Train loss: 1.4130972623825073\n"
     ]
    },
    {
     "name": "stderr",
     "output_type": "stream",
     "text": [
      " 37%|███▋      | 21/57 [00:37<01:01,  1.71s/it]"
     ]
    },
    {
     "name": "stdout",
     "output_type": "stream",
     "text": [
      "Train loss: 1.4257957935333252\n"
     ]
    },
    {
     "name": "stderr",
     "output_type": "stream",
     "text": [
      " 54%|█████▍    | 31/57 [00:54<00:44,  1.72s/it]"
     ]
    },
    {
     "name": "stdout",
     "output_type": "stream",
     "text": [
      "Train loss: 1.3881937265396118\n"
     ]
    },
    {
     "name": "stderr",
     "output_type": "stream",
     "text": [
      " 72%|███████▏  | 41/57 [01:11<00:27,  1.71s/it]"
     ]
    },
    {
     "name": "stdout",
     "output_type": "stream",
     "text": [
      "Train loss: 1.4126251935958862\n"
     ]
    },
    {
     "name": "stderr",
     "output_type": "stream",
     "text": [
      " 89%|████████▉ | 51/57 [01:28<00:10,  1.71s/it]"
     ]
    },
    {
     "name": "stdout",
     "output_type": "stream",
     "text": [
      "Train loss: 1.3685458898544312\n"
     ]
    },
    {
     "name": "stderr",
     "output_type": "stream",
     "text": [
      "100%|██████████| 57/57 [01:37<00:00,  1.71s/it]\n",
      "Validation: 100%|██████████| 7/7 [00:11<00:00,  1.71s/it]\n"
     ]
    },
    {
     "name": "stdout",
     "output_type": "stream",
     "text": [
      "Validation loss = [tensor(1.8563, device='cuda:0', grad_fn=<DivBackward0>), tensor(1.7085, device='cuda:0', grad_fn=<DivBackward0>), tensor(1.8367, device='cuda:0', grad_fn=<DivBackward0>), tensor(1.6290, device='cuda:0', grad_fn=<DivBackward0>), tensor(1.6546, device='cuda:0', grad_fn=<DivBackward0>), tensor(1.6288, device='cuda:0', grad_fn=<DivBackward0>), tensor(1.4934, device='cuda:0', grad_fn=<DivBackward0>), tensor(1.4674, device='cuda:0', grad_fn=<DivBackward0>), tensor(1.5490, device='cuda:0', grad_fn=<DivBackward0>), tensor(1.6865, device='cuda:0', grad_fn=<DivBackward0>), tensor(1.8506, device='cuda:0', grad_fn=<DivBackward0>), tensor(1.4970, device='cuda:0', grad_fn=<DivBackward0>), tensor(1.7092, device='cuda:0', grad_fn=<DivBackward0>), tensor(1.6074, device='cuda:0', grad_fn=<DivBackward0>), tensor(1.4997, device='cuda:0', grad_fn=<DivBackward0>), tensor(1.6789, device='cuda:0', grad_fn=<DivBackward0>), tensor(1.5519, device='cuda:0', grad_fn=<DivBackward0>), tensor(1.4611, device='cuda:0', grad_fn=<DivBackward0>), tensor(1.4611, device='cuda:0', grad_fn=<DivBackward0>), tensor(1.6216, device='cuda:0', grad_fn=<DivBackward0>), tensor(1.4452, device='cuda:0', grad_fn=<DivBackward0>), tensor(1.6208, device='cuda:0', grad_fn=<DivBackward0>), tensor(1.5803, device='cuda:0', grad_fn=<DivBackward0>), tensor(1.4840, device='cuda:0', grad_fn=<DivBackward0>), tensor(1.4245, device='cuda:0', grad_fn=<DivBackward0>), tensor(1.3859, device='cuda:0', grad_fn=<DivBackward0>), tensor(1.7199, device='cuda:0', grad_fn=<DivBackward0>), tensor(1.6597, device='cuda:0', grad_fn=<DivBackward0>), tensor(1.5217, device='cuda:0', grad_fn=<DivBackward0>), tensor(1.4703, device='cuda:0', grad_fn=<DivBackward0>), tensor(1.6512, device='cuda:0', grad_fn=<DivBackward0>), tensor(1.4858, device='cuda:0', grad_fn=<DivBackward0>), tensor(1.5360, device='cuda:0', grad_fn=<DivBackward0>), tensor(1.4833, device='cuda:0', grad_fn=<DivBackward0>), tensor(1.6907, device='cuda:0', grad_fn=<DivBackward0>), tensor(1.4465, device='cuda:0', grad_fn=<DivBackward0>), tensor(1.5241, device='cuda:0', grad_fn=<DivBackward0>), tensor(1.4801, device='cuda:0', grad_fn=<DivBackward0>), tensor(1.3726, device='cuda:0', grad_fn=<DivBackward0>), tensor(1.5140, device='cuda:0', grad_fn=<DivBackward0>), tensor(1.5298, device='cuda:0', grad_fn=<DivBackward0>), tensor(1.3662, device='cuda:0', grad_fn=<DivBackward0>), tensor(1.7593, device='cuda:0', grad_fn=<DivBackward0>), tensor(1.5053, device='cuda:0', grad_fn=<DivBackward0>), tensor(1.6024, device='cuda:0', grad_fn=<DivBackward0>), tensor(1.4355, device='cuda:0', grad_fn=<DivBackward0>), tensor(1.5013, device='cuda:0', grad_fn=<DivBackward0>), tensor(1.5995, device='cuda:0', grad_fn=<DivBackward0>), tensor(1.5221, device='cuda:0', grad_fn=<DivBackward0>), tensor(1.3972, device='cuda:0', grad_fn=<DivBackward0>), tensor(1.5361, device='cuda:0', grad_fn=<DivBackward0>), tensor(1.6612, device='cuda:0', grad_fn=<DivBackward0>), tensor(1.3740, device='cuda:0', grad_fn=<DivBackward0>), tensor(1.4175, device='cuda:0', grad_fn=<DivBackward0>)]\n",
      "Epoch 5\n"
     ]
    },
    {
     "name": "stderr",
     "output_type": "stream",
     "text": [
      "  2%|▏         | 1/57 [00:03<02:48,  3.00s/it]"
     ]
    },
    {
     "name": "stdout",
     "output_type": "stream",
     "text": [
      "Train loss: 0.13038115203380585\n"
     ]
    },
    {
     "name": "stderr",
     "output_type": "stream",
     "text": [
      " 19%|█▉        | 11/57 [00:20<01:19,  1.72s/it]"
     ]
    },
    {
     "name": "stdout",
     "output_type": "stream",
     "text": [
      "Train loss: 1.4250913858413696\n"
     ]
    },
    {
     "name": "stderr",
     "output_type": "stream",
     "text": [
      " 37%|███▋      | 21/57 [00:37<01:01,  1.71s/it]"
     ]
    },
    {
     "name": "stdout",
     "output_type": "stream",
     "text": [
      "Train loss: 1.4900869131088257\n"
     ]
    },
    {
     "name": "stderr",
     "output_type": "stream",
     "text": [
      " 54%|█████▍    | 31/57 [00:54<00:44,  1.71s/it]"
     ]
    },
    {
     "name": "stdout",
     "output_type": "stream",
     "text": [
      "Train loss: 1.5508761405944824\n"
     ]
    },
    {
     "name": "stderr",
     "output_type": "stream",
     "text": [
      " 72%|███████▏  | 41/57 [01:11<00:27,  1.71s/it]"
     ]
    },
    {
     "name": "stdout",
     "output_type": "stream",
     "text": [
      "Train loss: 1.4817146062850952\n"
     ]
    },
    {
     "name": "stderr",
     "output_type": "stream",
     "text": [
      " 89%|████████▉ | 51/57 [01:28<00:10,  1.71s/it]"
     ]
    },
    {
     "name": "stdout",
     "output_type": "stream",
     "text": [
      "Train loss: 1.4822348356246948\n"
     ]
    },
    {
     "name": "stderr",
     "output_type": "stream",
     "text": [
      "100%|██████████| 57/57 [01:37<00:00,  1.71s/it]\n",
      "Validation: 100%|██████████| 7/7 [00:11<00:00,  1.70s/it]\n"
     ]
    },
    {
     "name": "stdout",
     "output_type": "stream",
     "text": [
      "Validation loss = [tensor(1.8563, device='cuda:0', grad_fn=<DivBackward0>), tensor(1.7085, device='cuda:0', grad_fn=<DivBackward0>), tensor(1.8367, device='cuda:0', grad_fn=<DivBackward0>), tensor(1.6290, device='cuda:0', grad_fn=<DivBackward0>), tensor(1.6546, device='cuda:0', grad_fn=<DivBackward0>), tensor(1.6288, device='cuda:0', grad_fn=<DivBackward0>), tensor(1.4934, device='cuda:0', grad_fn=<DivBackward0>), tensor(1.4674, device='cuda:0', grad_fn=<DivBackward0>), tensor(1.5490, device='cuda:0', grad_fn=<DivBackward0>), tensor(1.6865, device='cuda:0', grad_fn=<DivBackward0>), tensor(1.8506, device='cuda:0', grad_fn=<DivBackward0>), tensor(1.4970, device='cuda:0', grad_fn=<DivBackward0>), tensor(1.7092, device='cuda:0', grad_fn=<DivBackward0>), tensor(1.6074, device='cuda:0', grad_fn=<DivBackward0>), tensor(1.4997, device='cuda:0', grad_fn=<DivBackward0>), tensor(1.6789, device='cuda:0', grad_fn=<DivBackward0>), tensor(1.5519, device='cuda:0', grad_fn=<DivBackward0>), tensor(1.4611, device='cuda:0', grad_fn=<DivBackward0>), tensor(1.4611, device='cuda:0', grad_fn=<DivBackward0>), tensor(1.6216, device='cuda:0', grad_fn=<DivBackward0>), tensor(1.4452, device='cuda:0', grad_fn=<DivBackward0>), tensor(1.6208, device='cuda:0', grad_fn=<DivBackward0>), tensor(1.5803, device='cuda:0', grad_fn=<DivBackward0>), tensor(1.4840, device='cuda:0', grad_fn=<DivBackward0>), tensor(1.4245, device='cuda:0', grad_fn=<DivBackward0>), tensor(1.3859, device='cuda:0', grad_fn=<DivBackward0>), tensor(1.7199, device='cuda:0', grad_fn=<DivBackward0>), tensor(1.6597, device='cuda:0', grad_fn=<DivBackward0>), tensor(1.5217, device='cuda:0', grad_fn=<DivBackward0>), tensor(1.4703, device='cuda:0', grad_fn=<DivBackward0>), tensor(1.6512, device='cuda:0', grad_fn=<DivBackward0>), tensor(1.4858, device='cuda:0', grad_fn=<DivBackward0>), tensor(1.5360, device='cuda:0', grad_fn=<DivBackward0>), tensor(1.4833, device='cuda:0', grad_fn=<DivBackward0>), tensor(1.6907, device='cuda:0', grad_fn=<DivBackward0>), tensor(1.4465, device='cuda:0', grad_fn=<DivBackward0>), tensor(1.5241, device='cuda:0', grad_fn=<DivBackward0>), tensor(1.4801, device='cuda:0', grad_fn=<DivBackward0>), tensor(1.3726, device='cuda:0', grad_fn=<DivBackward0>), tensor(1.5140, device='cuda:0', grad_fn=<DivBackward0>), tensor(1.5298, device='cuda:0', grad_fn=<DivBackward0>), tensor(1.3662, device='cuda:0', grad_fn=<DivBackward0>), tensor(1.7593, device='cuda:0', grad_fn=<DivBackward0>), tensor(1.5053, device='cuda:0', grad_fn=<DivBackward0>), tensor(1.6024, device='cuda:0', grad_fn=<DivBackward0>), tensor(1.4355, device='cuda:0', grad_fn=<DivBackward0>), tensor(1.5013, device='cuda:0', grad_fn=<DivBackward0>), tensor(1.5995, device='cuda:0', grad_fn=<DivBackward0>), tensor(1.5221, device='cuda:0', grad_fn=<DivBackward0>), tensor(1.3972, device='cuda:0', grad_fn=<DivBackward0>), tensor(1.5361, device='cuda:0', grad_fn=<DivBackward0>), tensor(1.6612, device='cuda:0', grad_fn=<DivBackward0>), tensor(1.3740, device='cuda:0', grad_fn=<DivBackward0>), tensor(1.4175, device='cuda:0', grad_fn=<DivBackward0>), tensor(1.5361, device='cuda:0', grad_fn=<DivBackward0>)]\n",
      "Epoch 6\n"
     ]
    },
    {
     "name": "stderr",
     "output_type": "stream",
     "text": [
      "  2%|▏         | 1/57 [00:03<02:53,  3.10s/it]"
     ]
    },
    {
     "name": "stdout",
     "output_type": "stream",
     "text": [
      "Train loss: 0.17146269977092743\n"
     ]
    },
    {
     "name": "stderr",
     "output_type": "stream",
     "text": [
      " 19%|█▉        | 11/57 [00:20<01:19,  1.72s/it]"
     ]
    },
    {
     "name": "stdout",
     "output_type": "stream",
     "text": [
      "Train loss: 1.4461297988891602\n"
     ]
    },
    {
     "name": "stderr",
     "output_type": "stream",
     "text": [
      " 37%|███▋      | 21/57 [00:37<01:01,  1.71s/it]"
     ]
    },
    {
     "name": "stdout",
     "output_type": "stream",
     "text": [
      "Train loss: 1.3518966436386108\n"
     ]
    },
    {
     "name": "stderr",
     "output_type": "stream",
     "text": [
      " 54%|█████▍    | 31/57 [00:54<00:44,  1.71s/it]"
     ]
    },
    {
     "name": "stdout",
     "output_type": "stream",
     "text": [
      "Train loss: 1.454175353050232\n"
     ]
    },
    {
     "name": "stderr",
     "output_type": "stream",
     "text": [
      " 72%|███████▏  | 41/57 [01:11<00:27,  1.70s/it]"
     ]
    },
    {
     "name": "stdout",
     "output_type": "stream",
     "text": [
      "Train loss: 1.549406886100769\n"
     ]
    },
    {
     "name": "stderr",
     "output_type": "stream",
     "text": [
      " 89%|████████▉ | 51/57 [01:28<00:10,  1.70s/it]"
     ]
    },
    {
     "name": "stdout",
     "output_type": "stream",
     "text": [
      "Train loss: 1.45100998878479\n"
     ]
    },
    {
     "name": "stderr",
     "output_type": "stream",
     "text": [
      "100%|██████████| 57/57 [01:37<00:00,  1.71s/it]\n",
      "Validation: 100%|██████████| 7/7 [00:11<00:00,  1.71s/it]\n"
     ]
    },
    {
     "name": "stdout",
     "output_type": "stream",
     "text": [
      "Validation loss = [tensor(1.8563, device='cuda:0', grad_fn=<DivBackward0>), tensor(1.7085, device='cuda:0', grad_fn=<DivBackward0>), tensor(1.8367, device='cuda:0', grad_fn=<DivBackward0>), tensor(1.6290, device='cuda:0', grad_fn=<DivBackward0>), tensor(1.6546, device='cuda:0', grad_fn=<DivBackward0>), tensor(1.6288, device='cuda:0', grad_fn=<DivBackward0>), tensor(1.4934, device='cuda:0', grad_fn=<DivBackward0>), tensor(1.4674, device='cuda:0', grad_fn=<DivBackward0>), tensor(1.5490, device='cuda:0', grad_fn=<DivBackward0>), tensor(1.6865, device='cuda:0', grad_fn=<DivBackward0>), tensor(1.8506, device='cuda:0', grad_fn=<DivBackward0>), tensor(1.4970, device='cuda:0', grad_fn=<DivBackward0>), tensor(1.7092, device='cuda:0', grad_fn=<DivBackward0>), tensor(1.6074, device='cuda:0', grad_fn=<DivBackward0>), tensor(1.4997, device='cuda:0', grad_fn=<DivBackward0>), tensor(1.6789, device='cuda:0', grad_fn=<DivBackward0>), tensor(1.5519, device='cuda:0', grad_fn=<DivBackward0>), tensor(1.4611, device='cuda:0', grad_fn=<DivBackward0>), tensor(1.4611, device='cuda:0', grad_fn=<DivBackward0>), tensor(1.6216, device='cuda:0', grad_fn=<DivBackward0>), tensor(1.4452, device='cuda:0', grad_fn=<DivBackward0>), tensor(1.6208, device='cuda:0', grad_fn=<DivBackward0>), tensor(1.5803, device='cuda:0', grad_fn=<DivBackward0>), tensor(1.4840, device='cuda:0', grad_fn=<DivBackward0>), tensor(1.4245, device='cuda:0', grad_fn=<DivBackward0>), tensor(1.3859, device='cuda:0', grad_fn=<DivBackward0>), tensor(1.7199, device='cuda:0', grad_fn=<DivBackward0>), tensor(1.6597, device='cuda:0', grad_fn=<DivBackward0>), tensor(1.5217, device='cuda:0', grad_fn=<DivBackward0>), tensor(1.4703, device='cuda:0', grad_fn=<DivBackward0>), tensor(1.6512, device='cuda:0', grad_fn=<DivBackward0>), tensor(1.4858, device='cuda:0', grad_fn=<DivBackward0>), tensor(1.5360, device='cuda:0', grad_fn=<DivBackward0>), tensor(1.4833, device='cuda:0', grad_fn=<DivBackward0>), tensor(1.6907, device='cuda:0', grad_fn=<DivBackward0>), tensor(1.4465, device='cuda:0', grad_fn=<DivBackward0>), tensor(1.5241, device='cuda:0', grad_fn=<DivBackward0>), tensor(1.4801, device='cuda:0', grad_fn=<DivBackward0>), tensor(1.3726, device='cuda:0', grad_fn=<DivBackward0>), tensor(1.5140, device='cuda:0', grad_fn=<DivBackward0>), tensor(1.5298, device='cuda:0', grad_fn=<DivBackward0>), tensor(1.3662, device='cuda:0', grad_fn=<DivBackward0>), tensor(1.7593, device='cuda:0', grad_fn=<DivBackward0>), tensor(1.5053, device='cuda:0', grad_fn=<DivBackward0>), tensor(1.6024, device='cuda:0', grad_fn=<DivBackward0>), tensor(1.4355, device='cuda:0', grad_fn=<DivBackward0>), tensor(1.5013, device='cuda:0', grad_fn=<DivBackward0>), tensor(1.5995, device='cuda:0', grad_fn=<DivBackward0>), tensor(1.5221, device='cuda:0', grad_fn=<DivBackward0>), tensor(1.3972, device='cuda:0', grad_fn=<DivBackward0>), tensor(1.5361, device='cuda:0', grad_fn=<DivBackward0>), tensor(1.6612, device='cuda:0', grad_fn=<DivBackward0>), tensor(1.3740, device='cuda:0', grad_fn=<DivBackward0>), tensor(1.4175, device='cuda:0', grad_fn=<DivBackward0>), tensor(1.5361, device='cuda:0', grad_fn=<DivBackward0>), tensor(1.6594, device='cuda:0', grad_fn=<DivBackward0>)]\n",
      "Epoch 7\n"
     ]
    },
    {
     "name": "stderr",
     "output_type": "stream",
     "text": [
      "  2%|▏         | 1/57 [00:03<02:50,  3.05s/it]"
     ]
    },
    {
     "name": "stdout",
     "output_type": "stream",
     "text": [
      "Train loss: 0.17032009363174438\n"
     ]
    },
    {
     "name": "stderr",
     "output_type": "stream",
     "text": [
      " 19%|█▉        | 11/57 [00:20<01:18,  1.72s/it]"
     ]
    },
    {
     "name": "stdout",
     "output_type": "stream",
     "text": [
      "Train loss: 1.5051116943359375\n"
     ]
    },
    {
     "name": "stderr",
     "output_type": "stream",
     "text": [
      " 37%|███▋      | 21/57 [00:37<01:01,  1.70s/it]"
     ]
    },
    {
     "name": "stdout",
     "output_type": "stream",
     "text": [
      "Train loss: 1.4363259077072144\n"
     ]
    },
    {
     "name": "stderr",
     "output_type": "stream",
     "text": [
      " 54%|█████▍    | 31/57 [00:54<00:44,  1.71s/it]"
     ]
    },
    {
     "name": "stdout",
     "output_type": "stream",
     "text": [
      "Train loss: 1.6052826642990112\n"
     ]
    },
    {
     "name": "stderr",
     "output_type": "stream",
     "text": [
      " 72%|███████▏  | 41/57 [01:11<00:27,  1.70s/it]"
     ]
    },
    {
     "name": "stdout",
     "output_type": "stream",
     "text": [
      "Train loss: 1.5541901588439941\n"
     ]
    },
    {
     "name": "stderr",
     "output_type": "stream",
     "text": [
      " 89%|████████▉ | 51/57 [01:28<00:10,  1.70s/it]"
     ]
    },
    {
     "name": "stdout",
     "output_type": "stream",
     "text": [
      "Train loss: 1.4407875537872314\n"
     ]
    },
    {
     "name": "stderr",
     "output_type": "stream",
     "text": [
      "100%|██████████| 57/57 [01:37<00:00,  1.70s/it]\n",
      "Validation: 100%|██████████| 7/7 [00:11<00:00,  1.71s/it]\n"
     ]
    },
    {
     "name": "stdout",
     "output_type": "stream",
     "text": [
      "Validation loss = [tensor(1.8563, device='cuda:0', grad_fn=<DivBackward0>), tensor(1.7085, device='cuda:0', grad_fn=<DivBackward0>), tensor(1.8367, device='cuda:0', grad_fn=<DivBackward0>), tensor(1.6290, device='cuda:0', grad_fn=<DivBackward0>), tensor(1.6546, device='cuda:0', grad_fn=<DivBackward0>), tensor(1.6288, device='cuda:0', grad_fn=<DivBackward0>), tensor(1.4934, device='cuda:0', grad_fn=<DivBackward0>), tensor(1.4674, device='cuda:0', grad_fn=<DivBackward0>), tensor(1.5490, device='cuda:0', grad_fn=<DivBackward0>), tensor(1.6865, device='cuda:0', grad_fn=<DivBackward0>), tensor(1.8506, device='cuda:0', grad_fn=<DivBackward0>), tensor(1.4970, device='cuda:0', grad_fn=<DivBackward0>), tensor(1.7092, device='cuda:0', grad_fn=<DivBackward0>), tensor(1.6074, device='cuda:0', grad_fn=<DivBackward0>), tensor(1.4997, device='cuda:0', grad_fn=<DivBackward0>), tensor(1.6789, device='cuda:0', grad_fn=<DivBackward0>), tensor(1.5519, device='cuda:0', grad_fn=<DivBackward0>), tensor(1.4611, device='cuda:0', grad_fn=<DivBackward0>), tensor(1.4611, device='cuda:0', grad_fn=<DivBackward0>), tensor(1.6216, device='cuda:0', grad_fn=<DivBackward0>), tensor(1.4452, device='cuda:0', grad_fn=<DivBackward0>), tensor(1.6208, device='cuda:0', grad_fn=<DivBackward0>), tensor(1.5803, device='cuda:0', grad_fn=<DivBackward0>), tensor(1.4840, device='cuda:0', grad_fn=<DivBackward0>), tensor(1.4245, device='cuda:0', grad_fn=<DivBackward0>), tensor(1.3859, device='cuda:0', grad_fn=<DivBackward0>), tensor(1.7199, device='cuda:0', grad_fn=<DivBackward0>), tensor(1.6597, device='cuda:0', grad_fn=<DivBackward0>), tensor(1.5217, device='cuda:0', grad_fn=<DivBackward0>), tensor(1.4703, device='cuda:0', grad_fn=<DivBackward0>), tensor(1.6512, device='cuda:0', grad_fn=<DivBackward0>), tensor(1.4858, device='cuda:0', grad_fn=<DivBackward0>), tensor(1.5360, device='cuda:0', grad_fn=<DivBackward0>), tensor(1.4833, device='cuda:0', grad_fn=<DivBackward0>), tensor(1.6907, device='cuda:0', grad_fn=<DivBackward0>), tensor(1.4465, device='cuda:0', grad_fn=<DivBackward0>), tensor(1.5241, device='cuda:0', grad_fn=<DivBackward0>), tensor(1.4801, device='cuda:0', grad_fn=<DivBackward0>), tensor(1.3726, device='cuda:0', grad_fn=<DivBackward0>), tensor(1.5140, device='cuda:0', grad_fn=<DivBackward0>), tensor(1.5298, device='cuda:0', grad_fn=<DivBackward0>), tensor(1.3662, device='cuda:0', grad_fn=<DivBackward0>), tensor(1.7593, device='cuda:0', grad_fn=<DivBackward0>), tensor(1.5053, device='cuda:0', grad_fn=<DivBackward0>), tensor(1.6024, device='cuda:0', grad_fn=<DivBackward0>), tensor(1.4355, device='cuda:0', grad_fn=<DivBackward0>), tensor(1.5013, device='cuda:0', grad_fn=<DivBackward0>), tensor(1.5995, device='cuda:0', grad_fn=<DivBackward0>), tensor(1.5221, device='cuda:0', grad_fn=<DivBackward0>), tensor(1.3972, device='cuda:0', grad_fn=<DivBackward0>), tensor(1.5361, device='cuda:0', grad_fn=<DivBackward0>), tensor(1.6612, device='cuda:0', grad_fn=<DivBackward0>), tensor(1.3740, device='cuda:0', grad_fn=<DivBackward0>), tensor(1.4175, device='cuda:0', grad_fn=<DivBackward0>), tensor(1.5361, device='cuda:0', grad_fn=<DivBackward0>), tensor(1.6594, device='cuda:0', grad_fn=<DivBackward0>), tensor(1.3280, device='cuda:0', grad_fn=<DivBackward0>)]\n",
      "Epoch 8\n"
     ]
    },
    {
     "name": "stderr",
     "output_type": "stream",
     "text": [
      "  2%|▏         | 1/57 [00:03<02:50,  3.04s/it]"
     ]
    },
    {
     "name": "stdout",
     "output_type": "stream",
     "text": [
      "Train loss: 0.1173582598567009\n"
     ]
    },
    {
     "name": "stderr",
     "output_type": "stream",
     "text": [
      " 19%|█▉        | 11/57 [00:20<01:18,  1.71s/it]"
     ]
    },
    {
     "name": "stdout",
     "output_type": "stream",
     "text": [
      "Train loss: 1.3164180517196655\n"
     ]
    },
    {
     "name": "stderr",
     "output_type": "stream",
     "text": [
      " 37%|███▋      | 21/57 [00:37<01:01,  1.70s/it]"
     ]
    },
    {
     "name": "stdout",
     "output_type": "stream",
     "text": [
      "Train loss: 1.3685476779937744\n"
     ]
    },
    {
     "name": "stderr",
     "output_type": "stream",
     "text": [
      " 54%|█████▍    | 31/57 [00:54<00:44,  1.70s/it]"
     ]
    },
    {
     "name": "stdout",
     "output_type": "stream",
     "text": [
      "Train loss: 1.4123538732528687\n"
     ]
    },
    {
     "name": "stderr",
     "output_type": "stream",
     "text": [
      " 72%|███████▏  | 41/57 [01:11<00:27,  1.70s/it]"
     ]
    },
    {
     "name": "stdout",
     "output_type": "stream",
     "text": [
      "Train loss: 1.4798222780227661\n"
     ]
    },
    {
     "name": "stderr",
     "output_type": "stream",
     "text": [
      " 89%|████████▉ | 51/57 [01:28<00:10,  1.70s/it]"
     ]
    },
    {
     "name": "stdout",
     "output_type": "stream",
     "text": [
      "Train loss: 1.4506105184555054\n"
     ]
    },
    {
     "name": "stderr",
     "output_type": "stream",
     "text": [
      "100%|██████████| 57/57 [01:37<00:00,  1.70s/it]\n",
      "Validation: 100%|██████████| 7/7 [00:11<00:00,  1.69s/it]\n"
     ]
    },
    {
     "name": "stdout",
     "output_type": "stream",
     "text": [
      "Validation loss = [tensor(1.8563, device='cuda:0', grad_fn=<DivBackward0>), tensor(1.7085, device='cuda:0', grad_fn=<DivBackward0>), tensor(1.8367, device='cuda:0', grad_fn=<DivBackward0>), tensor(1.6290, device='cuda:0', grad_fn=<DivBackward0>), tensor(1.6546, device='cuda:0', grad_fn=<DivBackward0>), tensor(1.6288, device='cuda:0', grad_fn=<DivBackward0>), tensor(1.4934, device='cuda:0', grad_fn=<DivBackward0>), tensor(1.4674, device='cuda:0', grad_fn=<DivBackward0>), tensor(1.5490, device='cuda:0', grad_fn=<DivBackward0>), tensor(1.6865, device='cuda:0', grad_fn=<DivBackward0>), tensor(1.8506, device='cuda:0', grad_fn=<DivBackward0>), tensor(1.4970, device='cuda:0', grad_fn=<DivBackward0>), tensor(1.7092, device='cuda:0', grad_fn=<DivBackward0>), tensor(1.6074, device='cuda:0', grad_fn=<DivBackward0>), tensor(1.4997, device='cuda:0', grad_fn=<DivBackward0>), tensor(1.6789, device='cuda:0', grad_fn=<DivBackward0>), tensor(1.5519, device='cuda:0', grad_fn=<DivBackward0>), tensor(1.4611, device='cuda:0', grad_fn=<DivBackward0>), tensor(1.4611, device='cuda:0', grad_fn=<DivBackward0>), tensor(1.6216, device='cuda:0', grad_fn=<DivBackward0>), tensor(1.4452, device='cuda:0', grad_fn=<DivBackward0>), tensor(1.6208, device='cuda:0', grad_fn=<DivBackward0>), tensor(1.5803, device='cuda:0', grad_fn=<DivBackward0>), tensor(1.4840, device='cuda:0', grad_fn=<DivBackward0>), tensor(1.4245, device='cuda:0', grad_fn=<DivBackward0>), tensor(1.3859, device='cuda:0', grad_fn=<DivBackward0>), tensor(1.7199, device='cuda:0', grad_fn=<DivBackward0>), tensor(1.6597, device='cuda:0', grad_fn=<DivBackward0>), tensor(1.5217, device='cuda:0', grad_fn=<DivBackward0>), tensor(1.4703, device='cuda:0', grad_fn=<DivBackward0>), tensor(1.6512, device='cuda:0', grad_fn=<DivBackward0>), tensor(1.4858, device='cuda:0', grad_fn=<DivBackward0>), tensor(1.5360, device='cuda:0', grad_fn=<DivBackward0>), tensor(1.4833, device='cuda:0', grad_fn=<DivBackward0>), tensor(1.6907, device='cuda:0', grad_fn=<DivBackward0>), tensor(1.4465, device='cuda:0', grad_fn=<DivBackward0>), tensor(1.5241, device='cuda:0', grad_fn=<DivBackward0>), tensor(1.4801, device='cuda:0', grad_fn=<DivBackward0>), tensor(1.3726, device='cuda:0', grad_fn=<DivBackward0>), tensor(1.5140, device='cuda:0', grad_fn=<DivBackward0>), tensor(1.5298, device='cuda:0', grad_fn=<DivBackward0>), tensor(1.3662, device='cuda:0', grad_fn=<DivBackward0>), tensor(1.7593, device='cuda:0', grad_fn=<DivBackward0>), tensor(1.5053, device='cuda:0', grad_fn=<DivBackward0>), tensor(1.6024, device='cuda:0', grad_fn=<DivBackward0>), tensor(1.4355, device='cuda:0', grad_fn=<DivBackward0>), tensor(1.5013, device='cuda:0', grad_fn=<DivBackward0>), tensor(1.5995, device='cuda:0', grad_fn=<DivBackward0>), tensor(1.5221, device='cuda:0', grad_fn=<DivBackward0>), tensor(1.3972, device='cuda:0', grad_fn=<DivBackward0>), tensor(1.5361, device='cuda:0', grad_fn=<DivBackward0>), tensor(1.6612, device='cuda:0', grad_fn=<DivBackward0>), tensor(1.3740, device='cuda:0', grad_fn=<DivBackward0>), tensor(1.4175, device='cuda:0', grad_fn=<DivBackward0>), tensor(1.5361, device='cuda:0', grad_fn=<DivBackward0>), tensor(1.6594, device='cuda:0', grad_fn=<DivBackward0>), tensor(1.3280, device='cuda:0', grad_fn=<DivBackward0>), tensor(1.8417, device='cuda:0', grad_fn=<DivBackward0>)]\n",
      "Epoch 9\n"
     ]
    },
    {
     "name": "stderr",
     "output_type": "stream",
     "text": [
      "  2%|▏         | 1/57 [00:02<02:46,  2.98s/it]"
     ]
    },
    {
     "name": "stdout",
     "output_type": "stream",
     "text": [
      "Train loss: 0.1778641939163208\n"
     ]
    },
    {
     "name": "stderr",
     "output_type": "stream",
     "text": [
      " 19%|█▉        | 11/57 [00:20<01:18,  1.72s/it]"
     ]
    },
    {
     "name": "stdout",
     "output_type": "stream",
     "text": [
      "Train loss: 1.6071306467056274\n"
     ]
    },
    {
     "name": "stderr",
     "output_type": "stream",
     "text": [
      " 37%|███▋      | 21/57 [00:37<01:01,  1.70s/it]"
     ]
    },
    {
     "name": "stdout",
     "output_type": "stream",
     "text": [
      "Train loss: 1.5122216939926147\n"
     ]
    },
    {
     "name": "stderr",
     "output_type": "stream",
     "text": [
      " 54%|█████▍    | 31/57 [00:54<00:44,  1.70s/it]"
     ]
    },
    {
     "name": "stdout",
     "output_type": "stream",
     "text": [
      "Train loss: 1.4245953559875488\n"
     ]
    },
    {
     "name": "stderr",
     "output_type": "stream",
     "text": [
      " 72%|███████▏  | 41/57 [01:11<00:27,  1.70s/it]"
     ]
    },
    {
     "name": "stdout",
     "output_type": "stream",
     "text": [
      "Train loss: 1.462090015411377\n"
     ]
    },
    {
     "name": "stderr",
     "output_type": "stream",
     "text": [
      " 89%|████████▉ | 51/57 [01:28<00:10,  1.70s/it]"
     ]
    },
    {
     "name": "stdout",
     "output_type": "stream",
     "text": [
      "Train loss: 1.3501991033554077\n"
     ]
    },
    {
     "name": "stderr",
     "output_type": "stream",
     "text": [
      "100%|██████████| 57/57 [01:37<00:00,  1.70s/it]\n",
      "Validation: 100%|██████████| 7/7 [00:11<00:00,  1.71s/it]\n"
     ]
    },
    {
     "name": "stdout",
     "output_type": "stream",
     "text": [
      "Validation loss = [tensor(1.8563, device='cuda:0', grad_fn=<DivBackward0>), tensor(1.7085, device='cuda:0', grad_fn=<DivBackward0>), tensor(1.8367, device='cuda:0', grad_fn=<DivBackward0>), tensor(1.6290, device='cuda:0', grad_fn=<DivBackward0>), tensor(1.6546, device='cuda:0', grad_fn=<DivBackward0>), tensor(1.6288, device='cuda:0', grad_fn=<DivBackward0>), tensor(1.4934, device='cuda:0', grad_fn=<DivBackward0>), tensor(1.4674, device='cuda:0', grad_fn=<DivBackward0>), tensor(1.5490, device='cuda:0', grad_fn=<DivBackward0>), tensor(1.6865, device='cuda:0', grad_fn=<DivBackward0>), tensor(1.8506, device='cuda:0', grad_fn=<DivBackward0>), tensor(1.4970, device='cuda:0', grad_fn=<DivBackward0>), tensor(1.7092, device='cuda:0', grad_fn=<DivBackward0>), tensor(1.6074, device='cuda:0', grad_fn=<DivBackward0>), tensor(1.4997, device='cuda:0', grad_fn=<DivBackward0>), tensor(1.6789, device='cuda:0', grad_fn=<DivBackward0>), tensor(1.5519, device='cuda:0', grad_fn=<DivBackward0>), tensor(1.4611, device='cuda:0', grad_fn=<DivBackward0>), tensor(1.4611, device='cuda:0', grad_fn=<DivBackward0>), tensor(1.6216, device='cuda:0', grad_fn=<DivBackward0>), tensor(1.4452, device='cuda:0', grad_fn=<DivBackward0>), tensor(1.6208, device='cuda:0', grad_fn=<DivBackward0>), tensor(1.5803, device='cuda:0', grad_fn=<DivBackward0>), tensor(1.4840, device='cuda:0', grad_fn=<DivBackward0>), tensor(1.4245, device='cuda:0', grad_fn=<DivBackward0>), tensor(1.3859, device='cuda:0', grad_fn=<DivBackward0>), tensor(1.7199, device='cuda:0', grad_fn=<DivBackward0>), tensor(1.6597, device='cuda:0', grad_fn=<DivBackward0>), tensor(1.5217, device='cuda:0', grad_fn=<DivBackward0>), tensor(1.4703, device='cuda:0', grad_fn=<DivBackward0>), tensor(1.6512, device='cuda:0', grad_fn=<DivBackward0>), tensor(1.4858, device='cuda:0', grad_fn=<DivBackward0>), tensor(1.5360, device='cuda:0', grad_fn=<DivBackward0>), tensor(1.4833, device='cuda:0', grad_fn=<DivBackward0>), tensor(1.6907, device='cuda:0', grad_fn=<DivBackward0>), tensor(1.4465, device='cuda:0', grad_fn=<DivBackward0>), tensor(1.5241, device='cuda:0', grad_fn=<DivBackward0>), tensor(1.4801, device='cuda:0', grad_fn=<DivBackward0>), tensor(1.3726, device='cuda:0', grad_fn=<DivBackward0>), tensor(1.5140, device='cuda:0', grad_fn=<DivBackward0>), tensor(1.5298, device='cuda:0', grad_fn=<DivBackward0>), tensor(1.3662, device='cuda:0', grad_fn=<DivBackward0>), tensor(1.7593, device='cuda:0', grad_fn=<DivBackward0>), tensor(1.5053, device='cuda:0', grad_fn=<DivBackward0>), tensor(1.6024, device='cuda:0', grad_fn=<DivBackward0>), tensor(1.4355, device='cuda:0', grad_fn=<DivBackward0>), tensor(1.5013, device='cuda:0', grad_fn=<DivBackward0>), tensor(1.5995, device='cuda:0', grad_fn=<DivBackward0>), tensor(1.5221, device='cuda:0', grad_fn=<DivBackward0>), tensor(1.3972, device='cuda:0', grad_fn=<DivBackward0>), tensor(1.5361, device='cuda:0', grad_fn=<DivBackward0>), tensor(1.6612, device='cuda:0', grad_fn=<DivBackward0>), tensor(1.3740, device='cuda:0', grad_fn=<DivBackward0>), tensor(1.4175, device='cuda:0', grad_fn=<DivBackward0>), tensor(1.5361, device='cuda:0', grad_fn=<DivBackward0>), tensor(1.6594, device='cuda:0', grad_fn=<DivBackward0>), tensor(1.3280, device='cuda:0', grad_fn=<DivBackward0>), tensor(1.8417, device='cuda:0', grad_fn=<DivBackward0>), tensor(1.6490, device='cuda:0', grad_fn=<DivBackward0>)]\n",
      "Epoch 10\n"
     ]
    },
    {
     "name": "stderr",
     "output_type": "stream",
     "text": [
      "  2%|▏         | 1/57 [00:03<02:50,  3.04s/it]"
     ]
    },
    {
     "name": "stdout",
     "output_type": "stream",
     "text": [
      "Train loss: 0.17849193513393402\n"
     ]
    },
    {
     "name": "stderr",
     "output_type": "stream",
     "text": [
      " 19%|█▉        | 11/57 [00:20<01:18,  1.72s/it]"
     ]
    },
    {
     "name": "stdout",
     "output_type": "stream",
     "text": [
      "Train loss: 1.5302646160125732\n"
     ]
    },
    {
     "name": "stderr",
     "output_type": "stream",
     "text": [
      " 37%|███▋      | 21/57 [00:37<01:01,  1.71s/it]"
     ]
    },
    {
     "name": "stdout",
     "output_type": "stream",
     "text": [
      "Train loss: 1.4391429424285889\n"
     ]
    },
    {
     "name": "stderr",
     "output_type": "stream",
     "text": [
      " 54%|█████▍    | 31/57 [00:54<00:44,  1.71s/it]"
     ]
    },
    {
     "name": "stdout",
     "output_type": "stream",
     "text": [
      "Train loss: 1.3682693243026733\n"
     ]
    },
    {
     "name": "stderr",
     "output_type": "stream",
     "text": [
      " 72%|███████▏  | 41/57 [01:11<00:27,  1.70s/it]"
     ]
    },
    {
     "name": "stdout",
     "output_type": "stream",
     "text": [
      "Train loss: 1.4122651815414429\n"
     ]
    },
    {
     "name": "stderr",
     "output_type": "stream",
     "text": [
      " 89%|████████▉ | 51/57 [01:28<00:10,  1.70s/it]"
     ]
    },
    {
     "name": "stdout",
     "output_type": "stream",
     "text": [
      "Train loss: 1.3997881412506104\n"
     ]
    },
    {
     "name": "stderr",
     "output_type": "stream",
     "text": [
      "100%|██████████| 57/57 [01:37<00:00,  1.70s/it]\n",
      "Validation: 100%|██████████| 7/7 [00:11<00:00,  1.70s/it]\n"
     ]
    },
    {
     "name": "stdout",
     "output_type": "stream",
     "text": [
      "Validation loss = [tensor(1.8563, device='cuda:0', grad_fn=<DivBackward0>), tensor(1.7085, device='cuda:0', grad_fn=<DivBackward0>), tensor(1.8367, device='cuda:0', grad_fn=<DivBackward0>), tensor(1.6290, device='cuda:0', grad_fn=<DivBackward0>), tensor(1.6546, device='cuda:0', grad_fn=<DivBackward0>), tensor(1.6288, device='cuda:0', grad_fn=<DivBackward0>), tensor(1.4934, device='cuda:0', grad_fn=<DivBackward0>), tensor(1.4674, device='cuda:0', grad_fn=<DivBackward0>), tensor(1.5490, device='cuda:0', grad_fn=<DivBackward0>), tensor(1.6865, device='cuda:0', grad_fn=<DivBackward0>), tensor(1.8506, device='cuda:0', grad_fn=<DivBackward0>), tensor(1.4970, device='cuda:0', grad_fn=<DivBackward0>), tensor(1.7092, device='cuda:0', grad_fn=<DivBackward0>), tensor(1.6074, device='cuda:0', grad_fn=<DivBackward0>), tensor(1.4997, device='cuda:0', grad_fn=<DivBackward0>), tensor(1.6789, device='cuda:0', grad_fn=<DivBackward0>), tensor(1.5519, device='cuda:0', grad_fn=<DivBackward0>), tensor(1.4611, device='cuda:0', grad_fn=<DivBackward0>), tensor(1.4611, device='cuda:0', grad_fn=<DivBackward0>), tensor(1.6216, device='cuda:0', grad_fn=<DivBackward0>), tensor(1.4452, device='cuda:0', grad_fn=<DivBackward0>), tensor(1.6208, device='cuda:0', grad_fn=<DivBackward0>), tensor(1.5803, device='cuda:0', grad_fn=<DivBackward0>), tensor(1.4840, device='cuda:0', grad_fn=<DivBackward0>), tensor(1.4245, device='cuda:0', grad_fn=<DivBackward0>), tensor(1.3859, device='cuda:0', grad_fn=<DivBackward0>), tensor(1.7199, device='cuda:0', grad_fn=<DivBackward0>), tensor(1.6597, device='cuda:0', grad_fn=<DivBackward0>), tensor(1.5217, device='cuda:0', grad_fn=<DivBackward0>), tensor(1.4703, device='cuda:0', grad_fn=<DivBackward0>), tensor(1.6512, device='cuda:0', grad_fn=<DivBackward0>), tensor(1.4858, device='cuda:0', grad_fn=<DivBackward0>), tensor(1.5360, device='cuda:0', grad_fn=<DivBackward0>), tensor(1.4833, device='cuda:0', grad_fn=<DivBackward0>), tensor(1.6907, device='cuda:0', grad_fn=<DivBackward0>), tensor(1.4465, device='cuda:0', grad_fn=<DivBackward0>), tensor(1.5241, device='cuda:0', grad_fn=<DivBackward0>), tensor(1.4801, device='cuda:0', grad_fn=<DivBackward0>), tensor(1.3726, device='cuda:0', grad_fn=<DivBackward0>), tensor(1.5140, device='cuda:0', grad_fn=<DivBackward0>), tensor(1.5298, device='cuda:0', grad_fn=<DivBackward0>), tensor(1.3662, device='cuda:0', grad_fn=<DivBackward0>), tensor(1.7593, device='cuda:0', grad_fn=<DivBackward0>), tensor(1.5053, device='cuda:0', grad_fn=<DivBackward0>), tensor(1.6024, device='cuda:0', grad_fn=<DivBackward0>), tensor(1.4355, device='cuda:0', grad_fn=<DivBackward0>), tensor(1.5013, device='cuda:0', grad_fn=<DivBackward0>), tensor(1.5995, device='cuda:0', grad_fn=<DivBackward0>), tensor(1.5221, device='cuda:0', grad_fn=<DivBackward0>), tensor(1.3972, device='cuda:0', grad_fn=<DivBackward0>), tensor(1.5361, device='cuda:0', grad_fn=<DivBackward0>), tensor(1.6612, device='cuda:0', grad_fn=<DivBackward0>), tensor(1.3740, device='cuda:0', grad_fn=<DivBackward0>), tensor(1.4175, device='cuda:0', grad_fn=<DivBackward0>), tensor(1.5361, device='cuda:0', grad_fn=<DivBackward0>), tensor(1.6594, device='cuda:0', grad_fn=<DivBackward0>), tensor(1.3280, device='cuda:0', grad_fn=<DivBackward0>), tensor(1.8417, device='cuda:0', grad_fn=<DivBackward0>), tensor(1.6490, device='cuda:0', grad_fn=<DivBackward0>), tensor(1.2985, device='cuda:0', grad_fn=<DivBackward0>)]\n",
      "Epoch 11\n"
     ]
    },
    {
     "name": "stderr",
     "output_type": "stream",
     "text": [
      "  2%|▏         | 1/57 [00:03<02:48,  3.02s/it]"
     ]
    },
    {
     "name": "stdout",
     "output_type": "stream",
     "text": [
      "Train loss: 0.15377886593341827\n"
     ]
    },
    {
     "name": "stderr",
     "output_type": "stream",
     "text": [
      " 19%|█▉        | 11/57 [00:20<01:19,  1.72s/it]"
     ]
    },
    {
     "name": "stdout",
     "output_type": "stream",
     "text": [
      "Train loss: 1.3856875896453857\n"
     ]
    },
    {
     "name": "stderr",
     "output_type": "stream",
     "text": [
      " 37%|███▋      | 21/57 [00:37<01:01,  1.71s/it]"
     ]
    },
    {
     "name": "stdout",
     "output_type": "stream",
     "text": [
      "Train loss: 1.3371517658233643\n"
     ]
    },
    {
     "name": "stderr",
     "output_type": "stream",
     "text": [
      " 54%|█████▍    | 31/57 [00:54<00:44,  1.71s/it]"
     ]
    },
    {
     "name": "stdout",
     "output_type": "stream",
     "text": [
      "Train loss: 1.4024041891098022\n"
     ]
    },
    {
     "name": "stderr",
     "output_type": "stream",
     "text": [
      " 72%|███████▏  | 41/57 [01:11<00:27,  1.70s/it]"
     ]
    },
    {
     "name": "stdout",
     "output_type": "stream",
     "text": [
      "Train loss: 1.4207251071929932\n"
     ]
    },
    {
     "name": "stderr",
     "output_type": "stream",
     "text": [
      " 89%|████████▉ | 51/57 [01:28<00:10,  1.70s/it]"
     ]
    },
    {
     "name": "stdout",
     "output_type": "stream",
     "text": [
      "Train loss: 1.3621004819869995\n"
     ]
    },
    {
     "name": "stderr",
     "output_type": "stream",
     "text": [
      "100%|██████████| 57/57 [01:37<00:00,  1.71s/it]\n",
      "Validation: 100%|██████████| 7/7 [00:11<00:00,  1.70s/it]\n"
     ]
    },
    {
     "name": "stdout",
     "output_type": "stream",
     "text": [
      "Validation loss = [tensor(1.8563, device='cuda:0', grad_fn=<DivBackward0>), tensor(1.7085, device='cuda:0', grad_fn=<DivBackward0>), tensor(1.8367, device='cuda:0', grad_fn=<DivBackward0>), tensor(1.6290, device='cuda:0', grad_fn=<DivBackward0>), tensor(1.6546, device='cuda:0', grad_fn=<DivBackward0>), tensor(1.6288, device='cuda:0', grad_fn=<DivBackward0>), tensor(1.4934, device='cuda:0', grad_fn=<DivBackward0>), tensor(1.4674, device='cuda:0', grad_fn=<DivBackward0>), tensor(1.5490, device='cuda:0', grad_fn=<DivBackward0>), tensor(1.6865, device='cuda:0', grad_fn=<DivBackward0>), tensor(1.8506, device='cuda:0', grad_fn=<DivBackward0>), tensor(1.4970, device='cuda:0', grad_fn=<DivBackward0>), tensor(1.7092, device='cuda:0', grad_fn=<DivBackward0>), tensor(1.6074, device='cuda:0', grad_fn=<DivBackward0>), tensor(1.4997, device='cuda:0', grad_fn=<DivBackward0>), tensor(1.6789, device='cuda:0', grad_fn=<DivBackward0>), tensor(1.5519, device='cuda:0', grad_fn=<DivBackward0>), tensor(1.4611, device='cuda:0', grad_fn=<DivBackward0>), tensor(1.4611, device='cuda:0', grad_fn=<DivBackward0>), tensor(1.6216, device='cuda:0', grad_fn=<DivBackward0>), tensor(1.4452, device='cuda:0', grad_fn=<DivBackward0>), tensor(1.6208, device='cuda:0', grad_fn=<DivBackward0>), tensor(1.5803, device='cuda:0', grad_fn=<DivBackward0>), tensor(1.4840, device='cuda:0', grad_fn=<DivBackward0>), tensor(1.4245, device='cuda:0', grad_fn=<DivBackward0>), tensor(1.3859, device='cuda:0', grad_fn=<DivBackward0>), tensor(1.7199, device='cuda:0', grad_fn=<DivBackward0>), tensor(1.6597, device='cuda:0', grad_fn=<DivBackward0>), tensor(1.5217, device='cuda:0', grad_fn=<DivBackward0>), tensor(1.4703, device='cuda:0', grad_fn=<DivBackward0>), tensor(1.6512, device='cuda:0', grad_fn=<DivBackward0>), tensor(1.4858, device='cuda:0', grad_fn=<DivBackward0>), tensor(1.5360, device='cuda:0', grad_fn=<DivBackward0>), tensor(1.4833, device='cuda:0', grad_fn=<DivBackward0>), tensor(1.6907, device='cuda:0', grad_fn=<DivBackward0>), tensor(1.4465, device='cuda:0', grad_fn=<DivBackward0>), tensor(1.5241, device='cuda:0', grad_fn=<DivBackward0>), tensor(1.4801, device='cuda:0', grad_fn=<DivBackward0>), tensor(1.3726, device='cuda:0', grad_fn=<DivBackward0>), tensor(1.5140, device='cuda:0', grad_fn=<DivBackward0>), tensor(1.5298, device='cuda:0', grad_fn=<DivBackward0>), tensor(1.3662, device='cuda:0', grad_fn=<DivBackward0>), tensor(1.7593, device='cuda:0', grad_fn=<DivBackward0>), tensor(1.5053, device='cuda:0', grad_fn=<DivBackward0>), tensor(1.6024, device='cuda:0', grad_fn=<DivBackward0>), tensor(1.4355, device='cuda:0', grad_fn=<DivBackward0>), tensor(1.5013, device='cuda:0', grad_fn=<DivBackward0>), tensor(1.5995, device='cuda:0', grad_fn=<DivBackward0>), tensor(1.5221, device='cuda:0', grad_fn=<DivBackward0>), tensor(1.3972, device='cuda:0', grad_fn=<DivBackward0>), tensor(1.5361, device='cuda:0', grad_fn=<DivBackward0>), tensor(1.6612, device='cuda:0', grad_fn=<DivBackward0>), tensor(1.3740, device='cuda:0', grad_fn=<DivBackward0>), tensor(1.4175, device='cuda:0', grad_fn=<DivBackward0>), tensor(1.5361, device='cuda:0', grad_fn=<DivBackward0>), tensor(1.6594, device='cuda:0', grad_fn=<DivBackward0>), tensor(1.3280, device='cuda:0', grad_fn=<DivBackward0>), tensor(1.8417, device='cuda:0', grad_fn=<DivBackward0>), tensor(1.6490, device='cuda:0', grad_fn=<DivBackward0>), tensor(1.2985, device='cuda:0', grad_fn=<DivBackward0>), tensor(1.5990, device='cuda:0', grad_fn=<DivBackward0>)]\n",
      "Epoch 12\n"
     ]
    },
    {
     "name": "stderr",
     "output_type": "stream",
     "text": [
      "  2%|▏         | 1/57 [00:03<02:51,  3.06s/it]"
     ]
    },
    {
     "name": "stdout",
     "output_type": "stream",
     "text": [
      "Train loss: 0.1320587694644928\n"
     ]
    },
    {
     "name": "stderr",
     "output_type": "stream",
     "text": [
      " 19%|█▉        | 11/57 [00:20<01:19,  1.72s/it]"
     ]
    },
    {
     "name": "stdout",
     "output_type": "stream",
     "text": [
      "Train loss: 1.4375874996185303\n"
     ]
    },
    {
     "name": "stderr",
     "output_type": "stream",
     "text": [
      " 37%|███▋      | 21/57 [00:37<01:01,  1.71s/it]"
     ]
    },
    {
     "name": "stdout",
     "output_type": "stream",
     "text": [
      "Train loss: 1.5033754110336304\n"
     ]
    },
    {
     "name": "stderr",
     "output_type": "stream",
     "text": [
      " 54%|█████▍    | 31/57 [00:54<00:44,  1.71s/it]"
     ]
    },
    {
     "name": "stdout",
     "output_type": "stream",
     "text": [
      "Train loss: 1.4978777170181274\n"
     ]
    },
    {
     "name": "stderr",
     "output_type": "stream",
     "text": [
      " 72%|███████▏  | 41/57 [01:11<00:27,  1.71s/it]"
     ]
    },
    {
     "name": "stdout",
     "output_type": "stream",
     "text": [
      "Train loss: 1.525952696800232\n"
     ]
    },
    {
     "name": "stderr",
     "output_type": "stream",
     "text": [
      " 89%|████████▉ | 51/57 [01:28<00:10,  1.71s/it]"
     ]
    },
    {
     "name": "stdout",
     "output_type": "stream",
     "text": [
      "Train loss: 1.4665155410766602\n"
     ]
    },
    {
     "name": "stderr",
     "output_type": "stream",
     "text": [
      "100%|██████████| 57/57 [01:37<00:00,  1.71s/it]\n",
      "Validation: 100%|██████████| 7/7 [00:11<00:00,  1.71s/it]\n"
     ]
    },
    {
     "name": "stdout",
     "output_type": "stream",
     "text": [
      "Validation loss = [tensor(1.8563, device='cuda:0', grad_fn=<DivBackward0>), tensor(1.7085, device='cuda:0', grad_fn=<DivBackward0>), tensor(1.8367, device='cuda:0', grad_fn=<DivBackward0>), tensor(1.6290, device='cuda:0', grad_fn=<DivBackward0>), tensor(1.6546, device='cuda:0', grad_fn=<DivBackward0>), tensor(1.6288, device='cuda:0', grad_fn=<DivBackward0>), tensor(1.4934, device='cuda:0', grad_fn=<DivBackward0>), tensor(1.4674, device='cuda:0', grad_fn=<DivBackward0>), tensor(1.5490, device='cuda:0', grad_fn=<DivBackward0>), tensor(1.6865, device='cuda:0', grad_fn=<DivBackward0>), tensor(1.8506, device='cuda:0', grad_fn=<DivBackward0>), tensor(1.4970, device='cuda:0', grad_fn=<DivBackward0>), tensor(1.7092, device='cuda:0', grad_fn=<DivBackward0>), tensor(1.6074, device='cuda:0', grad_fn=<DivBackward0>), tensor(1.4997, device='cuda:0', grad_fn=<DivBackward0>), tensor(1.6789, device='cuda:0', grad_fn=<DivBackward0>), tensor(1.5519, device='cuda:0', grad_fn=<DivBackward0>), tensor(1.4611, device='cuda:0', grad_fn=<DivBackward0>), tensor(1.4611, device='cuda:0', grad_fn=<DivBackward0>), tensor(1.6216, device='cuda:0', grad_fn=<DivBackward0>), tensor(1.4452, device='cuda:0', grad_fn=<DivBackward0>), tensor(1.6208, device='cuda:0', grad_fn=<DivBackward0>), tensor(1.5803, device='cuda:0', grad_fn=<DivBackward0>), tensor(1.4840, device='cuda:0', grad_fn=<DivBackward0>), tensor(1.4245, device='cuda:0', grad_fn=<DivBackward0>), tensor(1.3859, device='cuda:0', grad_fn=<DivBackward0>), tensor(1.7199, device='cuda:0', grad_fn=<DivBackward0>), tensor(1.6597, device='cuda:0', grad_fn=<DivBackward0>), tensor(1.5217, device='cuda:0', grad_fn=<DivBackward0>), tensor(1.4703, device='cuda:0', grad_fn=<DivBackward0>), tensor(1.6512, device='cuda:0', grad_fn=<DivBackward0>), tensor(1.4858, device='cuda:0', grad_fn=<DivBackward0>), tensor(1.5360, device='cuda:0', grad_fn=<DivBackward0>), tensor(1.4833, device='cuda:0', grad_fn=<DivBackward0>), tensor(1.6907, device='cuda:0', grad_fn=<DivBackward0>), tensor(1.4465, device='cuda:0', grad_fn=<DivBackward0>), tensor(1.5241, device='cuda:0', grad_fn=<DivBackward0>), tensor(1.4801, device='cuda:0', grad_fn=<DivBackward0>), tensor(1.3726, device='cuda:0', grad_fn=<DivBackward0>), tensor(1.5140, device='cuda:0', grad_fn=<DivBackward0>), tensor(1.5298, device='cuda:0', grad_fn=<DivBackward0>), tensor(1.3662, device='cuda:0', grad_fn=<DivBackward0>), tensor(1.7593, device='cuda:0', grad_fn=<DivBackward0>), tensor(1.5053, device='cuda:0', grad_fn=<DivBackward0>), tensor(1.6024, device='cuda:0', grad_fn=<DivBackward0>), tensor(1.4355, device='cuda:0', grad_fn=<DivBackward0>), tensor(1.5013, device='cuda:0', grad_fn=<DivBackward0>), tensor(1.5995, device='cuda:0', grad_fn=<DivBackward0>), tensor(1.5221, device='cuda:0', grad_fn=<DivBackward0>), tensor(1.3972, device='cuda:0', grad_fn=<DivBackward0>), tensor(1.5361, device='cuda:0', grad_fn=<DivBackward0>), tensor(1.6612, device='cuda:0', grad_fn=<DivBackward0>), tensor(1.3740, device='cuda:0', grad_fn=<DivBackward0>), tensor(1.4175, device='cuda:0', grad_fn=<DivBackward0>), tensor(1.5361, device='cuda:0', grad_fn=<DivBackward0>), tensor(1.6594, device='cuda:0', grad_fn=<DivBackward0>), tensor(1.3280, device='cuda:0', grad_fn=<DivBackward0>), tensor(1.8417, device='cuda:0', grad_fn=<DivBackward0>), tensor(1.6490, device='cuda:0', grad_fn=<DivBackward0>), tensor(1.2985, device='cuda:0', grad_fn=<DivBackward0>), tensor(1.5990, device='cuda:0', grad_fn=<DivBackward0>), tensor(1.5972, device='cuda:0', grad_fn=<DivBackward0>)]\n",
      "Epoch 13\n"
     ]
    },
    {
     "name": "stderr",
     "output_type": "stream",
     "text": [
      "  2%|▏         | 1/57 [00:03<02:49,  3.02s/it]"
     ]
    },
    {
     "name": "stdout",
     "output_type": "stream",
     "text": [
      "Train loss: 0.1403115838766098\n"
     ]
    },
    {
     "name": "stderr",
     "output_type": "stream",
     "text": [
      " 19%|█▉        | 11/57 [00:20<01:19,  1.72s/it]"
     ]
    },
    {
     "name": "stdout",
     "output_type": "stream",
     "text": [
      "Train loss: 1.496091604232788\n"
     ]
    },
    {
     "name": "stderr",
     "output_type": "stream",
     "text": [
      " 37%|███▋      | 21/57 [00:37<01:01,  1.71s/it]"
     ]
    },
    {
     "name": "stdout",
     "output_type": "stream",
     "text": [
      "Train loss: 1.4897054433822632\n"
     ]
    },
    {
     "name": "stderr",
     "output_type": "stream",
     "text": [
      " 54%|█████▍    | 31/57 [00:54<00:44,  1.71s/it]"
     ]
    },
    {
     "name": "stdout",
     "output_type": "stream",
     "text": [
      "Train loss: 1.3946011066436768\n"
     ]
    },
    {
     "name": "stderr",
     "output_type": "stream",
     "text": [
      " 72%|███████▏  | 41/57 [01:11<00:27,  1.71s/it]"
     ]
    },
    {
     "name": "stdout",
     "output_type": "stream",
     "text": [
      "Train loss: 1.4889806509017944\n"
     ]
    },
    {
     "name": "stderr",
     "output_type": "stream",
     "text": [
      " 89%|████████▉ | 51/57 [01:28<00:10,  1.71s/it]"
     ]
    },
    {
     "name": "stdout",
     "output_type": "stream",
     "text": [
      "Train loss: 1.3973350524902344\n"
     ]
    },
    {
     "name": "stderr",
     "output_type": "stream",
     "text": [
      "100%|██████████| 57/57 [01:37<00:00,  1.71s/it]\n",
      "Validation: 100%|██████████| 7/7 [00:11<00:00,  1.71s/it]\n"
     ]
    },
    {
     "name": "stdout",
     "output_type": "stream",
     "text": [
      "Validation loss = [tensor(1.8563, device='cuda:0', grad_fn=<DivBackward0>), tensor(1.7085, device='cuda:0', grad_fn=<DivBackward0>), tensor(1.8367, device='cuda:0', grad_fn=<DivBackward0>), tensor(1.6290, device='cuda:0', grad_fn=<DivBackward0>), tensor(1.6546, device='cuda:0', grad_fn=<DivBackward0>), tensor(1.6288, device='cuda:0', grad_fn=<DivBackward0>), tensor(1.4934, device='cuda:0', grad_fn=<DivBackward0>), tensor(1.4674, device='cuda:0', grad_fn=<DivBackward0>), tensor(1.5490, device='cuda:0', grad_fn=<DivBackward0>), tensor(1.6865, device='cuda:0', grad_fn=<DivBackward0>), tensor(1.8506, device='cuda:0', grad_fn=<DivBackward0>), tensor(1.4970, device='cuda:0', grad_fn=<DivBackward0>), tensor(1.7092, device='cuda:0', grad_fn=<DivBackward0>), tensor(1.6074, device='cuda:0', grad_fn=<DivBackward0>), tensor(1.4997, device='cuda:0', grad_fn=<DivBackward0>), tensor(1.6789, device='cuda:0', grad_fn=<DivBackward0>), tensor(1.5519, device='cuda:0', grad_fn=<DivBackward0>), tensor(1.4611, device='cuda:0', grad_fn=<DivBackward0>), tensor(1.4611, device='cuda:0', grad_fn=<DivBackward0>), tensor(1.6216, device='cuda:0', grad_fn=<DivBackward0>), tensor(1.4452, device='cuda:0', grad_fn=<DivBackward0>), tensor(1.6208, device='cuda:0', grad_fn=<DivBackward0>), tensor(1.5803, device='cuda:0', grad_fn=<DivBackward0>), tensor(1.4840, device='cuda:0', grad_fn=<DivBackward0>), tensor(1.4245, device='cuda:0', grad_fn=<DivBackward0>), tensor(1.3859, device='cuda:0', grad_fn=<DivBackward0>), tensor(1.7199, device='cuda:0', grad_fn=<DivBackward0>), tensor(1.6597, device='cuda:0', grad_fn=<DivBackward0>), tensor(1.5217, device='cuda:0', grad_fn=<DivBackward0>), tensor(1.4703, device='cuda:0', grad_fn=<DivBackward0>), tensor(1.6512, device='cuda:0', grad_fn=<DivBackward0>), tensor(1.4858, device='cuda:0', grad_fn=<DivBackward0>), tensor(1.5360, device='cuda:0', grad_fn=<DivBackward0>), tensor(1.4833, device='cuda:0', grad_fn=<DivBackward0>), tensor(1.6907, device='cuda:0', grad_fn=<DivBackward0>), tensor(1.4465, device='cuda:0', grad_fn=<DivBackward0>), tensor(1.5241, device='cuda:0', grad_fn=<DivBackward0>), tensor(1.4801, device='cuda:0', grad_fn=<DivBackward0>), tensor(1.3726, device='cuda:0', grad_fn=<DivBackward0>), tensor(1.5140, device='cuda:0', grad_fn=<DivBackward0>), tensor(1.5298, device='cuda:0', grad_fn=<DivBackward0>), tensor(1.3662, device='cuda:0', grad_fn=<DivBackward0>), tensor(1.7593, device='cuda:0', grad_fn=<DivBackward0>), tensor(1.5053, device='cuda:0', grad_fn=<DivBackward0>), tensor(1.6024, device='cuda:0', grad_fn=<DivBackward0>), tensor(1.4355, device='cuda:0', grad_fn=<DivBackward0>), tensor(1.5013, device='cuda:0', grad_fn=<DivBackward0>), tensor(1.5995, device='cuda:0', grad_fn=<DivBackward0>), tensor(1.5221, device='cuda:0', grad_fn=<DivBackward0>), tensor(1.3972, device='cuda:0', grad_fn=<DivBackward0>), tensor(1.5361, device='cuda:0', grad_fn=<DivBackward0>), tensor(1.6612, device='cuda:0', grad_fn=<DivBackward0>), tensor(1.3740, device='cuda:0', grad_fn=<DivBackward0>), tensor(1.4175, device='cuda:0', grad_fn=<DivBackward0>), tensor(1.5361, device='cuda:0', grad_fn=<DivBackward0>), tensor(1.6594, device='cuda:0', grad_fn=<DivBackward0>), tensor(1.3280, device='cuda:0', grad_fn=<DivBackward0>), tensor(1.8417, device='cuda:0', grad_fn=<DivBackward0>), tensor(1.6490, device='cuda:0', grad_fn=<DivBackward0>), tensor(1.2985, device='cuda:0', grad_fn=<DivBackward0>), tensor(1.5990, device='cuda:0', grad_fn=<DivBackward0>), tensor(1.5972, device='cuda:0', grad_fn=<DivBackward0>), tensor(1.3535, device='cuda:0', grad_fn=<DivBackward0>)]\n",
      "Epoch 14\n"
     ]
    },
    {
     "name": "stderr",
     "output_type": "stream",
     "text": [
      "  2%|▏         | 1/57 [00:03<02:52,  3.07s/it]"
     ]
    },
    {
     "name": "stdout",
     "output_type": "stream",
     "text": [
      "Train loss: 0.13034789264202118\n"
     ]
    },
    {
     "name": "stderr",
     "output_type": "stream",
     "text": [
      " 19%|█▉        | 11/57 [00:20<01:19,  1.72s/it]"
     ]
    },
    {
     "name": "stdout",
     "output_type": "stream",
     "text": [
      "Train loss: 1.393500804901123\n"
     ]
    },
    {
     "name": "stderr",
     "output_type": "stream",
     "text": [
      " 37%|███▋      | 21/57 [00:37<01:01,  1.71s/it]"
     ]
    },
    {
     "name": "stdout",
     "output_type": "stream",
     "text": [
      "Train loss: 1.4031879901885986\n"
     ]
    },
    {
     "name": "stderr",
     "output_type": "stream",
     "text": [
      " 54%|█████▍    | 31/57 [00:54<00:44,  1.71s/it]"
     ]
    },
    {
     "name": "stdout",
     "output_type": "stream",
     "text": [
      "Train loss: 1.3989852666854858\n"
     ]
    },
    {
     "name": "stderr",
     "output_type": "stream",
     "text": [
      " 72%|███████▏  | 41/57 [01:11<00:27,  1.70s/it]"
     ]
    },
    {
     "name": "stdout",
     "output_type": "stream",
     "text": [
      "Train loss: 1.449318766593933\n"
     ]
    },
    {
     "name": "stderr",
     "output_type": "stream",
     "text": [
      " 89%|████████▉ | 51/57 [01:28<00:10,  1.70s/it]"
     ]
    },
    {
     "name": "stdout",
     "output_type": "stream",
     "text": [
      "Train loss: 1.5709151029586792\n"
     ]
    },
    {
     "name": "stderr",
     "output_type": "stream",
     "text": [
      "100%|██████████| 57/57 [01:37<00:00,  1.71s/it]\n",
      "Validation: 100%|██████████| 7/7 [00:11<00:00,  1.71s/it]\n"
     ]
    },
    {
     "name": "stdout",
     "output_type": "stream",
     "text": [
      "Validation loss = [tensor(1.8563, device='cuda:0', grad_fn=<DivBackward0>), tensor(1.7085, device='cuda:0', grad_fn=<DivBackward0>), tensor(1.8367, device='cuda:0', grad_fn=<DivBackward0>), tensor(1.6290, device='cuda:0', grad_fn=<DivBackward0>), tensor(1.6546, device='cuda:0', grad_fn=<DivBackward0>), tensor(1.6288, device='cuda:0', grad_fn=<DivBackward0>), tensor(1.4934, device='cuda:0', grad_fn=<DivBackward0>), tensor(1.4674, device='cuda:0', grad_fn=<DivBackward0>), tensor(1.5490, device='cuda:0', grad_fn=<DivBackward0>), tensor(1.6865, device='cuda:0', grad_fn=<DivBackward0>), tensor(1.8506, device='cuda:0', grad_fn=<DivBackward0>), tensor(1.4970, device='cuda:0', grad_fn=<DivBackward0>), tensor(1.7092, device='cuda:0', grad_fn=<DivBackward0>), tensor(1.6074, device='cuda:0', grad_fn=<DivBackward0>), tensor(1.4997, device='cuda:0', grad_fn=<DivBackward0>), tensor(1.6789, device='cuda:0', grad_fn=<DivBackward0>), tensor(1.5519, device='cuda:0', grad_fn=<DivBackward0>), tensor(1.4611, device='cuda:0', grad_fn=<DivBackward0>), tensor(1.4611, device='cuda:0', grad_fn=<DivBackward0>), tensor(1.6216, device='cuda:0', grad_fn=<DivBackward0>), tensor(1.4452, device='cuda:0', grad_fn=<DivBackward0>), tensor(1.6208, device='cuda:0', grad_fn=<DivBackward0>), tensor(1.5803, device='cuda:0', grad_fn=<DivBackward0>), tensor(1.4840, device='cuda:0', grad_fn=<DivBackward0>), tensor(1.4245, device='cuda:0', grad_fn=<DivBackward0>), tensor(1.3859, device='cuda:0', grad_fn=<DivBackward0>), tensor(1.7199, device='cuda:0', grad_fn=<DivBackward0>), tensor(1.6597, device='cuda:0', grad_fn=<DivBackward0>), tensor(1.5217, device='cuda:0', grad_fn=<DivBackward0>), tensor(1.4703, device='cuda:0', grad_fn=<DivBackward0>), tensor(1.6512, device='cuda:0', grad_fn=<DivBackward0>), tensor(1.4858, device='cuda:0', grad_fn=<DivBackward0>), tensor(1.5360, device='cuda:0', grad_fn=<DivBackward0>), tensor(1.4833, device='cuda:0', grad_fn=<DivBackward0>), tensor(1.6907, device='cuda:0', grad_fn=<DivBackward0>), tensor(1.4465, device='cuda:0', grad_fn=<DivBackward0>), tensor(1.5241, device='cuda:0', grad_fn=<DivBackward0>), tensor(1.4801, device='cuda:0', grad_fn=<DivBackward0>), tensor(1.3726, device='cuda:0', grad_fn=<DivBackward0>), tensor(1.5140, device='cuda:0', grad_fn=<DivBackward0>), tensor(1.5298, device='cuda:0', grad_fn=<DivBackward0>), tensor(1.3662, device='cuda:0', grad_fn=<DivBackward0>), tensor(1.7593, device='cuda:0', grad_fn=<DivBackward0>), tensor(1.5053, device='cuda:0', grad_fn=<DivBackward0>), tensor(1.6024, device='cuda:0', grad_fn=<DivBackward0>), tensor(1.4355, device='cuda:0', grad_fn=<DivBackward0>), tensor(1.5013, device='cuda:0', grad_fn=<DivBackward0>), tensor(1.5995, device='cuda:0', grad_fn=<DivBackward0>), tensor(1.5221, device='cuda:0', grad_fn=<DivBackward0>), tensor(1.3972, device='cuda:0', grad_fn=<DivBackward0>), tensor(1.5361, device='cuda:0', grad_fn=<DivBackward0>), tensor(1.6612, device='cuda:0', grad_fn=<DivBackward0>), tensor(1.3740, device='cuda:0', grad_fn=<DivBackward0>), tensor(1.4175, device='cuda:0', grad_fn=<DivBackward0>), tensor(1.5361, device='cuda:0', grad_fn=<DivBackward0>), tensor(1.6594, device='cuda:0', grad_fn=<DivBackward0>), tensor(1.3280, device='cuda:0', grad_fn=<DivBackward0>), tensor(1.8417, device='cuda:0', grad_fn=<DivBackward0>), tensor(1.6490, device='cuda:0', grad_fn=<DivBackward0>), tensor(1.2985, device='cuda:0', grad_fn=<DivBackward0>), tensor(1.5990, device='cuda:0', grad_fn=<DivBackward0>), tensor(1.5972, device='cuda:0', grad_fn=<DivBackward0>), tensor(1.3535, device='cuda:0', grad_fn=<DivBackward0>), tensor(1.6851, device='cuda:0', grad_fn=<DivBackward0>)]\n",
      "Epoch 15\n"
     ]
    },
    {
     "name": "stderr",
     "output_type": "stream",
     "text": [
      "  2%|▏         | 1/57 [00:03<02:49,  3.02s/it]"
     ]
    },
    {
     "name": "stdout",
     "output_type": "stream",
     "text": [
      "Train loss: 0.14082536101341248\n"
     ]
    },
    {
     "name": "stderr",
     "output_type": "stream",
     "text": [
      " 19%|█▉        | 11/57 [00:20<01:19,  1.72s/it]"
     ]
    },
    {
     "name": "stdout",
     "output_type": "stream",
     "text": [
      "Train loss: 1.6441137790679932\n"
     ]
    },
    {
     "name": "stderr",
     "output_type": "stream",
     "text": [
      " 37%|███▋      | 21/57 [00:37<01:01,  1.71s/it]"
     ]
    },
    {
     "name": "stdout",
     "output_type": "stream",
     "text": [
      "Train loss: 1.508102297782898\n"
     ]
    },
    {
     "name": "stderr",
     "output_type": "stream",
     "text": [
      " 54%|█████▍    | 31/57 [00:54<00:44,  1.71s/it]"
     ]
    },
    {
     "name": "stdout",
     "output_type": "stream",
     "text": [
      "Train loss: 1.4198850393295288\n"
     ]
    },
    {
     "name": "stderr",
     "output_type": "stream",
     "text": [
      " 54%|█████▍    | 31/57 [00:56<00:46,  1.81s/it]\n"
     ]
    },
    {
     "ename": "KeyboardInterrupt",
     "evalue": "",
     "output_type": "error",
     "traceback": [
      "\u001b[0;31m---------------------------------------------------------------------------\u001b[0m",
      "\u001b[0;31mKeyboardInterrupt\u001b[0m                         Traceback (most recent call last)",
      "Cell \u001b[0;32mIn[38], line 23\u001b[0m\n\u001b[1;32m     21\u001b[0m \u001b[38;5;28;01mfor\u001b[39;00m epoch \u001b[38;5;129;01min\u001b[39;00m \u001b[38;5;28mrange\u001b[39m(\u001b[38;5;241m1\u001b[39m,n_epoch\u001b[38;5;241m+\u001b[39m\u001b[38;5;241m1\u001b[39m):\n\u001b[1;32m     22\u001b[0m     \u001b[38;5;28mprint\u001b[39m(\u001b[38;5;124mf\u001b[39m\u001b[38;5;124m\"\u001b[39m\u001b[38;5;124mEpoch \u001b[39m\u001b[38;5;132;01m{\u001b[39;00mepoch\u001b[38;5;132;01m}\u001b[39;00m\u001b[38;5;124m\"\u001b[39m)\n\u001b[0;32m---> 23\u001b[0m     classif_probe, train_loss_t \u001b[38;5;241m=\u001b[39m \u001b[43mtrain_epoch\u001b[49m\u001b[43m(\u001b[49m\u001b[43mseg_model\u001b[49m\u001b[38;5;241;43m=\u001b[39;49m\u001b[43mmodel\u001b[49m\u001b[43m,\u001b[49m\u001b[43mclassif_probe\u001b[49m\u001b[38;5;241;43m=\u001b[39;49m\u001b[43mclassif_probe\u001b[49m\u001b[43m,\u001b[49m\u001b[43mdataloader\u001b[49m\u001b[38;5;241;43m=\u001b[39;49m\u001b[43mtrain_loader\u001b[49m\u001b[43m,\u001b[49m\u001b[43mloss_fun\u001b[49m\u001b[38;5;241;43m=\u001b[39;49m\u001b[43mloss_fn\u001b[49m\u001b[43m,\u001b[49m\u001b[43moptimizer\u001b[49m\u001b[38;5;241;43m=\u001b[39;49m\u001b[43moptimizer\u001b[49m\u001b[43m,\u001b[49m\u001b[43mdevice\u001b[49m\u001b[38;5;241;43m=\u001b[39;49m\u001b[43mdevice\u001b[49m\u001b[43m)\u001b[49m\n\u001b[1;32m     24\u001b[0m     valid_loss_t \u001b[38;5;241m=\u001b[39m valid_epoch(seg_model\u001b[38;5;241m=\u001b[39mmodel,classif_probe\u001b[38;5;241m=\u001b[39mclassif_probe,dataloader\u001b[38;5;241m=\u001b[39mvalid_loader,loss_fun\u001b[38;5;241m=\u001b[39mloss_fn,device\u001b[38;5;241m=\u001b[39mdevice)\n\u001b[1;32m     27\u001b[0m     train_loss\u001b[38;5;241m.\u001b[39mappend(train_loss_t)\n",
      "Cell \u001b[0;32mIn[28], line 15\u001b[0m, in \u001b[0;36mtrain_epoch\u001b[0;34m(seg_model, classif_probe, dataloader, loss_fun, optimizer, device)\u001b[0m\n\u001b[1;32m     11\u001b[0m     emb \u001b[38;5;241m=\u001b[39m seg_model\u001b[38;5;241m.\u001b[39memb_transform(feat)\n\u001b[1;32m     13\u001b[0m logits \u001b[38;5;241m=\u001b[39m classif_probe(emb\u001b[38;5;241m.\u001b[39mpermute(\u001b[38;5;241m0\u001b[39m,\u001b[38;5;241m2\u001b[39m,\u001b[38;5;241m1\u001b[39m))\n\u001b[0;32m---> 15\u001b[0m loss \u001b[38;5;241m=\u001b[39m loss_fun(logits,\u001b[43mlabel\u001b[49m\u001b[38;5;241;43m.\u001b[39;49m\u001b[43mto\u001b[49m\u001b[43m(\u001b[49m\u001b[43mdevice\u001b[49m\u001b[43m)\u001b[49m)\n\u001b[1;32m     16\u001b[0m loss\u001b[38;5;241m.\u001b[39mbackward()\n\u001b[1;32m     17\u001b[0m optimizer\u001b[38;5;241m.\u001b[39mstep()\n",
      "\u001b[0;31mKeyboardInterrupt\u001b[0m: "
     ]
    }
   ],
   "source": [
    "n_epoch = 50\n",
    "\n",
    "# classif_probe = LinProbe(input_size=256,output_size=10,agreg=\"mean\")\n",
    "# music_train = music_test = GTZAN(csv_file=\"features_3_sec.csv\",root_dir=\"/lium/raid01_b/tmario/phD/data/gtzan/\",mode=\"train\",overwrite=False)\n",
    "# music_valid = music_test = GTZAN(csv_file=\"features_3_sec.csv\",root_dir=\"/lium/raid01_b/tmario/phD/data/gtzan/\",mode=\"valid\",overwrite=False)\n",
    "# train_loader= DataLoader(music_train, batch_size=128, shuffle=True,num_workers=10)\n",
    "# valid_loader = DataLoader(music_valid, batch_size=128, shuffle=False,num_workers=10)\n",
    "\n",
    "# loss_fn = torch.nn.CrossEntropyLoss()\n",
    "# optimizer = torch.optim.Adam(classif_probe.parameters(),lr=0.01)\n",
    "\n",
    "# device = torch.device(\"cuda\" if torch.cuda.is_available() else \"cpu\")\n",
    "\n",
    "# model.to(device)\n",
    "# classif_probe.to(device)\n",
    "\n",
    "# best_valid = 1e8\n",
    "\n",
    "# train_loss = []\n",
    "# valid_loss = []\n",
    "for epoch in range(1,n_epoch+1):\n",
    "    print(f\"Epoch {epoch}\")\n",
    "    classif_probe, train_loss_t = train_epoch(seg_model=model,classif_probe=classif_probe,dataloader=train_loader,loss_fun=loss_fn,optimizer=optimizer,device=device)\n",
    "    valid_loss_t = valid_epoch(seg_model=model,classif_probe=classif_probe,dataloader=valid_loader,loss_fun=loss_fn,device=device)\n",
    "    \n",
    "    \n",
    "    train_loss.append(train_loss_t)\n",
    "    valid_loss.append(valid_loss_t)\n",
    "    print(f\"Validation loss = {valid_loss}\")\n",
    "    if valid_loss_t < best_valid:\n",
    "        torch.save(classif_probe.state_dict(), \"probes/sparse_music_probe_256_mean.pt\")\n",
    "        best_valid = valid_loss_t\n",
    "    "
   ]
  },
  {
   "cell_type": "code",
   "execution_count": 12,
   "id": "42099997",
   "metadata": {},
   "outputs": [],
   "source": [
    "noise_loader = DataLoader(noise_test, batch_size=128, shuffle=False,num_workers=10)\n",
    "music_loader = DataLoader(music_test, batch_size=128, shuffle=False,num_workers=10)\n",
    "gender_loader = DataLoader(gender_test, batch_size=64, shuffle=False,num_workers=10)\n",
    "phone_loader = DataLoader(phone_test, batch_size=128, shuffle=False,num_workers=10)"
   ]
  },
  {
   "cell_type": "code",
   "execution_count": 39,
   "id": "ec404113",
   "metadata": {},
   "outputs": [
    {
     "name": "stdout",
     "output_type": "stream",
     "text": [
      "Done\n"
     ]
    }
   ],
   "source": [
    "# ckpt_music = torch.load(\"/lium/raid01_b/tmario/phD/JSALT2023/src/1.explainability/nmf/probes/mean_music_style_lin_probe.pt\")\n",
    "ckpt_music = torch.load(\"./probes/sparse_music_probe_256_mean.pt\")\n",
    "device = torch.device(\"cuda\" if torch.cuda.is_available() else \"cpu\")\n",
    "classif_probe_music = LinProbe(input_size=256,output_size=10,agreg='mean')\n",
    "classif_probe_music.load_state_dict(ckpt_music)\n",
    "classif_probe_music.to(device)\n",
    "model.to(device)\n",
    "print(\"Done\")"
   ]
  },
  {
   "cell_type": "code",
   "execution_count": 13,
   "id": "1c3e2449",
   "metadata": {
    "scrolled": true,
    "tags": []
   },
   "outputs": [
    {
     "ename": "NameError",
     "evalue": "name 'ckpt' is not defined",
     "output_type": "error",
     "traceback": [
      "\u001b[0;31m---------------------------------------------------------------------------\u001b[0m",
      "\u001b[0;31mNameError\u001b[0m                                 Traceback (most recent call last)",
      "Cell \u001b[0;32mIn[13], line 4\u001b[0m\n\u001b[1;32m      2\u001b[0m device \u001b[38;5;241m=\u001b[39m torch\u001b[38;5;241m.\u001b[39mdevice(\u001b[38;5;124m\"\u001b[39m\u001b[38;5;124mcuda\u001b[39m\u001b[38;5;124m\"\u001b[39m \u001b[38;5;28;01mif\u001b[39;00m torch\u001b[38;5;241m.\u001b[39mcuda\u001b[38;5;241m.\u001b[39mis_available() \u001b[38;5;28;01melse\u001b[39;00m \u001b[38;5;124m\"\u001b[39m\u001b[38;5;124mcpu\u001b[39m\u001b[38;5;124m\"\u001b[39m)\n\u001b[1;32m      3\u001b[0m classif_probe_noise \u001b[38;5;241m=\u001b[39m LinProbe(input_size\u001b[38;5;241m=\u001b[39m\u001b[38;5;241m256\u001b[39m,output_size\u001b[38;5;241m=\u001b[39m\u001b[38;5;241m10\u001b[39m,agreg\u001b[38;5;241m=\u001b[39m\u001b[38;5;124m'\u001b[39m\u001b[38;5;124mmean\u001b[39m\u001b[38;5;124m'\u001b[39m)\n\u001b[0;32m----> 4\u001b[0m classif_probe_noise\u001b[38;5;241m.\u001b[39mload_state_dict(\u001b[43mckpt\u001b[49m)\n\u001b[1;32m      5\u001b[0m classif_probe_noise\u001b[38;5;241m.\u001b[39mto(device)\n\u001b[1;32m      6\u001b[0m model\u001b[38;5;241m.\u001b[39mto(device)\n",
      "\u001b[0;31mNameError\u001b[0m: name 'ckpt' is not defined"
     ]
    }
   ],
   "source": [
    "ckpt_noise = torch.load(\"./probes/sparse_noise_probe_256_mean.pt\")\n",
    "device = torch.device(\"cuda\" if torch.cuda.is_available() else \"cpu\")\n",
    "classif_probe_noise = LinProbe(input_size=256,output_size=10,agreg='mean')\n",
    "classif_probe_noise.load_state_dict(ckpt_noise)\n",
    "classif_probe_noise.to(device)\n",
    "model.to(device)\n",
    "print(\"Done\")"
   ]
  },
  {
   "cell_type": "code",
   "execution_count": 40,
   "id": "766f333b",
   "metadata": {},
   "outputs": [
    {
     "name": "stderr",
     "output_type": "stream",
     "text": [
      "100%|██████████| 16/16 [00:27<00:00,  1.73s/it]\n"
     ]
    }
   ],
   "source": [
    "pred = []\n",
    "lab = []\n",
    "model.to(device)\n",
    "classif_probe_music.to(device)\n",
    "for batch_idx, (data,label) in enumerate(tqdm(music_loader)):    \n",
    "\n",
    "    with torch.no_grad():\n",
    "        feat = model.wavlm(data.to(device))\n",
    "        emb = model.emb_transform(feat)\n",
    "        lab.extend(label.detach().cpu().numpy())\n",
    "        \n",
    "        logits = classif_probe_music(emb.permute(0,2,1))\n",
    "        #print(logits.shape)\n",
    "        pred.extend(logits.argmax(dim=-1).detach().cpu().numpy())\n",
    "\n",
    "        "
   ]
  },
  {
   "cell_type": "code",
   "execution_count": 41,
   "id": "e742afa0",
   "metadata": {},
   "outputs": [],
   "source": [
    "from torchmetrics import F1Score,Accuracy,ConfusionMatrix,Recall\n",
    "nclasses = 10\n",
    "f1 = F1Score(task=\"multiclass\",num_classes=nclasses,average=\"macro\")\n",
    "recall = Recall(task=\"multiclass\",num_classes=nclasses,average=\"macro\")\n",
    "acc = Accuracy(task='multiclass',num_classes=nclasses)\n",
    "conf = ConfusionMatrix(task='multiclass',num_classes=nclasses)\n",
    "ecp = ExpectedCost(task=\"multiclass\",num_classes=nclasses)"
   ]
  },
  {
   "cell_type": "code",
   "execution_count": 42,
   "id": "f9b3a167",
   "metadata": {},
   "outputs": [],
   "source": [
    "tpred = torch.from_numpy(np.array(pred))\n",
    "tlabel = torch.from_numpy(np.array(lab))"
   ]
  },
  {
   "cell_type": "code",
   "execution_count": 43,
   "id": "d3b08149",
   "metadata": {},
   "outputs": [
    {
     "name": "stdout",
     "output_type": "stream",
     "text": [
      "Acc = tensor(0.5506)\n",
      "F1score = tensor(0.5450)\n",
      "UAR = tensor(0.5509)\n",
      "Expected cost tensor(0.4494)\n",
      "Acc from EC tensor(0.5506)\n"
     ]
    }
   ],
   "source": [
    "import numpy as np\n",
    "\n",
    "#print(\"0 Male, 1 Female\")\n",
    "\n",
    "print(\"Acc =\",acc(tpred,tlabel))\n",
    "print(\"F1score =\",f1(tpred,tlabel))\n",
    "print(\"UAR =\",recall(tpred,tlabel))\n",
    "#print(\"\\nCUSTOM EC\")\n",
    "print(\"Expected cost\",ecp(tpred,tlabel))\n",
    "print(\"Acc from EC\",1-ecp(tpred,tlabel))\n"
   ]
  },
  {
   "cell_type": "code",
   "execution_count": 18,
   "id": "f237a6cf",
   "metadata": {},
   "outputs": [],
   "source": [
    "classes = ['air_conditioner', 'car_horn', 'children_playing', 'dog_bark', 'drilling', 'engine_idling', 'gun_shot', 'jackhammer', 'siren', 'street_music']"
   ]
  },
  {
   "cell_type": "code",
   "execution_count": 44,
   "id": "428677c2",
   "metadata": {},
   "outputs": [],
   "source": [
    "classes = music_test.get_classes()"
   ]
  },
  {
   "cell_type": "code",
   "execution_count": 45,
   "id": "2ac8daab",
   "metadata": {},
   "outputs": [
    {
     "data": {
      "text/plain": [
       "<Axes: >"
      ]
     },
     "execution_count": 45,
     "metadata": {},
     "output_type": "execute_result"
    },
    {
     "data": {
      "image/png": "[encoded data removed]",
      "text/plain": [
       "<Figure size 1000x1000 with 2 Axes>"
      ]
     },
     "metadata": {},
     "output_type": "display_data"
    }
   ],
   "source": [
    "import seaborn as sn\n",
    "plt.figure(figsize=(10,10))\n",
    "sn.heatmap(conf(tpred,tlabel),xticklabels=classes,yticklabels=classes)"
   ]
  },
  {
   "cell_type": "code",
   "execution_count": 20,
   "id": "29681dda",
   "metadata": {},
   "outputs": [
    {
     "name": "stdout",
     "output_type": "stream",
     "text": [
      "torch.Size([512])\n"
     ]
    },
    {
     "data": {
      "text/plain": [
       "<Axes: >"
      ]
     },
     "execution_count": 20,
     "metadata": {},
     "output_type": "execute_result"
    },
    {
     "data": {
      "image/png": "[encoded data removed]",
      "text/plain": [
       "<Figure size 1500x1500 with 2 Axes>"
      ]
     },
     "metadata": {},
     "output_type": "display_data"
    }
   ],
   "source": [
    "plt.figure(figsize=(15,15))\n",
    "print(ckpt['probe.0.weight'].cpu()[0].shape)\n",
    "\n",
    "sn.heatmap(ckpt['probe.0.weight'].cpu(),cmap='bwr')"
   ]
  }
 ],
 "metadata": {
  "kernelspec": {
   "display_name": "jsalt3.9",
   "language": "python",
   "name": "jsalt3.9"
  },
  "language_info": {
   "codemirror_mode": {
    "name": "ipython",
    "version": 3
   },
   "file_extension": ".py",
   "mimetype": "text/x-python",
   "name": "python",
   "nbconvert_exporter": "python",
   "pygments_lexer": "ipython3",
   "version": "3.9.16"
  }
 },
 "nbformat": 4,
 "nbformat_minor": 5
}
