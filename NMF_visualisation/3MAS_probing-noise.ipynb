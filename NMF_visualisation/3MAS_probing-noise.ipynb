{
 "cells": [
  {
   "cell_type": "code",
   "execution_count": 1,
   "id": "eea4f4af",
   "metadata": {},
   "outputs": [],
   "source": [
    "import torch\n",
    "import torch.nn.functional as F\n",
    "import pandas\n",
    "import torchaudio\n",
    "import torchaudio.transforms as T\n",
    "import os\n",
    "from datasets import load_dataset,Audio\n",
    "import numpy as np\n",
    "import soundata\n",
    "from torch.utils.data import Dataset, DataLoader\n",
    "from ..src.utils.datasets import UrbanSound8k\n",
    "#from sklearn.model_selection import train_test_split\n",
    "torchaudio.set_audio_backend(\"soundfile\")"
   ]
  },
  {
   "cell_type": "code",
   "execution_count": 2,
   "id": "7c17f7b3",
   "metadata": {},
   "outputs": [],
   "source": [
    "from torchmetrics import Metric\n",
    "from torch import Tensor\n",
    "class ExpectedCost(Metric):\n",
    "    \"\"\"\n",
    "    Wrapper on the expected cost as defined in https://github.com/luferrer/expected_cost\n",
    "    \"\"\"\n",
    "    def __init__(self,task = \"binary\", costs=None, priors=None, sample_weight=None, adjusted=False,num_classes = 2):\n",
    "        super().__init__()\n",
    "        self.conf = ConfusionMatrix(task=task,num_classes=num_classes)\n",
    "        if costs is None:\n",
    "            \n",
    "            costs = 1-torch.eye(num_classes)\n",
    "            \n",
    "            self.costs = costs\n",
    "        else:\n",
    "            self.costs = costs\n",
    "        self.priors = priors\n",
    "        self.sample_weight = sample_weight\n",
    "        self.adjusted=adjusted\n",
    "        self.num_classes = num_classes\n",
    "        \n",
    "            \n",
    "        self.add_state(\"bincounts\", default=torch.zeros(num_classes), dist_reduce_fx=\"sum\")\n",
    "        self.add_state(\"matrix\", default=torch.zeros((num_classes,num_classes)), dist_reduce_fx=\"sum\")\n",
    "        \n",
    "    def _input_format(self,preds,target):\n",
    "        return preds,target\n",
    "    def update(self, preds: Tensor, target: Tensor):\n",
    "        preds, target = self._input_format(preds, target)\n",
    "        \n",
    "        assert preds.shape == target.shape\n",
    "        self.matrix = self.conf(preds,target)\n",
    "        \n",
    "        self.bincounts = torch.bincount(target,minlength=self.num_classes)\n",
    "        \n",
    "    def compute(self):\n",
    "        self.matrix = self.matrix/self.matrix.sum(axis=1, keepdims=True)\n",
    "        priors = (self.bincounts/self.bincounts.sum()).unsqueeze(0).T\n",
    "        if self.adjusted:\n",
    "            # When adjusted is true, normalize the average cost\n",
    "            # with the cost of a naive system that always makes\n",
    "            # the min cost decision.\n",
    "            norm_value = torch.min(torch.dot(priors.T, self.costs))\n",
    "        else:\n",
    "            norm_value = 1.0\n",
    "                \n",
    "        ave_cost = torch.sum(priors * self.costs * self.matrix)\n",
    "\n",
    "        return ave_cost / norm_value"
   ]
  },
  {
   "cell_type": "code",
   "execution_count": 4,
   "id": "067d6305",
   "metadata": {},
   "outputs": [
    {
     "name": "stderr",
     "output_type": "stream",
     "text": [
      "100%|██████████| 8732/8732 [06:40<00:00, 21.79it/s]\n"
     ]
    }
   ],
   "source": [
    "dataset_train = UrbanSound8k(mode=\"train\")"
   ]
  },
  {
   "cell_type": "code",
   "execution_count": 5,
   "id": "8bb3aa78",
   "metadata": {},
   "outputs": [
    {
     "name": "stderr",
     "output_type": "stream",
     "text": [
      "100%|██████████| 8732/8732 [01:56<00:00, 74.95it/s]   \n"
     ]
    }
   ],
   "source": [
    "dataset_valid = UrbanSound8k(mode=\"validation\")"
   ]
  },
  {
   "cell_type": "code",
   "execution_count": 6,
   "id": "a975fcf9",
   "metadata": {},
   "outputs": [
    {
     "data": {
      "text/plain": [
       "27080"
      ]
     },
     "execution_count": 6,
     "metadata": {},
     "output_type": "execute_result"
    }
   ],
   "source": [
    "177080-150000"
   ]
  },
  {
   "cell_type": "code",
   "execution_count": 4,
   "id": "81920080",
   "metadata": {},
   "outputs": [
    {
     "name": "stderr",
     "output_type": "stream",
     "text": [
      "100%|██████████| 8732/8732 [01:28<00:00, 98.25it/s]   \n"
     ]
    }
   ],
   "source": [
    "dataset_test = UrbanSound8k(mode=\"test\")"
   ]
  },
  {
   "cell_type": "markdown",
   "id": "f07a3eea",
   "metadata": {},
   "source": [
    "## Load NMF-based multilabel segmentation model"
   ]
  },
  {
   "cell_type": "code",
   "execution_count": 5,
   "id": "5b2270bc",
   "metadata": {},
   "outputs": [
    {
     "name": "stdout",
     "output_type": "stream",
     "text": [
      "Type of NMF matrix: <class 'torch.Tensor'> torch.Size([513, 256])\n"
     ]
    },
    {
     "name": "stderr",
     "output_type": "stream",
     "text": [
      "Using cache found in /lium/home/mlebour/.cache/torch/hub/s3prl_s3prl_main\n",
      "INFO: Requesting URL: https://huggingface.co/s3prl/converted_ckpts/resolve/main/wavlm_large.pt\n",
      "INFO: Using URL's local file: /lium/home/mlebour/.cache/s3prl/download/f2d5200177fd6a33b278b7b76b454f25cd8ee866d55c122e69fccf6c7467d37d.wavlm_large.pt\n",
      "INFO: WavLM Config: {'extractor_mode': 'layer_norm', 'encoder_layers': 24, 'encoder_embed_dim': 1024, 'encoder_ffn_embed_dim': 4096, 'encoder_attention_heads': 16, 'activation_fn': 'gelu', 'layer_norm_first': True, 'conv_feature_layers': '[(512,10,5)] + [(512,3,2)] * 4 + [(512,2,2)] * 2', 'conv_bias': False, 'feature_grad_mult': 1.0, 'normalize': True, 'dropout': 0.0, 'attention_dropout': 0.0, 'activation_dropout': 0.0, 'encoder_layerdrop': 0.0, 'dropout_input': 0.0, 'dropout_features': 0.0, 'mask_length': 10, 'mask_prob': 0.8, 'mask_selection': 'static', 'mask_other': 0.0, 'no_mask_overlap': False, 'mask_min_space': 1, 'mask_channel_length': 10, 'mask_channel_prob': 0.0, 'mask_channel_selection': 'static', 'mask_channel_other': 0.0, 'no_mask_channel_overlap': False, 'mask_channel_min_space': 1, 'conv_pos': 128, 'conv_pos_groups': 16, 'relative_position_embedding': True, 'num_buckets': 320, 'max_distance': 800, 'gru_rel_pos': True}\n"
     ]
    }
   ],
   "source": [
    "import yaml\n",
    "from pyannote.audio import Model\n",
    "\n",
    "w_nmf = torch.load(\"/lium/raid01_b/tmario/phD/JSALT2023/src/1.explainability/nmf/dict/W_win_1024_nfft_1024_256_beta_2_mu_1_AragonRadio_sp_200_mus_500_no_500_max_seg_4.pt\")\n",
    "with open(\"/lium/raid01_b/tmario/phD/JSALT2023/src/1.explainability/nmf/config_wavlm.yaml\",\"rb\") as fh:\n",
    "    cfg = yaml.safe_load(fh)\n",
    "model = Model.from_pretrained(\"/lium/raid01_b/tmario/phD/JSALT2023/src/1.explainability/nmf/3MASNMF/make_it_sparser_256/X.Segmentation.Full_WP2-make_it_sparser_256-10.0-5.0-0.1-augTrue/models/23_12_12.ckpt\",\n",
    "                              w_nmf=w_nmf,\n",
    "                              wavlm_cfg=cfg[\"model\"][\"wavlm\"],\n",
    "                              spec_kw={\"win_length\":1024, \"hop_length\":320,\"n_fft\":1024})\n",
    "model.freeze()"
   ]
  },
  {
   "cell_type": "markdown",
   "id": "7a4b4006",
   "metadata": {},
   "source": [
    "### Classifier instance"
   ]
  },
  {
   "cell_type": "code",
   "execution_count": 10,
   "id": "642ee62d",
   "metadata": {},
   "outputs": [],
   "source": [
    "class Probe(torch.nn.Module):\n",
    "    \n",
    "    def __init__(self,input_size=256,hidden_size=128,output_size=2):\n",
    "        super().__init__()\n",
    "        self.probe = torch.nn.Sequential(torch.nn.Linear(2*input_size,hidden_size),\n",
    "                            torch.nn.ReLU(),\n",
    "                            torch.nn.Linear(hidden_size,output_size))\n",
    "        \n",
    "    def forward(self,x):\n",
    "        x_mean = x.mean(dim=1)\n",
    "        x_std = x.std(dim=1)\n",
    "        \n",
    "        y = self.probe(torch.cat([x_mean,x_std],dim=-1))\n",
    "        \n",
    "        return y\n",
    "        \n",
    "        "
   ]
  },
  {
   "cell_type": "code",
   "execution_count": 8,
   "id": "f590386d",
   "metadata": {},
   "outputs": [],
   "source": [
    "class LinProbe(torch.nn.Module):\n",
    "    \n",
    "    def __init__(self,input_size=256,output_size=10):\n",
    "        super().__init__()\n",
    "        self.probe = torch.nn.Sequential(torch.nn.Linear(2*input_size,output_size))\n",
    "    \n",
    "    def forward(self,x):\n",
    "        x_mean = x.mean(dim=1)\n",
    "        x_std = x.std(dim=1)\n",
    "        \n",
    "        y = self.probe(torch.cat([x_mean,x_std],dim=-1))\n",
    "        \n",
    "        return y"
   ]
  },
  {
   "cell_type": "code",
   "execution_count": 6,
   "id": "af065e47",
   "metadata": {},
   "outputs": [],
   "source": [
    "class LinProbe(torch.nn.Module):\n",
    "    \n",
    "    def __init__(self,input_size=256,output_size=10,agreg = \"mean_std\"):\n",
    "        super().__init__()\n",
    "        self.agreg = agreg\n",
    "        weight = 1 if agreg in [\"mean\",\"std\"] else 2\n",
    "        \n",
    "        self.probe = torch.nn.Sequential(torch.nn.Linear(weight*input_size,output_size))\n",
    "    \n",
    "    def forward(self,x):\n",
    "        x_mean = None\n",
    "        x_std = None\n",
    "        if \"mean\" in self.agreg:\n",
    "            x_mean = x.mean(dim=1)\n",
    "        if \"std\" in self.agreg:\n",
    "            x_std = x.std(dim=1)\n",
    "        if x_mean is not None and x_std is not None:\n",
    "            input_x = torch.cat([x_mean,x_std],dim=-1)\n",
    "        elif x_mean is not None:\n",
    "            input_x = x_mean\n",
    "        elif x_std is not None:\n",
    "            input_x = x_std\n",
    "        \n",
    "        y = self.probe(input_x)\n",
    "        \n",
    "        return y"
   ]
  },
  {
   "cell_type": "code",
   "execution_count": 15,
   "id": "9a18609f",
   "metadata": {},
   "outputs": [],
   "source": [
    "\n",
    "\n",
    "def train_epoch(seg_model,classif_probe,dataloader,loss_fun,optimizer,device=\"cpu\"):\n",
    "    avg_loss=0\n",
    "    last_avg_loss=0\n",
    "    for batch_idx, (data,label) in enumerate(tqdm.tqdm(dataloader)):    \n",
    "        optimizer.zero_grad()\n",
    "        \n",
    "        with torch.no_grad():\n",
    "            feat = seg_model.wavlm(data.to(device))\n",
    "            emb = seg_model.emb_transform(feat)\n",
    "        \n",
    "        logits = classif_probe(emb.permute(0,2,1))\n",
    "        \n",
    "        loss = loss_fun(logits,label.to(device))\n",
    "        loss.backward()\n",
    "        optimizer.step()\n",
    "        \n",
    "        avg_loss += loss\n",
    "        \n",
    "        if batch_idx%10 == 0:\n",
    "            avg_loss/=10\n",
    "            last_avg_loss=avg_loss\n",
    "            print(f\"Train loss: {avg_loss}\")\n",
    "            avg_loss=0\n",
    "        \n",
    "    return classif_probe, last_avg_loss\n",
    "\n",
    "def valid_epoch(seg_model,classif_probe,dataloader,loss_fun,device=\"cpu\"):\n",
    "    valid_loss=0.0\n",
    "    for batch_idx, (data, label) in enumerate(tqdm.tqdm(dataloader,desc=\"Validation\")):        \n",
    "        \n",
    "        with torch.no_grad():\n",
    "            feat = seg_model.wavlm(data.to(device))\n",
    "            emb = seg_model.emb_transform(feat)\n",
    "        \n",
    "        logits = classif_probe(emb.permute(0,2,1))   \n",
    "        \n",
    "        valid_loss += loss_fun(logits,label.to(device))\n",
    "        \n",
    "    return valid_loss/(batch_idx+1)"
   ]
  },
  {
   "cell_type": "code",
   "execution_count": 16,
   "id": "2857002d",
   "metadata": {
    "scrolled": true,
    "tags": []
   },
   "outputs": [
    {
     "name": "stdout",
     "output_type": "stream",
     "text": [
      "Epoch 1\n"
     ]
    },
    {
     "name": "stderr",
     "output_type": "stream",
     "text": [
      "  2%|▏         | 1/43 [00:03<02:15,  3.24s/it]"
     ]
    },
    {
     "name": "stdout",
     "output_type": "stream",
     "text": [
      "Train loss: 0.22963599860668182\n"
     ]
    },
    {
     "name": "stderr",
     "output_type": "stream",
     "text": [
      " 26%|██▌       | 11/43 [00:26<01:13,  2.31s/it]"
     ]
    },
    {
     "name": "stdout",
     "output_type": "stream",
     "text": [
      "Train loss: 2.1946334838867188\n"
     ]
    },
    {
     "name": "stderr",
     "output_type": "stream",
     "text": [
      " 49%|████▉     | 21/43 [00:49<00:51,  2.32s/it]"
     ]
    },
    {
     "name": "stdout",
     "output_type": "stream",
     "text": [
      "Train loss: 2.059309244155884\n"
     ]
    },
    {
     "name": "stderr",
     "output_type": "stream",
     "text": [
      " 72%|███████▏  | 31/43 [01:12<00:27,  2.32s/it]"
     ]
    },
    {
     "name": "stdout",
     "output_type": "stream",
     "text": [
      "Train loss: 1.9831699132919312\n"
     ]
    },
    {
     "name": "stderr",
     "output_type": "stream",
     "text": [
      " 95%|█████████▌| 41/43 [01:35<00:04,  2.33s/it]"
     ]
    },
    {
     "name": "stdout",
     "output_type": "stream",
     "text": [
      "Train loss: 1.920479655265808\n"
     ]
    },
    {
     "name": "stderr",
     "output_type": "stream",
     "text": [
      "100%|██████████| 43/43 [01:39<00:00,  2.31s/it]\n",
      "Validation: 100%|██████████| 13/13 [00:30<00:00,  2.38s/it]\n"
     ]
    },
    {
     "name": "stdout",
     "output_type": "stream",
     "text": [
      "Validation loss = [tensor(1.9065, device='cuda:0', grad_fn=<DivBackward0>)]\n",
      "Epoch 2\n"
     ]
    },
    {
     "name": "stderr",
     "output_type": "stream",
     "text": [
      "  2%|▏         | 1/43 [00:03<02:18,  3.29s/it]"
     ]
    },
    {
     "name": "stdout",
     "output_type": "stream",
     "text": [
      "Train loss: 0.18422508239746094\n"
     ]
    },
    {
     "name": "stderr",
     "output_type": "stream",
     "text": [
      " 26%|██▌       | 11/43 [00:26<01:15,  2.35s/it]"
     ]
    },
    {
     "name": "stdout",
     "output_type": "stream",
     "text": [
      "Train loss: 1.9045082330703735\n"
     ]
    },
    {
     "name": "stderr",
     "output_type": "stream",
     "text": [
      " 49%|████▉     | 21/43 [00:50<00:51,  2.34s/it]"
     ]
    },
    {
     "name": "stdout",
     "output_type": "stream",
     "text": [
      "Train loss: 1.8277744054794312\n"
     ]
    },
    {
     "name": "stderr",
     "output_type": "stream",
     "text": [
      " 72%|███████▏  | 31/43 [01:13<00:28,  2.34s/it]"
     ]
    },
    {
     "name": "stdout",
     "output_type": "stream",
     "text": [
      "Train loss: 1.8405752182006836\n"
     ]
    },
    {
     "name": "stderr",
     "output_type": "stream",
     "text": [
      " 95%|█████████▌| 41/43 [01:36<00:04,  2.34s/it]"
     ]
    },
    {
     "name": "stdout",
     "output_type": "stream",
     "text": [
      "Train loss: 1.8356355428695679\n"
     ]
    },
    {
     "name": "stderr",
     "output_type": "stream",
     "text": [
      "100%|██████████| 43/43 [01:40<00:00,  2.33s/it]\n",
      "Validation: 100%|██████████| 13/13 [00:31<00:00,  2.39s/it]\n"
     ]
    },
    {
     "name": "stdout",
     "output_type": "stream",
     "text": [
      "Validation loss = [tensor(1.9065, device='cuda:0', grad_fn=<DivBackward0>), tensor(1.8300, device='cuda:0', grad_fn=<DivBackward0>)]\n",
      "Epoch 3\n"
     ]
    },
    {
     "name": "stderr",
     "output_type": "stream",
     "text": [
      "  2%|▏         | 1/43 [00:03<02:18,  3.31s/it]"
     ]
    },
    {
     "name": "stdout",
     "output_type": "stream",
     "text": [
      "Train loss: 0.18587937951087952\n"
     ]
    },
    {
     "name": "stderr",
     "output_type": "stream",
     "text": [
      " 26%|██▌       | 11/43 [00:26<01:15,  2.35s/it]"
     ]
    },
    {
     "name": "stdout",
     "output_type": "stream",
     "text": [
      "Train loss: 1.8003383874893188\n"
     ]
    },
    {
     "name": "stderr",
     "output_type": "stream",
     "text": [
      " 49%|████▉     | 21/43 [00:50<00:51,  2.34s/it]"
     ]
    },
    {
     "name": "stdout",
     "output_type": "stream",
     "text": [
      "Train loss: 1.7763996124267578\n"
     ]
    },
    {
     "name": "stderr",
     "output_type": "stream",
     "text": [
      " 72%|███████▏  | 31/43 [01:13<00:28,  2.34s/it]"
     ]
    },
    {
     "name": "stdout",
     "output_type": "stream",
     "text": [
      "Train loss: 1.784563422203064\n"
     ]
    },
    {
     "name": "stderr",
     "output_type": "stream",
     "text": [
      " 95%|█████████▌| 41/43 [01:36<00:04,  2.34s/it]"
     ]
    },
    {
     "name": "stdout",
     "output_type": "stream",
     "text": [
      "Train loss: 1.7658370733261108\n"
     ]
    },
    {
     "name": "stderr",
     "output_type": "stream",
     "text": [
      "100%|██████████| 43/43 [01:40<00:00,  2.34s/it]\n",
      "Validation: 100%|██████████| 13/13 [00:31<00:00,  2.39s/it]\n"
     ]
    },
    {
     "name": "stdout",
     "output_type": "stream",
     "text": [
      "Validation loss = [tensor(1.9065, device='cuda:0', grad_fn=<DivBackward0>), tensor(1.8300, device='cuda:0', grad_fn=<DivBackward0>), tensor(1.7860, device='cuda:0', grad_fn=<DivBackward0>)]\n",
      "Epoch 4\n"
     ]
    },
    {
     "name": "stderr",
     "output_type": "stream",
     "text": [
      "  2%|▏         | 1/43 [00:03<02:18,  3.30s/it]"
     ]
    },
    {
     "name": "stdout",
     "output_type": "stream",
     "text": [
      "Train loss: 0.17814044654369354\n"
     ]
    },
    {
     "name": "stderr",
     "output_type": "stream",
     "text": [
      " 26%|██▌       | 11/43 [00:26<01:15,  2.35s/it]"
     ]
    },
    {
     "name": "stdout",
     "output_type": "stream",
     "text": [
      "Train loss: 1.757231593132019\n"
     ]
    },
    {
     "name": "stderr",
     "output_type": "stream",
     "text": [
      " 49%|████▉     | 21/43 [00:50<00:51,  2.35s/it]"
     ]
    },
    {
     "name": "stdout",
     "output_type": "stream",
     "text": [
      "Train loss: 1.7166355848312378\n"
     ]
    },
    {
     "name": "stderr",
     "output_type": "stream",
     "text": [
      " 72%|███████▏  | 31/43 [01:13<00:28,  2.34s/it]"
     ]
    },
    {
     "name": "stdout",
     "output_type": "stream",
     "text": [
      "Train loss: 1.7584341764450073\n"
     ]
    },
    {
     "name": "stderr",
     "output_type": "stream",
     "text": [
      " 95%|█████████▌| 41/43 [01:36<00:04,  2.34s/it]"
     ]
    },
    {
     "name": "stdout",
     "output_type": "stream",
     "text": [
      "Train loss: 1.7275686264038086\n"
     ]
    },
    {
     "name": "stderr",
     "output_type": "stream",
     "text": [
      "100%|██████████| 43/43 [01:40<00:00,  2.34s/it]\n",
      "Validation: 100%|██████████| 13/13 [00:31<00:00,  2.39s/it]\n"
     ]
    },
    {
     "name": "stdout",
     "output_type": "stream",
     "text": [
      "Validation loss = [tensor(1.9065, device='cuda:0', grad_fn=<DivBackward0>), tensor(1.8300, device='cuda:0', grad_fn=<DivBackward0>), tensor(1.7860, device='cuda:0', grad_fn=<DivBackward0>), tensor(1.7659, device='cuda:0', grad_fn=<DivBackward0>)]\n",
      "Epoch 5\n"
     ]
    },
    {
     "name": "stderr",
     "output_type": "stream",
     "text": [
      "  2%|▏         | 1/43 [00:03<02:18,  3.30s/it]"
     ]
    },
    {
     "name": "stdout",
     "output_type": "stream",
     "text": [
      "Train loss: 0.17041976749897003\n"
     ]
    },
    {
     "name": "stderr",
     "output_type": "stream",
     "text": [
      " 26%|██▌       | 11/43 [00:26<01:15,  2.35s/it]"
     ]
    },
    {
     "name": "stdout",
     "output_type": "stream",
     "text": [
      "Train loss: 1.7172060012817383\n"
     ]
    },
    {
     "name": "stderr",
     "output_type": "stream",
     "text": [
      " 49%|████▉     | 21/43 [00:50<00:51,  2.35s/it]"
     ]
    },
    {
     "name": "stdout",
     "output_type": "stream",
     "text": [
      "Train loss: 1.729583978652954\n"
     ]
    },
    {
     "name": "stderr",
     "output_type": "stream",
     "text": [
      " 72%|███████▏  | 31/43 [01:13<00:28,  2.34s/it]"
     ]
    },
    {
     "name": "stdout",
     "output_type": "stream",
     "text": [
      "Train loss: 1.6972439289093018\n"
     ]
    },
    {
     "name": "stderr",
     "output_type": "stream",
     "text": [
      " 95%|█████████▌| 41/43 [01:36<00:04,  2.34s/it]"
     ]
    },
    {
     "name": "stdout",
     "output_type": "stream",
     "text": [
      "Train loss: 1.6920645236968994\n"
     ]
    },
    {
     "name": "stderr",
     "output_type": "stream",
     "text": [
      "100%|██████████| 43/43 [01:40<00:00,  2.34s/it]\n",
      "Validation: 100%|██████████| 13/13 [00:31<00:00,  2.39s/it]\n"
     ]
    },
    {
     "name": "stdout",
     "output_type": "stream",
     "text": [
      "Validation loss = [tensor(1.9065, device='cuda:0', grad_fn=<DivBackward0>), tensor(1.8300, device='cuda:0', grad_fn=<DivBackward0>), tensor(1.7860, device='cuda:0', grad_fn=<DivBackward0>), tensor(1.7659, device='cuda:0', grad_fn=<DivBackward0>), tensor(1.7526, device='cuda:0', grad_fn=<DivBackward0>)]\n",
      "Epoch 6\n"
     ]
    },
    {
     "name": "stderr",
     "output_type": "stream",
     "text": [
      "  2%|▏         | 1/43 [00:03<02:20,  3.34s/it]"
     ]
    },
    {
     "name": "stdout",
     "output_type": "stream",
     "text": [
      "Train loss: 0.1688179224729538\n"
     ]
    },
    {
     "name": "stderr",
     "output_type": "stream",
     "text": [
      " 26%|██▌       | 11/43 [00:26<01:15,  2.36s/it]"
     ]
    },
    {
     "name": "stdout",
     "output_type": "stream",
     "text": [
      "Train loss: 1.7293814420700073\n"
     ]
    },
    {
     "name": "stderr",
     "output_type": "stream",
     "text": [
      " 49%|████▉     | 21/43 [00:50<00:51,  2.34s/it]"
     ]
    },
    {
     "name": "stdout",
     "output_type": "stream",
     "text": [
      "Train loss: 1.6570895910263062\n"
     ]
    },
    {
     "name": "stderr",
     "output_type": "stream",
     "text": [
      " 72%|███████▏  | 31/43 [01:13<00:28,  2.34s/it]"
     ]
    },
    {
     "name": "stdout",
     "output_type": "stream",
     "text": [
      "Train loss: 1.6522330045700073\n"
     ]
    },
    {
     "name": "stderr",
     "output_type": "stream",
     "text": [
      " 95%|█████████▌| 41/43 [01:37<00:04,  2.34s/it]"
     ]
    },
    {
     "name": "stdout",
     "output_type": "stream",
     "text": [
      "Train loss: 1.7095240354537964\n"
     ]
    },
    {
     "name": "stderr",
     "output_type": "stream",
     "text": [
      "100%|██████████| 43/43 [01:40<00:00,  2.34s/it]\n",
      "Validation: 100%|██████████| 13/13 [00:31<00:00,  2.39s/it]\n"
     ]
    },
    {
     "name": "stdout",
     "output_type": "stream",
     "text": [
      "Validation loss = [tensor(1.9065, device='cuda:0', grad_fn=<DivBackward0>), tensor(1.8300, device='cuda:0', grad_fn=<DivBackward0>), tensor(1.7860, device='cuda:0', grad_fn=<DivBackward0>), tensor(1.7659, device='cuda:0', grad_fn=<DivBackward0>), tensor(1.7526, device='cuda:0', grad_fn=<DivBackward0>), tensor(1.7369, device='cuda:0', grad_fn=<DivBackward0>)]\n",
      "Epoch 7\n"
     ]
    },
    {
     "name": "stderr",
     "output_type": "stream",
     "text": [
      "  2%|▏         | 1/43 [00:03<02:17,  3.27s/it]"
     ]
    },
    {
     "name": "stdout",
     "output_type": "stream",
     "text": [
      "Train loss: 0.17219679057598114\n"
     ]
    },
    {
     "name": "stderr",
     "output_type": "stream",
     "text": [
      " 26%|██▌       | 11/43 [00:26<01:15,  2.35s/it]"
     ]
    },
    {
     "name": "stdout",
     "output_type": "stream",
     "text": [
      "Train loss: 1.6636637449264526\n"
     ]
    },
    {
     "name": "stderr",
     "output_type": "stream",
     "text": [
      " 49%|████▉     | 21/43 [00:50<00:51,  2.34s/it]"
     ]
    },
    {
     "name": "stdout",
     "output_type": "stream",
     "text": [
      "Train loss: 1.6575084924697876\n"
     ]
    },
    {
     "name": "stderr",
     "output_type": "stream",
     "text": [
      " 72%|███████▏  | 31/43 [01:13<00:28,  2.34s/it]"
     ]
    },
    {
     "name": "stdout",
     "output_type": "stream",
     "text": [
      "Train loss: 1.7001246213912964\n"
     ]
    },
    {
     "name": "stderr",
     "output_type": "stream",
     "text": [
      " 95%|█████████▌| 41/43 [01:36<00:04,  2.34s/it]"
     ]
    },
    {
     "name": "stdout",
     "output_type": "stream",
     "text": [
      "Train loss: 1.650368571281433\n"
     ]
    },
    {
     "name": "stderr",
     "output_type": "stream",
     "text": [
      "100%|██████████| 43/43 [01:40<00:00,  2.34s/it]\n",
      "Validation: 100%|██████████| 13/13 [00:30<00:00,  2.38s/it]\n"
     ]
    },
    {
     "name": "stdout",
     "output_type": "stream",
     "text": [
      "Validation loss = [tensor(1.9065, device='cuda:0', grad_fn=<DivBackward0>), tensor(1.8300, device='cuda:0', grad_fn=<DivBackward0>), tensor(1.7860, device='cuda:0', grad_fn=<DivBackward0>), tensor(1.7659, device='cuda:0', grad_fn=<DivBackward0>), tensor(1.7526, device='cuda:0', grad_fn=<DivBackward0>), tensor(1.7369, device='cuda:0', grad_fn=<DivBackward0>), tensor(1.7136, device='cuda:0', grad_fn=<DivBackward0>)]\n",
      "Epoch 8\n"
     ]
    },
    {
     "name": "stderr",
     "output_type": "stream",
     "text": [
      "  2%|▏         | 1/43 [00:03<02:19,  3.32s/it]"
     ]
    },
    {
     "name": "stdout",
     "output_type": "stream",
     "text": [
      "Train loss: 0.17755645513534546\n"
     ]
    },
    {
     "name": "stderr",
     "output_type": "stream",
     "text": [
      " 26%|██▌       | 11/43 [00:26<01:15,  2.35s/it]"
     ]
    },
    {
     "name": "stdout",
     "output_type": "stream",
     "text": [
      "Train loss: 1.6330267190933228\n"
     ]
    },
    {
     "name": "stderr",
     "output_type": "stream",
     "text": [
      " 49%|████▉     | 21/43 [00:50<00:51,  2.35s/it]"
     ]
    },
    {
     "name": "stdout",
     "output_type": "stream",
     "text": [
      "Train loss: 1.6412609815597534\n"
     ]
    },
    {
     "name": "stderr",
     "output_type": "stream",
     "text": [
      " 72%|███████▏  | 31/43 [01:13<00:28,  2.34s/it]"
     ]
    },
    {
     "name": "stdout",
     "output_type": "stream",
     "text": [
      "Train loss: 1.6360327005386353\n"
     ]
    },
    {
     "name": "stderr",
     "output_type": "stream",
     "text": [
      " 95%|█████████▌| 41/43 [01:37<00:04,  2.34s/it]"
     ]
    },
    {
     "name": "stdout",
     "output_type": "stream",
     "text": [
      "Train loss: 1.6842520236968994\n"
     ]
    },
    {
     "name": "stderr",
     "output_type": "stream",
     "text": [
      "100%|██████████| 43/43 [01:40<00:00,  2.34s/it]\n",
      "Validation: 100%|██████████| 13/13 [00:31<00:00,  2.39s/it]\n"
     ]
    },
    {
     "name": "stdout",
     "output_type": "stream",
     "text": [
      "Validation loss = [tensor(1.9065, device='cuda:0', grad_fn=<DivBackward0>), tensor(1.8300, device='cuda:0', grad_fn=<DivBackward0>), tensor(1.7860, device='cuda:0', grad_fn=<DivBackward0>), tensor(1.7659, device='cuda:0', grad_fn=<DivBackward0>), tensor(1.7526, device='cuda:0', grad_fn=<DivBackward0>), tensor(1.7369, device='cuda:0', grad_fn=<DivBackward0>), tensor(1.7136, device='cuda:0', grad_fn=<DivBackward0>), tensor(1.7136, device='cuda:0', grad_fn=<DivBackward0>)]\n",
      "Epoch 9\n"
     ]
    },
    {
     "name": "stderr",
     "output_type": "stream",
     "text": [
      "  2%|▏         | 1/43 [00:03<02:17,  3.28s/it]"
     ]
    },
    {
     "name": "stdout",
     "output_type": "stream",
     "text": [
      "Train loss: 0.16134250164031982\n"
     ]
    },
    {
     "name": "stderr",
     "output_type": "stream",
     "text": [
      " 26%|██▌       | 11/43 [00:26<01:15,  2.35s/it]"
     ]
    },
    {
     "name": "stdout",
     "output_type": "stream",
     "text": [
      "Train loss: 1.6359026432037354\n"
     ]
    },
    {
     "name": "stderr",
     "output_type": "stream",
     "text": [
      " 49%|████▉     | 21/43 [00:50<00:51,  2.34s/it]"
     ]
    },
    {
     "name": "stdout",
     "output_type": "stream",
     "text": [
      "Train loss: 1.6397974491119385\n"
     ]
    },
    {
     "name": "stderr",
     "output_type": "stream",
     "text": [
      " 72%|███████▏  | 31/43 [01:13<00:28,  2.34s/it]"
     ]
    },
    {
     "name": "stdout",
     "output_type": "stream",
     "text": [
      "Train loss: 1.6350994110107422\n"
     ]
    },
    {
     "name": "stderr",
     "output_type": "stream",
     "text": [
      " 95%|█████████▌| 41/43 [01:36<00:04,  2.34s/it]"
     ]
    },
    {
     "name": "stdout",
     "output_type": "stream",
     "text": [
      "Train loss: 1.6394081115722656\n"
     ]
    },
    {
     "name": "stderr",
     "output_type": "stream",
     "text": [
      "100%|██████████| 43/43 [01:40<00:00,  2.34s/it]\n",
      "Validation: 100%|██████████| 13/13 [00:31<00:00,  2.39s/it]\n"
     ]
    },
    {
     "name": "stdout",
     "output_type": "stream",
     "text": [
      "Validation loss = [tensor(1.9065, device='cuda:0', grad_fn=<DivBackward0>), tensor(1.8300, device='cuda:0', grad_fn=<DivBackward0>), tensor(1.7860, device='cuda:0', grad_fn=<DivBackward0>), tensor(1.7659, device='cuda:0', grad_fn=<DivBackward0>), tensor(1.7526, device='cuda:0', grad_fn=<DivBackward0>), tensor(1.7369, device='cuda:0', grad_fn=<DivBackward0>), tensor(1.7136, device='cuda:0', grad_fn=<DivBackward0>), tensor(1.7136, device='cuda:0', grad_fn=<DivBackward0>), tensor(1.6984, device='cuda:0', grad_fn=<DivBackward0>)]\n",
      "Epoch 10\n"
     ]
    },
    {
     "name": "stderr",
     "output_type": "stream",
     "text": [
      "  2%|▏         | 1/43 [00:03<02:21,  3.36s/it]"
     ]
    },
    {
     "name": "stdout",
     "output_type": "stream",
     "text": [
      "Train loss: 0.15551285445690155\n"
     ]
    },
    {
     "name": "stderr",
     "output_type": "stream",
     "text": [
      " 26%|██▌       | 11/43 [00:26<01:15,  2.35s/it]"
     ]
    },
    {
     "name": "stdout",
     "output_type": "stream",
     "text": [
      "Train loss: 1.6069004535675049\n"
     ]
    },
    {
     "name": "stderr",
     "output_type": "stream",
     "text": [
      " 49%|████▉     | 21/43 [00:50<00:51,  2.34s/it]"
     ]
    },
    {
     "name": "stdout",
     "output_type": "stream",
     "text": [
      "Train loss: 1.6692167520523071\n"
     ]
    },
    {
     "name": "stderr",
     "output_type": "stream",
     "text": [
      " 72%|███████▏  | 31/43 [01:13<00:28,  2.34s/it]"
     ]
    },
    {
     "name": "stdout",
     "output_type": "stream",
     "text": [
      "Train loss: 1.6035349369049072\n"
     ]
    },
    {
     "name": "stderr",
     "output_type": "stream",
     "text": [
      " 95%|█████████▌| 41/43 [01:36<00:04,  2.34s/it]"
     ]
    },
    {
     "name": "stdout",
     "output_type": "stream",
     "text": [
      "Train loss: 1.6211931705474854\n"
     ]
    },
    {
     "name": "stderr",
     "output_type": "stream",
     "text": [
      "100%|██████████| 43/43 [01:40<00:00,  2.34s/it]\n",
      "Validation: 100%|██████████| 13/13 [00:30<00:00,  2.38s/it]\n"
     ]
    },
    {
     "name": "stdout",
     "output_type": "stream",
     "text": [
      "Validation loss = [tensor(1.9065, device='cuda:0', grad_fn=<DivBackward0>), tensor(1.8300, device='cuda:0', grad_fn=<DivBackward0>), tensor(1.7860, device='cuda:0', grad_fn=<DivBackward0>), tensor(1.7659, device='cuda:0', grad_fn=<DivBackward0>), tensor(1.7526, device='cuda:0', grad_fn=<DivBackward0>), tensor(1.7369, device='cuda:0', grad_fn=<DivBackward0>), tensor(1.7136, device='cuda:0', grad_fn=<DivBackward0>), tensor(1.7136, device='cuda:0', grad_fn=<DivBackward0>), tensor(1.6984, device='cuda:0', grad_fn=<DivBackward0>), tensor(1.6978, device='cuda:0', grad_fn=<DivBackward0>)]\n",
      "Epoch 11\n"
     ]
    },
    {
     "name": "stderr",
     "output_type": "stream",
     "text": [
      "  2%|▏         | 1/43 [00:03<02:17,  3.28s/it]"
     ]
    },
    {
     "name": "stdout",
     "output_type": "stream",
     "text": [
      "Train loss: 0.16119986772537231\n"
     ]
    },
    {
     "name": "stderr",
     "output_type": "stream",
     "text": [
      " 26%|██▌       | 11/43 [00:26<01:15,  2.35s/it]"
     ]
    },
    {
     "name": "stdout",
     "output_type": "stream",
     "text": [
      "Train loss: 1.6324704885482788\n"
     ]
    },
    {
     "name": "stderr",
     "output_type": "stream",
     "text": [
      " 49%|████▉     | 21/43 [00:50<00:51,  2.34s/it]"
     ]
    },
    {
     "name": "stdout",
     "output_type": "stream",
     "text": [
      "Train loss: 1.5746382474899292\n"
     ]
    },
    {
     "name": "stderr",
     "output_type": "stream",
     "text": [
      " 72%|███████▏  | 31/43 [01:13<00:28,  2.34s/it]"
     ]
    },
    {
     "name": "stdout",
     "output_type": "stream",
     "text": [
      "Train loss: 1.644989252090454\n"
     ]
    },
    {
     "name": "stderr",
     "output_type": "stream",
     "text": [
      " 95%|█████████▌| 41/43 [01:36<00:04,  2.34s/it]"
     ]
    },
    {
     "name": "stdout",
     "output_type": "stream",
     "text": [
      "Train loss: 1.61981999874115\n"
     ]
    },
    {
     "name": "stderr",
     "output_type": "stream",
     "text": [
      "100%|██████████| 43/43 [01:40<00:00,  2.34s/it]\n",
      "Validation: 100%|██████████| 13/13 [00:30<00:00,  2.38s/it]\n"
     ]
    },
    {
     "name": "stdout",
     "output_type": "stream",
     "text": [
      "Validation loss = [tensor(1.9065, device='cuda:0', grad_fn=<DivBackward0>), tensor(1.8300, device='cuda:0', grad_fn=<DivBackward0>), tensor(1.7860, device='cuda:0', grad_fn=<DivBackward0>), tensor(1.7659, device='cuda:0', grad_fn=<DivBackward0>), tensor(1.7526, device='cuda:0', grad_fn=<DivBackward0>), tensor(1.7369, device='cuda:0', grad_fn=<DivBackward0>), tensor(1.7136, device='cuda:0', grad_fn=<DivBackward0>), tensor(1.7136, device='cuda:0', grad_fn=<DivBackward0>), tensor(1.6984, device='cuda:0', grad_fn=<DivBackward0>), tensor(1.6978, device='cuda:0', grad_fn=<DivBackward0>), tensor(1.7040, device='cuda:0', grad_fn=<DivBackward0>)]\n",
      "Epoch 12\n"
     ]
    },
    {
     "name": "stderr",
     "output_type": "stream",
     "text": [
      "  2%|▏         | 1/43 [00:03<02:18,  3.29s/it]"
     ]
    },
    {
     "name": "stdout",
     "output_type": "stream",
     "text": [
      "Train loss: 0.17037630081176758\n"
     ]
    },
    {
     "name": "stderr",
     "output_type": "stream",
     "text": [
      " 26%|██▌       | 11/43 [00:26<01:15,  2.35s/it]"
     ]
    },
    {
     "name": "stdout",
     "output_type": "stream",
     "text": [
      "Train loss: 1.6096245050430298\n"
     ]
    },
    {
     "name": "stderr",
     "output_type": "stream",
     "text": [
      " 49%|████▉     | 21/43 [00:50<00:51,  2.35s/it]"
     ]
    },
    {
     "name": "stdout",
     "output_type": "stream",
     "text": [
      "Train loss: 1.5761619806289673\n"
     ]
    },
    {
     "name": "stderr",
     "output_type": "stream",
     "text": [
      " 72%|███████▏  | 31/43 [01:13<00:28,  2.34s/it]"
     ]
    },
    {
     "name": "stdout",
     "output_type": "stream",
     "text": [
      "Train loss: 1.6513267755508423\n"
     ]
    },
    {
     "name": "stderr",
     "output_type": "stream",
     "text": [
      " 95%|█████████▌| 41/43 [01:36<00:04,  2.34s/it]"
     ]
    },
    {
     "name": "stdout",
     "output_type": "stream",
     "text": [
      "Train loss: 1.550737738609314\n"
     ]
    },
    {
     "name": "stderr",
     "output_type": "stream",
     "text": [
      "100%|██████████| 43/43 [01:40<00:00,  2.34s/it]\n",
      "Validation: 100%|██████████| 13/13 [00:31<00:00,  2.39s/it]\n"
     ]
    },
    {
     "name": "stdout",
     "output_type": "stream",
     "text": [
      "Validation loss = [tensor(1.9065, device='cuda:0', grad_fn=<DivBackward0>), tensor(1.8300, device='cuda:0', grad_fn=<DivBackward0>), tensor(1.7860, device='cuda:0', grad_fn=<DivBackward0>), tensor(1.7659, device='cuda:0', grad_fn=<DivBackward0>), tensor(1.7526, device='cuda:0', grad_fn=<DivBackward0>), tensor(1.7369, device='cuda:0', grad_fn=<DivBackward0>), tensor(1.7136, device='cuda:0', grad_fn=<DivBackward0>), tensor(1.7136, device='cuda:0', grad_fn=<DivBackward0>), tensor(1.6984, device='cuda:0', grad_fn=<DivBackward0>), tensor(1.6978, device='cuda:0', grad_fn=<DivBackward0>), tensor(1.7040, device='cuda:0', grad_fn=<DivBackward0>), tensor(1.6847, device='cuda:0', grad_fn=<DivBackward0>)]\n",
      "Epoch 13\n"
     ]
    },
    {
     "name": "stderr",
     "output_type": "stream",
     "text": [
      "  2%|▏         | 1/43 [00:03<02:19,  3.33s/it]"
     ]
    },
    {
     "name": "stdout",
     "output_type": "stream",
     "text": [
      "Train loss: 0.16286616027355194\n"
     ]
    },
    {
     "name": "stderr",
     "output_type": "stream",
     "text": [
      " 26%|██▌       | 11/43 [00:26<01:15,  2.35s/it]"
     ]
    },
    {
     "name": "stdout",
     "output_type": "stream",
     "text": [
      "Train loss: 1.5941303968429565\n"
     ]
    },
    {
     "name": "stderr",
     "output_type": "stream",
     "text": [
      " 49%|████▉     | 21/43 [00:50<00:51,  2.34s/it]"
     ]
    },
    {
     "name": "stdout",
     "output_type": "stream",
     "text": [
      "Train loss: 1.5952720642089844\n"
     ]
    },
    {
     "name": "stderr",
     "output_type": "stream",
     "text": [
      " 72%|███████▏  | 31/43 [01:13<00:28,  2.34s/it]"
     ]
    },
    {
     "name": "stdout",
     "output_type": "stream",
     "text": [
      "Train loss: 1.592124342918396\n"
     ]
    },
    {
     "name": "stderr",
     "output_type": "stream",
     "text": [
      " 95%|█████████▌| 41/43 [01:37<00:04,  2.34s/it]"
     ]
    },
    {
     "name": "stdout",
     "output_type": "stream",
     "text": [
      "Train loss: 1.5719668865203857\n"
     ]
    },
    {
     "name": "stderr",
     "output_type": "stream",
     "text": [
      "100%|██████████| 43/43 [01:40<00:00,  2.34s/it]\n",
      "Validation: 100%|██████████| 13/13 [00:31<00:00,  2.39s/it]\n"
     ]
    },
    {
     "name": "stdout",
     "output_type": "stream",
     "text": [
      "Validation loss = [tensor(1.9065, device='cuda:0', grad_fn=<DivBackward0>), tensor(1.8300, device='cuda:0', grad_fn=<DivBackward0>), tensor(1.7860, device='cuda:0', grad_fn=<DivBackward0>), tensor(1.7659, device='cuda:0', grad_fn=<DivBackward0>), tensor(1.7526, device='cuda:0', grad_fn=<DivBackward0>), tensor(1.7369, device='cuda:0', grad_fn=<DivBackward0>), tensor(1.7136, device='cuda:0', grad_fn=<DivBackward0>), tensor(1.7136, device='cuda:0', grad_fn=<DivBackward0>), tensor(1.6984, device='cuda:0', grad_fn=<DivBackward0>), tensor(1.6978, device='cuda:0', grad_fn=<DivBackward0>), tensor(1.7040, device='cuda:0', grad_fn=<DivBackward0>), tensor(1.6847, device='cuda:0', grad_fn=<DivBackward0>), tensor(1.6896, device='cuda:0', grad_fn=<DivBackward0>)]\n",
      "Epoch 14\n"
     ]
    },
    {
     "name": "stderr",
     "output_type": "stream",
     "text": [
      "  2%|▏         | 1/43 [00:03<02:19,  3.33s/it]"
     ]
    },
    {
     "name": "stdout",
     "output_type": "stream",
     "text": [
      "Train loss: 0.1697513461112976\n"
     ]
    },
    {
     "name": "stderr",
     "output_type": "stream",
     "text": [
      " 26%|██▌       | 11/43 [00:26<01:15,  2.35s/it]"
     ]
    },
    {
     "name": "stdout",
     "output_type": "stream",
     "text": [
      "Train loss: 1.581934928894043\n"
     ]
    },
    {
     "name": "stderr",
     "output_type": "stream",
     "text": [
      " 49%|████▉     | 21/43 [00:50<00:51,  2.34s/it]"
     ]
    },
    {
     "name": "stdout",
     "output_type": "stream",
     "text": [
      "Train loss: 1.587936282157898\n"
     ]
    },
    {
     "name": "stderr",
     "output_type": "stream",
     "text": [
      " 72%|███████▏  | 31/43 [01:13<00:28,  2.34s/it]"
     ]
    },
    {
     "name": "stdout",
     "output_type": "stream",
     "text": [
      "Train loss: 1.5627248287200928\n"
     ]
    },
    {
     "name": "stderr",
     "output_type": "stream",
     "text": [
      " 95%|█████████▌| 41/43 [01:37<00:04,  2.34s/it]"
     ]
    },
    {
     "name": "stdout",
     "output_type": "stream",
     "text": [
      "Train loss: 1.5864055156707764\n"
     ]
    },
    {
     "name": "stderr",
     "output_type": "stream",
     "text": [
      "100%|██████████| 43/43 [01:40<00:00,  2.34s/it]\n",
      "Validation: 100%|██████████| 13/13 [00:30<00:00,  2.38s/it]\n"
     ]
    },
    {
     "name": "stdout",
     "output_type": "stream",
     "text": [
      "Validation loss = [tensor(1.9065, device='cuda:0', grad_fn=<DivBackward0>), tensor(1.8300, device='cuda:0', grad_fn=<DivBackward0>), tensor(1.7860, device='cuda:0', grad_fn=<DivBackward0>), tensor(1.7659, device='cuda:0', grad_fn=<DivBackward0>), tensor(1.7526, device='cuda:0', grad_fn=<DivBackward0>), tensor(1.7369, device='cuda:0', grad_fn=<DivBackward0>), tensor(1.7136, device='cuda:0', grad_fn=<DivBackward0>), tensor(1.7136, device='cuda:0', grad_fn=<DivBackward0>), tensor(1.6984, device='cuda:0', grad_fn=<DivBackward0>), tensor(1.6978, device='cuda:0', grad_fn=<DivBackward0>), tensor(1.7040, device='cuda:0', grad_fn=<DivBackward0>), tensor(1.6847, device='cuda:0', grad_fn=<DivBackward0>), tensor(1.6896, device='cuda:0', grad_fn=<DivBackward0>), tensor(1.6666, device='cuda:0', grad_fn=<DivBackward0>)]\n",
      "Epoch 15\n"
     ]
    },
    {
     "name": "stderr",
     "output_type": "stream",
     "text": [
      "  2%|▏         | 1/43 [00:03<02:21,  3.36s/it]"
     ]
    },
    {
     "name": "stdout",
     "output_type": "stream",
     "text": [
      "Train loss: 0.16312064230442047\n"
     ]
    },
    {
     "name": "stderr",
     "output_type": "stream",
     "text": [
      " 26%|██▌       | 11/43 [00:26<01:15,  2.35s/it]"
     ]
    },
    {
     "name": "stdout",
     "output_type": "stream",
     "text": [
      "Train loss: 1.5487583875656128\n"
     ]
    },
    {
     "name": "stderr",
     "output_type": "stream",
     "text": [
      " 49%|████▉     | 21/43 [00:50<00:51,  2.34s/it]"
     ]
    },
    {
     "name": "stdout",
     "output_type": "stream",
     "text": [
      "Train loss: 1.567255973815918\n"
     ]
    },
    {
     "name": "stderr",
     "output_type": "stream",
     "text": [
      " 72%|███████▏  | 31/43 [01:13<00:28,  2.34s/it]"
     ]
    },
    {
     "name": "stdout",
     "output_type": "stream",
     "text": [
      "Train loss: 1.558066964149475\n"
     ]
    },
    {
     "name": "stderr",
     "output_type": "stream",
     "text": [
      " 95%|█████████▌| 41/43 [01:36<00:04,  2.34s/it]"
     ]
    },
    {
     "name": "stdout",
     "output_type": "stream",
     "text": [
      "Train loss: 1.5946518182754517\n"
     ]
    },
    {
     "name": "stderr",
     "output_type": "stream",
     "text": [
      "100%|██████████| 43/43 [01:40<00:00,  2.34s/it]\n",
      "Validation: 100%|██████████| 13/13 [00:30<00:00,  2.38s/it]\n"
     ]
    },
    {
     "name": "stdout",
     "output_type": "stream",
     "text": [
      "Validation loss = [tensor(1.9065, device='cuda:0', grad_fn=<DivBackward0>), tensor(1.8300, device='cuda:0', grad_fn=<DivBackward0>), tensor(1.7860, device='cuda:0', grad_fn=<DivBackward0>), tensor(1.7659, device='cuda:0', grad_fn=<DivBackward0>), tensor(1.7526, device='cuda:0', grad_fn=<DivBackward0>), tensor(1.7369, device='cuda:0', grad_fn=<DivBackward0>), tensor(1.7136, device='cuda:0', grad_fn=<DivBackward0>), tensor(1.7136, device='cuda:0', grad_fn=<DivBackward0>), tensor(1.6984, device='cuda:0', grad_fn=<DivBackward0>), tensor(1.6978, device='cuda:0', grad_fn=<DivBackward0>), tensor(1.7040, device='cuda:0', grad_fn=<DivBackward0>), tensor(1.6847, device='cuda:0', grad_fn=<DivBackward0>), tensor(1.6896, device='cuda:0', grad_fn=<DivBackward0>), tensor(1.6666, device='cuda:0', grad_fn=<DivBackward0>), tensor(1.6698, device='cuda:0', grad_fn=<DivBackward0>)]\n",
      "Epoch 16\n"
     ]
    },
    {
     "name": "stderr",
     "output_type": "stream",
     "text": [
      "  2%|▏         | 1/43 [00:03<02:19,  3.31s/it]"
     ]
    },
    {
     "name": "stdout",
     "output_type": "stream",
     "text": [
      "Train loss: 0.16156090795993805\n"
     ]
    },
    {
     "name": "stderr",
     "output_type": "stream",
     "text": [
      " 26%|██▌       | 11/43 [00:26<01:15,  2.35s/it]"
     ]
    },
    {
     "name": "stdout",
     "output_type": "stream",
     "text": [
      "Train loss: 1.5474499464035034\n"
     ]
    },
    {
     "name": "stderr",
     "output_type": "stream",
     "text": [
      " 49%|████▉     | 21/43 [00:50<00:51,  2.34s/it]"
     ]
    },
    {
     "name": "stdout",
     "output_type": "stream",
     "text": [
      "Train loss: 1.5741876363754272\n"
     ]
    },
    {
     "name": "stderr",
     "output_type": "stream",
     "text": [
      " 72%|███████▏  | 31/43 [01:13<00:28,  2.34s/it]"
     ]
    },
    {
     "name": "stdout",
     "output_type": "stream",
     "text": [
      "Train loss: 1.5732816457748413\n"
     ]
    },
    {
     "name": "stderr",
     "output_type": "stream",
     "text": [
      " 95%|█████████▌| 41/43 [01:36<00:04,  2.34s/it]"
     ]
    },
    {
     "name": "stdout",
     "output_type": "stream",
     "text": [
      "Train loss: 1.5561789274215698\n"
     ]
    },
    {
     "name": "stderr",
     "output_type": "stream",
     "text": [
      "100%|██████████| 43/43 [01:40<00:00,  2.34s/it]\n",
      "Validation: 100%|██████████| 13/13 [00:31<00:00,  2.39s/it]\n"
     ]
    },
    {
     "name": "stdout",
     "output_type": "stream",
     "text": [
      "Validation loss = [tensor(1.9065, device='cuda:0', grad_fn=<DivBackward0>), tensor(1.8300, device='cuda:0', grad_fn=<DivBackward0>), tensor(1.7860, device='cuda:0', grad_fn=<DivBackward0>), tensor(1.7659, device='cuda:0', grad_fn=<DivBackward0>), tensor(1.7526, device='cuda:0', grad_fn=<DivBackward0>), tensor(1.7369, device='cuda:0', grad_fn=<DivBackward0>), tensor(1.7136, device='cuda:0', grad_fn=<DivBackward0>), tensor(1.7136, device='cuda:0', grad_fn=<DivBackward0>), tensor(1.6984, device='cuda:0', grad_fn=<DivBackward0>), tensor(1.6978, device='cuda:0', grad_fn=<DivBackward0>), tensor(1.7040, device='cuda:0', grad_fn=<DivBackward0>), tensor(1.6847, device='cuda:0', grad_fn=<DivBackward0>), tensor(1.6896, device='cuda:0', grad_fn=<DivBackward0>), tensor(1.6666, device='cuda:0', grad_fn=<DivBackward0>), tensor(1.6698, device='cuda:0', grad_fn=<DivBackward0>), tensor(1.6450, device='cuda:0', grad_fn=<DivBackward0>)]\n",
      "Epoch 17\n"
     ]
    },
    {
     "name": "stderr",
     "output_type": "stream",
     "text": [
      "  2%|▏         | 1/43 [00:03<02:18,  3.30s/it]"
     ]
    },
    {
     "name": "stdout",
     "output_type": "stream",
     "text": [
      "Train loss: 0.16802679002285004\n"
     ]
    },
    {
     "name": "stderr",
     "output_type": "stream",
     "text": [
      " 26%|██▌       | 11/43 [00:26<01:15,  2.35s/it]"
     ]
    },
    {
     "name": "stdout",
     "output_type": "stream",
     "text": [
      "Train loss: 1.5555148124694824\n"
     ]
    },
    {
     "name": "stderr",
     "output_type": "stream",
     "text": [
      " 49%|████▉     | 21/43 [00:50<00:51,  2.34s/it]"
     ]
    },
    {
     "name": "stdout",
     "output_type": "stream",
     "text": [
      "Train loss: 1.5721535682678223\n"
     ]
    },
    {
     "name": "stderr",
     "output_type": "stream",
     "text": [
      " 72%|███████▏  | 31/43 [01:13<00:28,  2.34s/it]"
     ]
    },
    {
     "name": "stdout",
     "output_type": "stream",
     "text": [
      "Train loss: 1.5386600494384766\n"
     ]
    },
    {
     "name": "stderr",
     "output_type": "stream",
     "text": [
      " 95%|█████████▌| 41/43 [01:36<00:04,  2.34s/it]"
     ]
    },
    {
     "name": "stdout",
     "output_type": "stream",
     "text": [
      "Train loss: 1.5224298238754272\n"
     ]
    },
    {
     "name": "stderr",
     "output_type": "stream",
     "text": [
      "100%|██████████| 43/43 [01:40<00:00,  2.34s/it]\n",
      "Validation: 100%|██████████| 13/13 [00:31<00:00,  2.38s/it]\n"
     ]
    },
    {
     "name": "stdout",
     "output_type": "stream",
     "text": [
      "Validation loss = [tensor(1.9065, device='cuda:0', grad_fn=<DivBackward0>), tensor(1.8300, device='cuda:0', grad_fn=<DivBackward0>), tensor(1.7860, device='cuda:0', grad_fn=<DivBackward0>), tensor(1.7659, device='cuda:0', grad_fn=<DivBackward0>), tensor(1.7526, device='cuda:0', grad_fn=<DivBackward0>), tensor(1.7369, device='cuda:0', grad_fn=<DivBackward0>), tensor(1.7136, device='cuda:0', grad_fn=<DivBackward0>), tensor(1.7136, device='cuda:0', grad_fn=<DivBackward0>), tensor(1.6984, device='cuda:0', grad_fn=<DivBackward0>), tensor(1.6978, device='cuda:0', grad_fn=<DivBackward0>), tensor(1.7040, device='cuda:0', grad_fn=<DivBackward0>), tensor(1.6847, device='cuda:0', grad_fn=<DivBackward0>), tensor(1.6896, device='cuda:0', grad_fn=<DivBackward0>), tensor(1.6666, device='cuda:0', grad_fn=<DivBackward0>), tensor(1.6698, device='cuda:0', grad_fn=<DivBackward0>), tensor(1.6450, device='cuda:0', grad_fn=<DivBackward0>), tensor(1.6526, device='cuda:0', grad_fn=<DivBackward0>)]\n",
      "Epoch 18\n"
     ]
    },
    {
     "name": "stderr",
     "output_type": "stream",
     "text": [
      "  2%|▏         | 1/43 [00:03<02:18,  3.31s/it]"
     ]
    },
    {
     "name": "stdout",
     "output_type": "stream",
     "text": [
      "Train loss: 0.14633560180664062\n"
     ]
    },
    {
     "name": "stderr",
     "output_type": "stream",
     "text": [
      " 26%|██▌       | 11/43 [00:26<01:15,  2.36s/it]"
     ]
    },
    {
     "name": "stdout",
     "output_type": "stream",
     "text": [
      "Train loss: 1.5848793983459473\n"
     ]
    },
    {
     "name": "stderr",
     "output_type": "stream",
     "text": [
      " 49%|████▉     | 21/43 [00:50<00:51,  2.34s/it]"
     ]
    },
    {
     "name": "stdout",
     "output_type": "stream",
     "text": [
      "Train loss: 1.5737706422805786\n"
     ]
    },
    {
     "name": "stderr",
     "output_type": "stream",
     "text": [
      " 72%|███████▏  | 31/43 [01:13<00:28,  2.34s/it]"
     ]
    },
    {
     "name": "stdout",
     "output_type": "stream",
     "text": [
      "Train loss: 1.5478756427764893\n"
     ]
    },
    {
     "name": "stderr",
     "output_type": "stream",
     "text": [
      " 95%|█████████▌| 41/43 [01:36<00:04,  2.34s/it]"
     ]
    },
    {
     "name": "stdout",
     "output_type": "stream",
     "text": [
      "Train loss: 1.5037411451339722\n"
     ]
    },
    {
     "name": "stderr",
     "output_type": "stream",
     "text": [
      "100%|██████████| 43/43 [01:40<00:00,  2.34s/it]\n",
      "Validation: 100%|██████████| 13/13 [00:31<00:00,  2.39s/it]\n"
     ]
    },
    {
     "name": "stdout",
     "output_type": "stream",
     "text": [
      "Validation loss = [tensor(1.9065, device='cuda:0', grad_fn=<DivBackward0>), tensor(1.8300, device='cuda:0', grad_fn=<DivBackward0>), tensor(1.7860, device='cuda:0', grad_fn=<DivBackward0>), tensor(1.7659, device='cuda:0', grad_fn=<DivBackward0>), tensor(1.7526, device='cuda:0', grad_fn=<DivBackward0>), tensor(1.7369, device='cuda:0', grad_fn=<DivBackward0>), tensor(1.7136, device='cuda:0', grad_fn=<DivBackward0>), tensor(1.7136, device='cuda:0', grad_fn=<DivBackward0>), tensor(1.6984, device='cuda:0', grad_fn=<DivBackward0>), tensor(1.6978, device='cuda:0', grad_fn=<DivBackward0>), tensor(1.7040, device='cuda:0', grad_fn=<DivBackward0>), tensor(1.6847, device='cuda:0', grad_fn=<DivBackward0>), tensor(1.6896, device='cuda:0', grad_fn=<DivBackward0>), tensor(1.6666, device='cuda:0', grad_fn=<DivBackward0>), tensor(1.6698, device='cuda:0', grad_fn=<DivBackward0>), tensor(1.6450, device='cuda:0', grad_fn=<DivBackward0>), tensor(1.6526, device='cuda:0', grad_fn=<DivBackward0>), tensor(1.6479, device='cuda:0', grad_fn=<DivBackward0>)]\n",
      "Epoch 19\n"
     ]
    },
    {
     "name": "stderr",
     "output_type": "stream",
     "text": [
      "  2%|▏         | 1/43 [00:03<02:19,  3.31s/it]"
     ]
    },
    {
     "name": "stdout",
     "output_type": "stream",
     "text": [
      "Train loss: 0.16633567214012146\n"
     ]
    },
    {
     "name": "stderr",
     "output_type": "stream",
     "text": [
      " 26%|██▌       | 11/43 [00:26<01:15,  2.35s/it]"
     ]
    },
    {
     "name": "stdout",
     "output_type": "stream",
     "text": [
      "Train loss: 1.5118359327316284\n"
     ]
    },
    {
     "name": "stderr",
     "output_type": "stream",
     "text": [
      " 49%|████▉     | 21/43 [00:50<00:51,  2.35s/it]"
     ]
    },
    {
     "name": "stdout",
     "output_type": "stream",
     "text": [
      "Train loss: 1.5442190170288086\n"
     ]
    },
    {
     "name": "stderr",
     "output_type": "stream",
     "text": [
      " 72%|███████▏  | 31/43 [01:13<00:28,  2.34s/it]"
     ]
    },
    {
     "name": "stdout",
     "output_type": "stream",
     "text": [
      "Train loss: 1.5300302505493164\n"
     ]
    },
    {
     "name": "stderr",
     "output_type": "stream",
     "text": [
      " 95%|█████████▌| 41/43 [01:36<00:04,  2.34s/it]"
     ]
    },
    {
     "name": "stdout",
     "output_type": "stream",
     "text": [
      "Train loss: 1.5508214235305786\n"
     ]
    },
    {
     "name": "stderr",
     "output_type": "stream",
     "text": [
      "100%|██████████| 43/43 [01:40<00:00,  2.34s/it]\n",
      "Validation: 100%|██████████| 13/13 [00:31<00:00,  2.39s/it]\n"
     ]
    },
    {
     "name": "stdout",
     "output_type": "stream",
     "text": [
      "Validation loss = [tensor(1.9065, device='cuda:0', grad_fn=<DivBackward0>), tensor(1.8300, device='cuda:0', grad_fn=<DivBackward0>), tensor(1.7860, device='cuda:0', grad_fn=<DivBackward0>), tensor(1.7659, device='cuda:0', grad_fn=<DivBackward0>), tensor(1.7526, device='cuda:0', grad_fn=<DivBackward0>), tensor(1.7369, device='cuda:0', grad_fn=<DivBackward0>), tensor(1.7136, device='cuda:0', grad_fn=<DivBackward0>), tensor(1.7136, device='cuda:0', grad_fn=<DivBackward0>), tensor(1.6984, device='cuda:0', grad_fn=<DivBackward0>), tensor(1.6978, device='cuda:0', grad_fn=<DivBackward0>), tensor(1.7040, device='cuda:0', grad_fn=<DivBackward0>), tensor(1.6847, device='cuda:0', grad_fn=<DivBackward0>), tensor(1.6896, device='cuda:0', grad_fn=<DivBackward0>), tensor(1.6666, device='cuda:0', grad_fn=<DivBackward0>), tensor(1.6698, device='cuda:0', grad_fn=<DivBackward0>), tensor(1.6450, device='cuda:0', grad_fn=<DivBackward0>), tensor(1.6526, device='cuda:0', grad_fn=<DivBackward0>), tensor(1.6479, device='cuda:0', grad_fn=<DivBackward0>), tensor(1.6435, device='cuda:0', grad_fn=<DivBackward0>)]\n",
      "Epoch 20\n"
     ]
    },
    {
     "name": "stderr",
     "output_type": "stream",
     "text": [
      "  2%|▏         | 1/43 [00:03<02:18,  3.29s/it]"
     ]
    },
    {
     "name": "stdout",
     "output_type": "stream",
     "text": [
      "Train loss: 0.14177076518535614\n"
     ]
    },
    {
     "name": "stderr",
     "output_type": "stream",
     "text": [
      " 26%|██▌       | 11/43 [00:26<01:15,  2.35s/it]"
     ]
    },
    {
     "name": "stdout",
     "output_type": "stream",
     "text": [
      "Train loss: 1.5470167398452759\n"
     ]
    },
    {
     "name": "stderr",
     "output_type": "stream",
     "text": [
      " 49%|████▉     | 21/43 [00:50<00:51,  2.34s/it]"
     ]
    },
    {
     "name": "stdout",
     "output_type": "stream",
     "text": [
      "Train loss: 1.547237515449524\n"
     ]
    },
    {
     "name": "stderr",
     "output_type": "stream",
     "text": [
      " 72%|███████▏  | 31/43 [01:13<00:28,  2.34s/it]"
     ]
    },
    {
     "name": "stdout",
     "output_type": "stream",
     "text": [
      "Train loss: 1.511709451675415\n"
     ]
    },
    {
     "name": "stderr",
     "output_type": "stream",
     "text": [
      " 95%|█████████▌| 41/43 [01:36<00:04,  2.34s/it]"
     ]
    },
    {
     "name": "stdout",
     "output_type": "stream",
     "text": [
      "Train loss: 1.5399945974349976\n"
     ]
    },
    {
     "name": "stderr",
     "output_type": "stream",
     "text": [
      "100%|██████████| 43/43 [01:40<00:00,  2.34s/it]\n",
      "Validation: 100%|██████████| 13/13 [00:31<00:00,  2.39s/it]\n"
     ]
    },
    {
     "name": "stdout",
     "output_type": "stream",
     "text": [
      "Validation loss = [tensor(1.9065, device='cuda:0', grad_fn=<DivBackward0>), tensor(1.8300, device='cuda:0', grad_fn=<DivBackward0>), tensor(1.7860, device='cuda:0', grad_fn=<DivBackward0>), tensor(1.7659, device='cuda:0', grad_fn=<DivBackward0>), tensor(1.7526, device='cuda:0', grad_fn=<DivBackward0>), tensor(1.7369, device='cuda:0', grad_fn=<DivBackward0>), tensor(1.7136, device='cuda:0', grad_fn=<DivBackward0>), tensor(1.7136, device='cuda:0', grad_fn=<DivBackward0>), tensor(1.6984, device='cuda:0', grad_fn=<DivBackward0>), tensor(1.6978, device='cuda:0', grad_fn=<DivBackward0>), tensor(1.7040, device='cuda:0', grad_fn=<DivBackward0>), tensor(1.6847, device='cuda:0', grad_fn=<DivBackward0>), tensor(1.6896, device='cuda:0', grad_fn=<DivBackward0>), tensor(1.6666, device='cuda:0', grad_fn=<DivBackward0>), tensor(1.6698, device='cuda:0', grad_fn=<DivBackward0>), tensor(1.6450, device='cuda:0', grad_fn=<DivBackward0>), tensor(1.6526, device='cuda:0', grad_fn=<DivBackward0>), tensor(1.6479, device='cuda:0', grad_fn=<DivBackward0>), tensor(1.6435, device='cuda:0', grad_fn=<DivBackward0>), tensor(1.6568, device='cuda:0', grad_fn=<DivBackward0>)]\n",
      "Epoch 21\n"
     ]
    },
    {
     "name": "stderr",
     "output_type": "stream",
     "text": [
      "  2%|▏         | 1/43 [00:03<02:19,  3.32s/it]"
     ]
    },
    {
     "name": "stdout",
     "output_type": "stream",
     "text": [
      "Train loss: 0.1639644354581833\n"
     ]
    },
    {
     "name": "stderr",
     "output_type": "stream",
     "text": [
      " 26%|██▌       | 11/43 [00:26<01:15,  2.35s/it]"
     ]
    },
    {
     "name": "stdout",
     "output_type": "stream",
     "text": [
      "Train loss: 1.5623958110809326\n"
     ]
    },
    {
     "name": "stderr",
     "output_type": "stream",
     "text": [
      " 49%|████▉     | 21/43 [00:50<00:51,  2.34s/it]"
     ]
    },
    {
     "name": "stdout",
     "output_type": "stream",
     "text": [
      "Train loss: 1.514320969581604\n"
     ]
    },
    {
     "name": "stderr",
     "output_type": "stream",
     "text": [
      " 72%|███████▏  | 31/43 [01:13<00:28,  2.34s/it]"
     ]
    },
    {
     "name": "stdout",
     "output_type": "stream",
     "text": [
      "Train loss: 1.562097191810608\n"
     ]
    },
    {
     "name": "stderr",
     "output_type": "stream",
     "text": [
      " 95%|█████████▌| 41/43 [01:36<00:04,  2.34s/it]"
     ]
    },
    {
     "name": "stdout",
     "output_type": "stream",
     "text": [
      "Train loss: 1.4788068532943726\n"
     ]
    },
    {
     "name": "stderr",
     "output_type": "stream",
     "text": [
      "100%|██████████| 43/43 [01:40<00:00,  2.34s/it]\n",
      "Validation: 100%|██████████| 13/13 [00:31<00:00,  2.39s/it]\n"
     ]
    },
    {
     "name": "stdout",
     "output_type": "stream",
     "text": [
      "Validation loss = [tensor(1.9065, device='cuda:0', grad_fn=<DivBackward0>), tensor(1.8300, device='cuda:0', grad_fn=<DivBackward0>), tensor(1.7860, device='cuda:0', grad_fn=<DivBackward0>), tensor(1.7659, device='cuda:0', grad_fn=<DivBackward0>), tensor(1.7526, device='cuda:0', grad_fn=<DivBackward0>), tensor(1.7369, device='cuda:0', grad_fn=<DivBackward0>), tensor(1.7136, device='cuda:0', grad_fn=<DivBackward0>), tensor(1.7136, device='cuda:0', grad_fn=<DivBackward0>), tensor(1.6984, device='cuda:0', grad_fn=<DivBackward0>), tensor(1.6978, device='cuda:0', grad_fn=<DivBackward0>), tensor(1.7040, device='cuda:0', grad_fn=<DivBackward0>), tensor(1.6847, device='cuda:0', grad_fn=<DivBackward0>), tensor(1.6896, device='cuda:0', grad_fn=<DivBackward0>), tensor(1.6666, device='cuda:0', grad_fn=<DivBackward0>), tensor(1.6698, device='cuda:0', grad_fn=<DivBackward0>), tensor(1.6450, device='cuda:0', grad_fn=<DivBackward0>), tensor(1.6526, device='cuda:0', grad_fn=<DivBackward0>), tensor(1.6479, device='cuda:0', grad_fn=<DivBackward0>), tensor(1.6435, device='cuda:0', grad_fn=<DivBackward0>), tensor(1.6568, device='cuda:0', grad_fn=<DivBackward0>), tensor(1.6310, device='cuda:0', grad_fn=<DivBackward0>)]\n",
      "Epoch 22\n"
     ]
    },
    {
     "name": "stderr",
     "output_type": "stream",
     "text": [
      "  2%|▏         | 1/43 [00:03<02:17,  3.28s/it]"
     ]
    },
    {
     "name": "stdout",
     "output_type": "stream",
     "text": [
      "Train loss: 0.1608469933271408\n"
     ]
    },
    {
     "name": "stderr",
     "output_type": "stream",
     "text": [
      " 26%|██▌       | 11/43 [00:26<01:15,  2.35s/it]"
     ]
    },
    {
     "name": "stdout",
     "output_type": "stream",
     "text": [
      "Train loss: 1.5210984945297241\n"
     ]
    },
    {
     "name": "stderr",
     "output_type": "stream",
     "text": [
      " 49%|████▉     | 21/43 [00:50<00:51,  2.34s/it]"
     ]
    },
    {
     "name": "stdout",
     "output_type": "stream",
     "text": [
      "Train loss: 1.5228439569473267\n"
     ]
    },
    {
     "name": "stderr",
     "output_type": "stream",
     "text": [
      " 72%|███████▏  | 31/43 [01:13<00:28,  2.34s/it]"
     ]
    },
    {
     "name": "stdout",
     "output_type": "stream",
     "text": [
      "Train loss: 1.5521587133407593\n"
     ]
    },
    {
     "name": "stderr",
     "output_type": "stream",
     "text": [
      " 95%|█████████▌| 41/43 [01:36<00:04,  2.34s/it]"
     ]
    },
    {
     "name": "stdout",
     "output_type": "stream",
     "text": [
      "Train loss: 1.4861947298049927\n"
     ]
    },
    {
     "name": "stderr",
     "output_type": "stream",
     "text": [
      "100%|██████████| 43/43 [01:40<00:00,  2.34s/it]\n",
      "Validation: 100%|██████████| 13/13 [00:31<00:00,  2.39s/it]\n"
     ]
    },
    {
     "name": "stdout",
     "output_type": "stream",
     "text": [
      "Validation loss = [tensor(1.9065, device='cuda:0', grad_fn=<DivBackward0>), tensor(1.8300, device='cuda:0', grad_fn=<DivBackward0>), tensor(1.7860, device='cuda:0', grad_fn=<DivBackward0>), tensor(1.7659, device='cuda:0', grad_fn=<DivBackward0>), tensor(1.7526, device='cuda:0', grad_fn=<DivBackward0>), tensor(1.7369, device='cuda:0', grad_fn=<DivBackward0>), tensor(1.7136, device='cuda:0', grad_fn=<DivBackward0>), tensor(1.7136, device='cuda:0', grad_fn=<DivBackward0>), tensor(1.6984, device='cuda:0', grad_fn=<DivBackward0>), tensor(1.6978, device='cuda:0', grad_fn=<DivBackward0>), tensor(1.7040, device='cuda:0', grad_fn=<DivBackward0>), tensor(1.6847, device='cuda:0', grad_fn=<DivBackward0>), tensor(1.6896, device='cuda:0', grad_fn=<DivBackward0>), tensor(1.6666, device='cuda:0', grad_fn=<DivBackward0>), tensor(1.6698, device='cuda:0', grad_fn=<DivBackward0>), tensor(1.6450, device='cuda:0', grad_fn=<DivBackward0>), tensor(1.6526, device='cuda:0', grad_fn=<DivBackward0>), tensor(1.6479, device='cuda:0', grad_fn=<DivBackward0>), tensor(1.6435, device='cuda:0', grad_fn=<DivBackward0>), tensor(1.6568, device='cuda:0', grad_fn=<DivBackward0>), tensor(1.6310, device='cuda:0', grad_fn=<DivBackward0>), tensor(1.6326, device='cuda:0', grad_fn=<DivBackward0>)]\n",
      "Epoch 23\n"
     ]
    },
    {
     "name": "stderr",
     "output_type": "stream",
     "text": [
      "  2%|▏         | 1/43 [00:03<02:17,  3.27s/it]"
     ]
    },
    {
     "name": "stdout",
     "output_type": "stream",
     "text": [
      "Train loss: 0.14578793942928314\n"
     ]
    },
    {
     "name": "stderr",
     "output_type": "stream",
     "text": [
      " 26%|██▌       | 11/43 [00:26<01:15,  2.35s/it]"
     ]
    },
    {
     "name": "stdout",
     "output_type": "stream",
     "text": [
      "Train loss: 1.4910802841186523\n"
     ]
    },
    {
     "name": "stderr",
     "output_type": "stream",
     "text": [
      " 49%|████▉     | 21/43 [00:50<00:51,  2.34s/it]"
     ]
    },
    {
     "name": "stdout",
     "output_type": "stream",
     "text": [
      "Train loss: 1.5392411947250366\n"
     ]
    },
    {
     "name": "stderr",
     "output_type": "stream",
     "text": [
      " 72%|███████▏  | 31/43 [01:13<00:28,  2.34s/it]"
     ]
    },
    {
     "name": "stdout",
     "output_type": "stream",
     "text": [
      "Train loss: 1.4943889379501343\n"
     ]
    },
    {
     "name": "stderr",
     "output_type": "stream",
     "text": [
      " 95%|█████████▌| 41/43 [01:36<00:04,  2.34s/it]"
     ]
    },
    {
     "name": "stdout",
     "output_type": "stream",
     "text": [
      "Train loss: 1.5398733615875244\n"
     ]
    },
    {
     "name": "stderr",
     "output_type": "stream",
     "text": [
      "100%|██████████| 43/43 [01:40<00:00,  2.33s/it]\n",
      "Validation: 100%|██████████| 13/13 [00:31<00:00,  2.39s/it]\n"
     ]
    },
    {
     "name": "stdout",
     "output_type": "stream",
     "text": [
      "Validation loss = [tensor(1.9065, device='cuda:0', grad_fn=<DivBackward0>), tensor(1.8300, device='cuda:0', grad_fn=<DivBackward0>), tensor(1.7860, device='cuda:0', grad_fn=<DivBackward0>), tensor(1.7659, device='cuda:0', grad_fn=<DivBackward0>), tensor(1.7526, device='cuda:0', grad_fn=<DivBackward0>), tensor(1.7369, device='cuda:0', grad_fn=<DivBackward0>), tensor(1.7136, device='cuda:0', grad_fn=<DivBackward0>), tensor(1.7136, device='cuda:0', grad_fn=<DivBackward0>), tensor(1.6984, device='cuda:0', grad_fn=<DivBackward0>), tensor(1.6978, device='cuda:0', grad_fn=<DivBackward0>), tensor(1.7040, device='cuda:0', grad_fn=<DivBackward0>), tensor(1.6847, device='cuda:0', grad_fn=<DivBackward0>), tensor(1.6896, device='cuda:0', grad_fn=<DivBackward0>), tensor(1.6666, device='cuda:0', grad_fn=<DivBackward0>), tensor(1.6698, device='cuda:0', grad_fn=<DivBackward0>), tensor(1.6450, device='cuda:0', grad_fn=<DivBackward0>), tensor(1.6526, device='cuda:0', grad_fn=<DivBackward0>), tensor(1.6479, device='cuda:0', grad_fn=<DivBackward0>), tensor(1.6435, device='cuda:0', grad_fn=<DivBackward0>), tensor(1.6568, device='cuda:0', grad_fn=<DivBackward0>), tensor(1.6310, device='cuda:0', grad_fn=<DivBackward0>), tensor(1.6326, device='cuda:0', grad_fn=<DivBackward0>), tensor(1.6467, device='cuda:0', grad_fn=<DivBackward0>)]\n",
      "Epoch 24\n"
     ]
    },
    {
     "name": "stderr",
     "output_type": "stream",
     "text": [
      "  2%|▏         | 1/43 [00:03<02:19,  3.33s/it]"
     ]
    },
    {
     "name": "stdout",
     "output_type": "stream",
     "text": [
      "Train loss: 0.14942382276058197\n"
     ]
    },
    {
     "name": "stderr",
     "output_type": "stream",
     "text": [
      " 26%|██▌       | 11/43 [00:26<01:15,  2.35s/it]"
     ]
    },
    {
     "name": "stdout",
     "output_type": "stream",
     "text": [
      "Train loss: 1.5442475080490112\n"
     ]
    },
    {
     "name": "stderr",
     "output_type": "stream",
     "text": [
      " 49%|████▉     | 21/43 [00:50<00:51,  2.34s/it]"
     ]
    },
    {
     "name": "stdout",
     "output_type": "stream",
     "text": [
      "Train loss: 1.5077729225158691\n"
     ]
    },
    {
     "name": "stderr",
     "output_type": "stream",
     "text": [
      " 72%|███████▏  | 31/43 [01:13<00:28,  2.34s/it]"
     ]
    },
    {
     "name": "stdout",
     "output_type": "stream",
     "text": [
      "Train loss: 1.4958606958389282\n"
     ]
    },
    {
     "name": "stderr",
     "output_type": "stream",
     "text": [
      " 95%|█████████▌| 41/43 [01:36<00:04,  2.34s/it]"
     ]
    },
    {
     "name": "stdout",
     "output_type": "stream",
     "text": [
      "Train loss: 1.4949774742126465\n"
     ]
    },
    {
     "name": "stderr",
     "output_type": "stream",
     "text": [
      "100%|██████████| 43/43 [01:40<00:00,  2.33s/it]\n",
      "Validation: 100%|██████████| 13/13 [00:30<00:00,  2.38s/it]\n"
     ]
    },
    {
     "name": "stdout",
     "output_type": "stream",
     "text": [
      "Validation loss = [tensor(1.9065, device='cuda:0', grad_fn=<DivBackward0>), tensor(1.8300, device='cuda:0', grad_fn=<DivBackward0>), tensor(1.7860, device='cuda:0', grad_fn=<DivBackward0>), tensor(1.7659, device='cuda:0', grad_fn=<DivBackward0>), tensor(1.7526, device='cuda:0', grad_fn=<DivBackward0>), tensor(1.7369, device='cuda:0', grad_fn=<DivBackward0>), tensor(1.7136, device='cuda:0', grad_fn=<DivBackward0>), tensor(1.7136, device='cuda:0', grad_fn=<DivBackward0>), tensor(1.6984, device='cuda:0', grad_fn=<DivBackward0>), tensor(1.6978, device='cuda:0', grad_fn=<DivBackward0>), tensor(1.7040, device='cuda:0', grad_fn=<DivBackward0>), tensor(1.6847, device='cuda:0', grad_fn=<DivBackward0>), tensor(1.6896, device='cuda:0', grad_fn=<DivBackward0>), tensor(1.6666, device='cuda:0', grad_fn=<DivBackward0>), tensor(1.6698, device='cuda:0', grad_fn=<DivBackward0>), tensor(1.6450, device='cuda:0', grad_fn=<DivBackward0>), tensor(1.6526, device='cuda:0', grad_fn=<DivBackward0>), tensor(1.6479, device='cuda:0', grad_fn=<DivBackward0>), tensor(1.6435, device='cuda:0', grad_fn=<DivBackward0>), tensor(1.6568, device='cuda:0', grad_fn=<DivBackward0>), tensor(1.6310, device='cuda:0', grad_fn=<DivBackward0>), tensor(1.6326, device='cuda:0', grad_fn=<DivBackward0>), tensor(1.6467, device='cuda:0', grad_fn=<DivBackward0>), tensor(1.6254, device='cuda:0', grad_fn=<DivBackward0>)]\n",
      "Epoch 25\n"
     ]
    },
    {
     "name": "stderr",
     "output_type": "stream",
     "text": [
      "  2%|▏         | 1/43 [00:03<02:19,  3.31s/it]"
     ]
    },
    {
     "name": "stdout",
     "output_type": "stream",
     "text": [
      "Train loss: 0.14983338117599487\n"
     ]
    },
    {
     "name": "stderr",
     "output_type": "stream",
     "text": [
      " 26%|██▌       | 11/43 [00:26<01:15,  2.35s/it]"
     ]
    },
    {
     "name": "stdout",
     "output_type": "stream",
     "text": [
      "Train loss: 1.5073617696762085\n"
     ]
    },
    {
     "name": "stderr",
     "output_type": "stream",
     "text": [
      " 49%|████▉     | 21/43 [00:50<00:51,  2.34s/it]"
     ]
    },
    {
     "name": "stdout",
     "output_type": "stream",
     "text": [
      "Train loss: 1.532566785812378\n"
     ]
    },
    {
     "name": "stderr",
     "output_type": "stream",
     "text": [
      " 72%|███████▏  | 31/43 [01:13<00:28,  2.34s/it]"
     ]
    },
    {
     "name": "stdout",
     "output_type": "stream",
     "text": [
      "Train loss: 1.4726325273513794\n"
     ]
    },
    {
     "name": "stderr",
     "output_type": "stream",
     "text": [
      " 95%|█████████▌| 41/43 [01:36<00:04,  2.34s/it]"
     ]
    },
    {
     "name": "stdout",
     "output_type": "stream",
     "text": [
      "Train loss: 1.4936141967773438\n"
     ]
    },
    {
     "name": "stderr",
     "output_type": "stream",
     "text": [
      "100%|██████████| 43/43 [01:40<00:00,  2.33s/it]\n",
      "Validation: 100%|██████████| 13/13 [00:31<00:00,  2.39s/it]\n"
     ]
    },
    {
     "name": "stdout",
     "output_type": "stream",
     "text": [
      "Validation loss = [tensor(1.9065, device='cuda:0', grad_fn=<DivBackward0>), tensor(1.8300, device='cuda:0', grad_fn=<DivBackward0>), tensor(1.7860, device='cuda:0', grad_fn=<DivBackward0>), tensor(1.7659, device='cuda:0', grad_fn=<DivBackward0>), tensor(1.7526, device='cuda:0', grad_fn=<DivBackward0>), tensor(1.7369, device='cuda:0', grad_fn=<DivBackward0>), tensor(1.7136, device='cuda:0', grad_fn=<DivBackward0>), tensor(1.7136, device='cuda:0', grad_fn=<DivBackward0>), tensor(1.6984, device='cuda:0', grad_fn=<DivBackward0>), tensor(1.6978, device='cuda:0', grad_fn=<DivBackward0>), tensor(1.7040, device='cuda:0', grad_fn=<DivBackward0>), tensor(1.6847, device='cuda:0', grad_fn=<DivBackward0>), tensor(1.6896, device='cuda:0', grad_fn=<DivBackward0>), tensor(1.6666, device='cuda:0', grad_fn=<DivBackward0>), tensor(1.6698, device='cuda:0', grad_fn=<DivBackward0>), tensor(1.6450, device='cuda:0', grad_fn=<DivBackward0>), tensor(1.6526, device='cuda:0', grad_fn=<DivBackward0>), tensor(1.6479, device='cuda:0', grad_fn=<DivBackward0>), tensor(1.6435, device='cuda:0', grad_fn=<DivBackward0>), tensor(1.6568, device='cuda:0', grad_fn=<DivBackward0>), tensor(1.6310, device='cuda:0', grad_fn=<DivBackward0>), tensor(1.6326, device='cuda:0', grad_fn=<DivBackward0>), tensor(1.6467, device='cuda:0', grad_fn=<DivBackward0>), tensor(1.6254, device='cuda:0', grad_fn=<DivBackward0>), tensor(1.6157, device='cuda:0', grad_fn=<DivBackward0>)]\n",
      "Epoch 26\n"
     ]
    },
    {
     "name": "stderr",
     "output_type": "stream",
     "text": [
      "  2%|▏         | 1/43 [00:03<02:17,  3.28s/it]"
     ]
    },
    {
     "name": "stdout",
     "output_type": "stream",
     "text": [
      "Train loss: 0.15004561841487885\n"
     ]
    },
    {
     "name": "stderr",
     "output_type": "stream",
     "text": [
      " 26%|██▌       | 11/43 [00:26<01:15,  2.35s/it]"
     ]
    },
    {
     "name": "stdout",
     "output_type": "stream",
     "text": [
      "Train loss: 1.510779619216919\n"
     ]
    },
    {
     "name": "stderr",
     "output_type": "stream",
     "text": [
      " 49%|████▉     | 21/43 [00:50<00:51,  2.34s/it]"
     ]
    },
    {
     "name": "stdout",
     "output_type": "stream",
     "text": [
      "Train loss: 1.4906628131866455\n"
     ]
    },
    {
     "name": "stderr",
     "output_type": "stream",
     "text": [
      " 72%|███████▏  | 31/43 [01:13<00:28,  2.33s/it]"
     ]
    },
    {
     "name": "stdout",
     "output_type": "stream",
     "text": [
      "Train loss: 1.490073561668396\n"
     ]
    },
    {
     "name": "stderr",
     "output_type": "stream",
     "text": [
      " 95%|█████████▌| 41/43 [01:36<00:04,  2.33s/it]"
     ]
    },
    {
     "name": "stdout",
     "output_type": "stream",
     "text": [
      "Train loss: 1.4767788648605347\n"
     ]
    },
    {
     "name": "stderr",
     "output_type": "stream",
     "text": [
      "100%|██████████| 43/43 [01:40<00:00,  2.33s/it]\n",
      "Validation: 100%|██████████| 13/13 [00:30<00:00,  2.38s/it]\n"
     ]
    },
    {
     "name": "stdout",
     "output_type": "stream",
     "text": [
      "Validation loss = [tensor(1.9065, device='cuda:0', grad_fn=<DivBackward0>), tensor(1.8300, device='cuda:0', grad_fn=<DivBackward0>), tensor(1.7860, device='cuda:0', grad_fn=<DivBackward0>), tensor(1.7659, device='cuda:0', grad_fn=<DivBackward0>), tensor(1.7526, device='cuda:0', grad_fn=<DivBackward0>), tensor(1.7369, device='cuda:0', grad_fn=<DivBackward0>), tensor(1.7136, device='cuda:0', grad_fn=<DivBackward0>), tensor(1.7136, device='cuda:0', grad_fn=<DivBackward0>), tensor(1.6984, device='cuda:0', grad_fn=<DivBackward0>), tensor(1.6978, device='cuda:0', grad_fn=<DivBackward0>), tensor(1.7040, device='cuda:0', grad_fn=<DivBackward0>), tensor(1.6847, device='cuda:0', grad_fn=<DivBackward0>), tensor(1.6896, device='cuda:0', grad_fn=<DivBackward0>), tensor(1.6666, device='cuda:0', grad_fn=<DivBackward0>), tensor(1.6698, device='cuda:0', grad_fn=<DivBackward0>), tensor(1.6450, device='cuda:0', grad_fn=<DivBackward0>), tensor(1.6526, device='cuda:0', grad_fn=<DivBackward0>), tensor(1.6479, device='cuda:0', grad_fn=<DivBackward0>), tensor(1.6435, device='cuda:0', grad_fn=<DivBackward0>), tensor(1.6568, device='cuda:0', grad_fn=<DivBackward0>), tensor(1.6310, device='cuda:0', grad_fn=<DivBackward0>), tensor(1.6326, device='cuda:0', grad_fn=<DivBackward0>), tensor(1.6467, device='cuda:0', grad_fn=<DivBackward0>), tensor(1.6254, device='cuda:0', grad_fn=<DivBackward0>), tensor(1.6157, device='cuda:0', grad_fn=<DivBackward0>), tensor(1.6137, device='cuda:0', grad_fn=<DivBackward0>)]\n",
      "Epoch 27\n"
     ]
    },
    {
     "name": "stderr",
     "output_type": "stream",
     "text": [
      "  2%|▏         | 1/43 [00:03<02:20,  3.35s/it]"
     ]
    },
    {
     "name": "stdout",
     "output_type": "stream",
     "text": [
      "Train loss: 0.1447943150997162\n"
     ]
    },
    {
     "name": "stderr",
     "output_type": "stream",
     "text": [
      " 26%|██▌       | 11/43 [00:26<01:15,  2.35s/it]"
     ]
    },
    {
     "name": "stdout",
     "output_type": "stream",
     "text": [
      "Train loss: 1.4961589574813843\n"
     ]
    },
    {
     "name": "stderr",
     "output_type": "stream",
     "text": [
      " 49%|████▉     | 21/43 [00:50<00:51,  2.34s/it]"
     ]
    },
    {
     "name": "stdout",
     "output_type": "stream",
     "text": [
      "Train loss: 1.487730860710144\n"
     ]
    },
    {
     "name": "stderr",
     "output_type": "stream",
     "text": [
      " 72%|███████▏  | 31/43 [01:13<00:28,  2.33s/it]"
     ]
    },
    {
     "name": "stdout",
     "output_type": "stream",
     "text": [
      "Train loss: 1.4575475454330444\n"
     ]
    },
    {
     "name": "stderr",
     "output_type": "stream",
     "text": [
      " 95%|█████████▌| 41/43 [01:36<00:04,  2.33s/it]"
     ]
    },
    {
     "name": "stdout",
     "output_type": "stream",
     "text": [
      "Train loss: 1.5122888088226318\n"
     ]
    },
    {
     "name": "stderr",
     "output_type": "stream",
     "text": [
      "100%|██████████| 43/43 [01:40<00:00,  2.33s/it]\n",
      "Validation: 100%|██████████| 13/13 [00:30<00:00,  2.38s/it]\n"
     ]
    },
    {
     "name": "stdout",
     "output_type": "stream",
     "text": [
      "Validation loss = [tensor(1.9065, device='cuda:0', grad_fn=<DivBackward0>), tensor(1.8300, device='cuda:0', grad_fn=<DivBackward0>), tensor(1.7860, device='cuda:0', grad_fn=<DivBackward0>), tensor(1.7659, device='cuda:0', grad_fn=<DivBackward0>), tensor(1.7526, device='cuda:0', grad_fn=<DivBackward0>), tensor(1.7369, device='cuda:0', grad_fn=<DivBackward0>), tensor(1.7136, device='cuda:0', grad_fn=<DivBackward0>), tensor(1.7136, device='cuda:0', grad_fn=<DivBackward0>), tensor(1.6984, device='cuda:0', grad_fn=<DivBackward0>), tensor(1.6978, device='cuda:0', grad_fn=<DivBackward0>), tensor(1.7040, device='cuda:0', grad_fn=<DivBackward0>), tensor(1.6847, device='cuda:0', grad_fn=<DivBackward0>), tensor(1.6896, device='cuda:0', grad_fn=<DivBackward0>), tensor(1.6666, device='cuda:0', grad_fn=<DivBackward0>), tensor(1.6698, device='cuda:0', grad_fn=<DivBackward0>), tensor(1.6450, device='cuda:0', grad_fn=<DivBackward0>), tensor(1.6526, device='cuda:0', grad_fn=<DivBackward0>), tensor(1.6479, device='cuda:0', grad_fn=<DivBackward0>), tensor(1.6435, device='cuda:0', grad_fn=<DivBackward0>), tensor(1.6568, device='cuda:0', grad_fn=<DivBackward0>), tensor(1.6310, device='cuda:0', grad_fn=<DivBackward0>), tensor(1.6326, device='cuda:0', grad_fn=<DivBackward0>), tensor(1.6467, device='cuda:0', grad_fn=<DivBackward0>), tensor(1.6254, device='cuda:0', grad_fn=<DivBackward0>), tensor(1.6157, device='cuda:0', grad_fn=<DivBackward0>), tensor(1.6137, device='cuda:0', grad_fn=<DivBackward0>), tensor(1.6114, device='cuda:0', grad_fn=<DivBackward0>)]\n",
      "Epoch 28\n"
     ]
    },
    {
     "name": "stderr",
     "output_type": "stream",
     "text": [
      "  2%|▏         | 1/43 [00:03<02:18,  3.30s/it]"
     ]
    },
    {
     "name": "stdout",
     "output_type": "stream",
     "text": [
      "Train loss: 0.14966261386871338\n"
     ]
    },
    {
     "name": "stderr",
     "output_type": "stream",
     "text": [
      " 26%|██▌       | 11/43 [00:26<01:15,  2.35s/it]"
     ]
    },
    {
     "name": "stdout",
     "output_type": "stream",
     "text": [
      "Train loss: 1.501965880393982\n"
     ]
    },
    {
     "name": "stderr",
     "output_type": "stream",
     "text": [
      " 49%|████▉     | 21/43 [00:50<00:51,  2.34s/it]"
     ]
    },
    {
     "name": "stdout",
     "output_type": "stream",
     "text": [
      "Train loss: 1.4976168870925903\n"
     ]
    },
    {
     "name": "stderr",
     "output_type": "stream",
     "text": [
      " 72%|███████▏  | 31/43 [01:13<00:28,  2.34s/it]"
     ]
    },
    {
     "name": "stdout",
     "output_type": "stream",
     "text": [
      "Train loss: 1.4605910778045654\n"
     ]
    },
    {
     "name": "stderr",
     "output_type": "stream",
     "text": [
      " 95%|█████████▌| 41/43 [01:36<00:04,  2.34s/it]"
     ]
    },
    {
     "name": "stdout",
     "output_type": "stream",
     "text": [
      "Train loss: 1.4785256385803223\n"
     ]
    },
    {
     "name": "stderr",
     "output_type": "stream",
     "text": [
      "100%|██████████| 43/43 [01:40<00:00,  2.33s/it]\n",
      "Validation: 100%|██████████| 13/13 [00:31<00:00,  2.39s/it]\n"
     ]
    },
    {
     "name": "stdout",
     "output_type": "stream",
     "text": [
      "Validation loss = [tensor(1.9065, device='cuda:0', grad_fn=<DivBackward0>), tensor(1.8300, device='cuda:0', grad_fn=<DivBackward0>), tensor(1.7860, device='cuda:0', grad_fn=<DivBackward0>), tensor(1.7659, device='cuda:0', grad_fn=<DivBackward0>), tensor(1.7526, device='cuda:0', grad_fn=<DivBackward0>), tensor(1.7369, device='cuda:0', grad_fn=<DivBackward0>), tensor(1.7136, device='cuda:0', grad_fn=<DivBackward0>), tensor(1.7136, device='cuda:0', grad_fn=<DivBackward0>), tensor(1.6984, device='cuda:0', grad_fn=<DivBackward0>), tensor(1.6978, device='cuda:0', grad_fn=<DivBackward0>), tensor(1.7040, device='cuda:0', grad_fn=<DivBackward0>), tensor(1.6847, device='cuda:0', grad_fn=<DivBackward0>), tensor(1.6896, device='cuda:0', grad_fn=<DivBackward0>), tensor(1.6666, device='cuda:0', grad_fn=<DivBackward0>), tensor(1.6698, device='cuda:0', grad_fn=<DivBackward0>), tensor(1.6450, device='cuda:0', grad_fn=<DivBackward0>), tensor(1.6526, device='cuda:0', grad_fn=<DivBackward0>), tensor(1.6479, device='cuda:0', grad_fn=<DivBackward0>), tensor(1.6435, device='cuda:0', grad_fn=<DivBackward0>), tensor(1.6568, device='cuda:0', grad_fn=<DivBackward0>), tensor(1.6310, device='cuda:0', grad_fn=<DivBackward0>), tensor(1.6326, device='cuda:0', grad_fn=<DivBackward0>), tensor(1.6467, device='cuda:0', grad_fn=<DivBackward0>), tensor(1.6254, device='cuda:0', grad_fn=<DivBackward0>), tensor(1.6157, device='cuda:0', grad_fn=<DivBackward0>), tensor(1.6137, device='cuda:0', grad_fn=<DivBackward0>), tensor(1.6114, device='cuda:0', grad_fn=<DivBackward0>), tensor(1.6012, device='cuda:0', grad_fn=<DivBackward0>)]\n",
      "Epoch 29\n"
     ]
    },
    {
     "name": "stderr",
     "output_type": "stream",
     "text": [
      "  2%|▏         | 1/43 [00:03<02:18,  3.29s/it]"
     ]
    },
    {
     "name": "stdout",
     "output_type": "stream",
     "text": [
      "Train loss: 0.15284192562103271\n"
     ]
    },
    {
     "name": "stderr",
     "output_type": "stream",
     "text": [
      " 26%|██▌       | 11/43 [00:26<01:15,  2.35s/it]"
     ]
    },
    {
     "name": "stdout",
     "output_type": "stream",
     "text": [
      "Train loss: 1.459713101387024\n"
     ]
    },
    {
     "name": "stderr",
     "output_type": "stream",
     "text": [
      " 49%|████▉     | 21/43 [00:50<00:51,  2.34s/it]"
     ]
    },
    {
     "name": "stdout",
     "output_type": "stream",
     "text": [
      "Train loss: 1.4985109567642212\n"
     ]
    },
    {
     "name": "stderr",
     "output_type": "stream",
     "text": [
      " 72%|███████▏  | 31/43 [01:13<00:28,  2.34s/it]"
     ]
    },
    {
     "name": "stdout",
     "output_type": "stream",
     "text": [
      "Train loss: 1.4873420000076294\n"
     ]
    },
    {
     "name": "stderr",
     "output_type": "stream",
     "text": [
      " 95%|█████████▌| 41/43 [01:36<00:04,  2.34s/it]"
     ]
    },
    {
     "name": "stdout",
     "output_type": "stream",
     "text": [
      "Train loss: 1.4695196151733398\n"
     ]
    },
    {
     "name": "stderr",
     "output_type": "stream",
     "text": [
      "100%|██████████| 43/43 [01:40<00:00,  2.34s/it]\n",
      " 72%|███████▏  | 31/43 [01:13<00:28,  2.34s/it]  3.28s/it]"
     ]
    },
    {
     "name": "stdout",
     "output_type": "stream",
     "text": [
      "Train loss: 1.4643501043319702\n"
     ]
    },
    {
     "name": "stderr",
     "output_type": "stream",
     "text": [
      " 95%|█████████▌| 41/43 [01:37<00:04,  2.34s/it]"
     ]
    },
    {
     "name": "stdout",
     "output_type": "stream",
     "text": [
      "Train loss: 1.5175366401672363\n"
     ]
    },
    {
     "name": "stderr",
     "output_type": "stream",
     "text": [
      "100%|██████████| 43/43 [01:40<00:00,  2.34s/it]\n",
      "Validation: 100%|██████████| 13/13 [00:31<00:00,  2.39s/it]\n"
     ]
    },
    {
     "name": "stdout",
     "output_type": "stream",
     "text": [
      "Validation loss = [tensor(1.9065, device='cuda:0', grad_fn=<DivBackward0>), tensor(1.8300, device='cuda:0', grad_fn=<DivBackward0>), tensor(1.7860, device='cuda:0', grad_fn=<DivBackward0>), tensor(1.7659, device='cuda:0', grad_fn=<DivBackward0>), tensor(1.7526, device='cuda:0', grad_fn=<DivBackward0>), tensor(1.7369, device='cuda:0', grad_fn=<DivBackward0>), tensor(1.7136, device='cuda:0', grad_fn=<DivBackward0>), tensor(1.7136, device='cuda:0', grad_fn=<DivBackward0>), tensor(1.6984, device='cuda:0', grad_fn=<DivBackward0>), tensor(1.6978, device='cuda:0', grad_fn=<DivBackward0>), tensor(1.7040, device='cuda:0', grad_fn=<DivBackward0>), tensor(1.6847, device='cuda:0', grad_fn=<DivBackward0>), tensor(1.6896, device='cuda:0', grad_fn=<DivBackward0>), tensor(1.6666, device='cuda:0', grad_fn=<DivBackward0>), tensor(1.6698, device='cuda:0', grad_fn=<DivBackward0>), tensor(1.6450, device='cuda:0', grad_fn=<DivBackward0>), tensor(1.6526, device='cuda:0', grad_fn=<DivBackward0>), tensor(1.6479, device='cuda:0', grad_fn=<DivBackward0>), tensor(1.6435, device='cuda:0', grad_fn=<DivBackward0>), tensor(1.6568, device='cuda:0', grad_fn=<DivBackward0>), tensor(1.6310, device='cuda:0', grad_fn=<DivBackward0>), tensor(1.6326, device='cuda:0', grad_fn=<DivBackward0>), tensor(1.6467, device='cuda:0', grad_fn=<DivBackward0>), tensor(1.6254, device='cuda:0', grad_fn=<DivBackward0>), tensor(1.6157, device='cuda:0', grad_fn=<DivBackward0>), tensor(1.6137, device='cuda:0', grad_fn=<DivBackward0>), tensor(1.6114, device='cuda:0', grad_fn=<DivBackward0>), tensor(1.6012, device='cuda:0', grad_fn=<DivBackward0>), tensor(1.5913, device='cuda:0', grad_fn=<DivBackward0>), tensor(1.6053, device='cuda:0', grad_fn=<DivBackward0>)]\n",
      "Epoch 31\n"
     ]
    },
    {
     "name": "stderr",
     "output_type": "stream",
     "text": [
      "  2%|▏         | 1/43 [00:03<02:19,  3.32s/it]"
     ]
    },
    {
     "name": "stdout",
     "output_type": "stream",
     "text": [
      "Train loss: 0.14962278306484222\n"
     ]
    },
    {
     "name": "stderr",
     "output_type": "stream",
     "text": [
      " 26%|██▌       | 11/43 [00:26<01:15,  2.36s/it]"
     ]
    },
    {
     "name": "stdout",
     "output_type": "stream",
     "text": [
      "Train loss: 1.46675443649292\n"
     ]
    },
    {
     "name": "stderr",
     "output_type": "stream",
     "text": [
      " 49%|████▉     | 21/43 [00:50<00:51,  2.34s/it]"
     ]
    },
    {
     "name": "stdout",
     "output_type": "stream",
     "text": [
      "Train loss: 1.4754732847213745\n"
     ]
    },
    {
     "name": "stderr",
     "output_type": "stream",
     "text": [
      " 72%|███████▏  | 31/43 [01:13<00:28,  2.34s/it]"
     ]
    },
    {
     "name": "stdout",
     "output_type": "stream",
     "text": [
      "Train loss: 1.4523247480392456\n"
     ]
    },
    {
     "name": "stderr",
     "output_type": "stream",
     "text": [
      " 95%|█████████▌| 41/43 [01:36<00:04,  2.34s/it]"
     ]
    },
    {
     "name": "stdout",
     "output_type": "stream",
     "text": [
      "Train loss: 1.4666345119476318\n"
     ]
    },
    {
     "name": "stderr",
     "output_type": "stream",
     "text": [
      "100%|██████████| 43/43 [01:40<00:00,  2.34s/it]\n",
      "Validation: 100%|██████████| 13/13 [00:31<00:00,  2.39s/it]\n"
     ]
    },
    {
     "name": "stdout",
     "output_type": "stream",
     "text": [
      "Validation loss = [tensor(1.9065, device='cuda:0', grad_fn=<DivBackward0>), tensor(1.8300, device='cuda:0', grad_fn=<DivBackward0>), tensor(1.7860, device='cuda:0', grad_fn=<DivBackward0>), tensor(1.7659, device='cuda:0', grad_fn=<DivBackward0>), tensor(1.7526, device='cuda:0', grad_fn=<DivBackward0>), tensor(1.7369, device='cuda:0', grad_fn=<DivBackward0>), tensor(1.7136, device='cuda:0', grad_fn=<DivBackward0>), tensor(1.7136, device='cuda:0', grad_fn=<DivBackward0>), tensor(1.6984, device='cuda:0', grad_fn=<DivBackward0>), tensor(1.6978, device='cuda:0', grad_fn=<DivBackward0>), tensor(1.7040, device='cuda:0', grad_fn=<DivBackward0>), tensor(1.6847, device='cuda:0', grad_fn=<DivBackward0>), tensor(1.6896, device='cuda:0', grad_fn=<DivBackward0>), tensor(1.6666, device='cuda:0', grad_fn=<DivBackward0>), tensor(1.6698, device='cuda:0', grad_fn=<DivBackward0>), tensor(1.6450, device='cuda:0', grad_fn=<DivBackward0>), tensor(1.6526, device='cuda:0', grad_fn=<DivBackward0>), tensor(1.6479, device='cuda:0', grad_fn=<DivBackward0>), tensor(1.6435, device='cuda:0', grad_fn=<DivBackward0>), tensor(1.6568, device='cuda:0', grad_fn=<DivBackward0>), tensor(1.6310, device='cuda:0', grad_fn=<DivBackward0>), tensor(1.6326, device='cuda:0', grad_fn=<DivBackward0>), tensor(1.6467, device='cuda:0', grad_fn=<DivBackward0>), tensor(1.6254, device='cuda:0', grad_fn=<DivBackward0>), tensor(1.6157, device='cuda:0', grad_fn=<DivBackward0>), tensor(1.6137, device='cuda:0', grad_fn=<DivBackward0>), tensor(1.6114, device='cuda:0', grad_fn=<DivBackward0>), tensor(1.6012, device='cuda:0', grad_fn=<DivBackward0>), tensor(1.5913, device='cuda:0', grad_fn=<DivBackward0>), tensor(1.6053, device='cuda:0', grad_fn=<DivBackward0>), tensor(1.5992, device='cuda:0', grad_fn=<DivBackward0>)]\n",
      "Epoch 32\n"
     ]
    },
    {
     "name": "stderr",
     "output_type": "stream",
     "text": [
      "  2%|▏         | 1/43 [00:03<02:17,  3.27s/it]"
     ]
    },
    {
     "name": "stdout",
     "output_type": "stream",
     "text": [
      "Train loss: 0.1499914675951004\n"
     ]
    },
    {
     "name": "stderr",
     "output_type": "stream",
     "text": [
      " 26%|██▌       | 11/43 [00:26<01:15,  2.35s/it]"
     ]
    },
    {
     "name": "stdout",
     "output_type": "stream",
     "text": [
      "Train loss: 1.4874591827392578\n"
     ]
    },
    {
     "name": "stderr",
     "output_type": "stream",
     "text": [
      " 49%|████▉     | 21/43 [00:50<00:51,  2.35s/it]"
     ]
    },
    {
     "name": "stdout",
     "output_type": "stream",
     "text": [
      "Train loss: 1.430148720741272\n"
     ]
    },
    {
     "name": "stderr",
     "output_type": "stream",
     "text": [
      " 72%|███████▏  | 31/43 [01:13<00:28,  2.34s/it]"
     ]
    },
    {
     "name": "stdout",
     "output_type": "stream",
     "text": [
      "Train loss: 1.4519777297973633\n"
     ]
    },
    {
     "name": "stderr",
     "output_type": "stream",
     "text": [
      " 95%|█████████▌| 41/43 [01:36<00:04,  2.34s/it]"
     ]
    },
    {
     "name": "stdout",
     "output_type": "stream",
     "text": [
      "Train loss: 1.4898055791854858\n"
     ]
    },
    {
     "name": "stderr",
     "output_type": "stream",
     "text": [
      "100%|██████████| 43/43 [01:40<00:00,  2.34s/it]\n",
      "Validation: 100%|██████████| 13/13 [00:31<00:00,  2.39s/it]\n"
     ]
    },
    {
     "name": "stdout",
     "output_type": "stream",
     "text": [
      "Validation loss = [tensor(1.9065, device='cuda:0', grad_fn=<DivBackward0>), tensor(1.8300, device='cuda:0', grad_fn=<DivBackward0>), tensor(1.7860, device='cuda:0', grad_fn=<DivBackward0>), tensor(1.7659, device='cuda:0', grad_fn=<DivBackward0>), tensor(1.7526, device='cuda:0', grad_fn=<DivBackward0>), tensor(1.7369, device='cuda:0', grad_fn=<DivBackward0>), tensor(1.7136, device='cuda:0', grad_fn=<DivBackward0>), tensor(1.7136, device='cuda:0', grad_fn=<DivBackward0>), tensor(1.6984, device='cuda:0', grad_fn=<DivBackward0>), tensor(1.6978, device='cuda:0', grad_fn=<DivBackward0>), tensor(1.7040, device='cuda:0', grad_fn=<DivBackward0>), tensor(1.6847, device='cuda:0', grad_fn=<DivBackward0>), tensor(1.6896, device='cuda:0', grad_fn=<DivBackward0>), tensor(1.6666, device='cuda:0', grad_fn=<DivBackward0>), tensor(1.6698, device='cuda:0', grad_fn=<DivBackward0>), tensor(1.6450, device='cuda:0', grad_fn=<DivBackward0>), tensor(1.6526, device='cuda:0', grad_fn=<DivBackward0>), tensor(1.6479, device='cuda:0', grad_fn=<DivBackward0>), tensor(1.6435, device='cuda:0', grad_fn=<DivBackward0>), tensor(1.6568, device='cuda:0', grad_fn=<DivBackward0>), tensor(1.6310, device='cuda:0', grad_fn=<DivBackward0>), tensor(1.6326, device='cuda:0', grad_fn=<DivBackward0>), tensor(1.6467, device='cuda:0', grad_fn=<DivBackward0>), tensor(1.6254, device='cuda:0', grad_fn=<DivBackward0>), tensor(1.6157, device='cuda:0', grad_fn=<DivBackward0>), tensor(1.6137, device='cuda:0', grad_fn=<DivBackward0>), tensor(1.6114, device='cuda:0', grad_fn=<DivBackward0>), tensor(1.6012, device='cuda:0', grad_fn=<DivBackward0>), tensor(1.5913, device='cuda:0', grad_fn=<DivBackward0>), tensor(1.6053, device='cuda:0', grad_fn=<DivBackward0>), tensor(1.5992, device='cuda:0', grad_fn=<DivBackward0>), tensor(1.6021, device='cuda:0', grad_fn=<DivBackward0>)]\n",
      "Epoch 33\n"
     ]
    },
    {
     "name": "stderr",
     "output_type": "stream",
     "text": [
      "  2%|▏         | 1/43 [00:03<02:19,  3.33s/it]"
     ]
    },
    {
     "name": "stdout",
     "output_type": "stream",
     "text": [
      "Train loss: 0.15269501507282257\n"
     ]
    },
    {
     "name": "stderr",
     "output_type": "stream",
     "text": [
      " 26%|██▌       | 11/43 [00:26<01:15,  2.35s/it]"
     ]
    },
    {
     "name": "stdout",
     "output_type": "stream",
     "text": [
      "Train loss: 1.4555573463439941\n"
     ]
    },
    {
     "name": "stderr",
     "output_type": "stream",
     "text": [
      " 49%|████▉     | 21/43 [00:50<00:51,  2.35s/it]"
     ]
    },
    {
     "name": "stdout",
     "output_type": "stream",
     "text": [
      "Train loss: 1.4525941610336304\n"
     ]
    },
    {
     "name": "stderr",
     "output_type": "stream",
     "text": [
      " 72%|███████▏  | 31/43 [01:13<00:28,  2.34s/it]"
     ]
    },
    {
     "name": "stdout",
     "output_type": "stream",
     "text": [
      "Train loss: 1.4581283330917358\n"
     ]
    },
    {
     "name": "stderr",
     "output_type": "stream",
     "text": [
      " 95%|█████████▌| 41/43 [01:37<00:04,  2.34s/it]"
     ]
    },
    {
     "name": "stdout",
     "output_type": "stream",
     "text": [
      "Train loss: 1.4556857347488403\n"
     ]
    },
    {
     "name": "stderr",
     "output_type": "stream",
     "text": [
      "100%|██████████| 43/43 [01:40<00:00,  2.34s/it]\n",
      "Validation: 100%|██████████| 13/13 [00:31<00:00,  2.39s/it]\n"
     ]
    },
    {
     "name": "stdout",
     "output_type": "stream",
     "text": [
      "Validation loss = [tensor(1.9065, device='cuda:0', grad_fn=<DivBackward0>), tensor(1.8300, device='cuda:0', grad_fn=<DivBackward0>), tensor(1.7860, device='cuda:0', grad_fn=<DivBackward0>), tensor(1.7659, device='cuda:0', grad_fn=<DivBackward0>), tensor(1.7526, device='cuda:0', grad_fn=<DivBackward0>), tensor(1.7369, device='cuda:0', grad_fn=<DivBackward0>), tensor(1.7136, device='cuda:0', grad_fn=<DivBackward0>), tensor(1.7136, device='cuda:0', grad_fn=<DivBackward0>), tensor(1.6984, device='cuda:0', grad_fn=<DivBackward0>), tensor(1.6978, device='cuda:0', grad_fn=<DivBackward0>), tensor(1.7040, device='cuda:0', grad_fn=<DivBackward0>), tensor(1.6847, device='cuda:0', grad_fn=<DivBackward0>), tensor(1.6896, device='cuda:0', grad_fn=<DivBackward0>), tensor(1.6666, device='cuda:0', grad_fn=<DivBackward0>), tensor(1.6698, device='cuda:0', grad_fn=<DivBackward0>), tensor(1.6450, device='cuda:0', grad_fn=<DivBackward0>), tensor(1.6526, device='cuda:0', grad_fn=<DivBackward0>), tensor(1.6479, device='cuda:0', grad_fn=<DivBackward0>), tensor(1.6435, device='cuda:0', grad_fn=<DivBackward0>), tensor(1.6568, device='cuda:0', grad_fn=<DivBackward0>), tensor(1.6310, device='cuda:0', grad_fn=<DivBackward0>), tensor(1.6326, device='cuda:0', grad_fn=<DivBackward0>), tensor(1.6467, device='cuda:0', grad_fn=<DivBackward0>), tensor(1.6254, device='cuda:0', grad_fn=<DivBackward0>), tensor(1.6157, device='cuda:0', grad_fn=<DivBackward0>), tensor(1.6137, device='cuda:0', grad_fn=<DivBackward0>), tensor(1.6114, device='cuda:0', grad_fn=<DivBackward0>), tensor(1.6012, device='cuda:0', grad_fn=<DivBackward0>), tensor(1.5913, device='cuda:0', grad_fn=<DivBackward0>), tensor(1.6053, device='cuda:0', grad_fn=<DivBackward0>), tensor(1.5992, device='cuda:0', grad_fn=<DivBackward0>), tensor(1.6021, device='cuda:0', grad_fn=<DivBackward0>), tensor(1.5914, device='cuda:0', grad_fn=<DivBackward0>)]\n",
      "Epoch 34\n"
     ]
    },
    {
     "name": "stderr",
     "output_type": "stream",
     "text": [
      "  2%|▏         | 1/43 [00:03<02:18,  3.31s/it]"
     ]
    },
    {
     "name": "stdout",
     "output_type": "stream",
     "text": [
      "Train loss: 0.1468781679868698\n"
     ]
    },
    {
     "name": "stderr",
     "output_type": "stream",
     "text": [
      " 26%|██▌       | 11/43 [00:26<01:15,  2.35s/it]"
     ]
    },
    {
     "name": "stdout",
     "output_type": "stream",
     "text": [
      "Train loss: 1.532588005065918\n"
     ]
    },
    {
     "name": "stderr",
     "output_type": "stream",
     "text": [
      " 49%|████▉     | 21/43 [00:50<00:51,  2.34s/it]"
     ]
    },
    {
     "name": "stdout",
     "output_type": "stream",
     "text": [
      "Train loss: 1.4000627994537354\n"
     ]
    },
    {
     "name": "stderr",
     "output_type": "stream",
     "text": [
      " 72%|███████▏  | 31/43 [01:13<00:28,  2.34s/it]"
     ]
    },
    {
     "name": "stdout",
     "output_type": "stream",
     "text": [
      "Train loss: 1.4362882375717163\n"
     ]
    },
    {
     "name": "stderr",
     "output_type": "stream",
     "text": [
      " 95%|█████████▌| 41/43 [01:36<00:04,  2.34s/it]"
     ]
    },
    {
     "name": "stdout",
     "output_type": "stream",
     "text": [
      "Train loss: 1.435814619064331\n"
     ]
    },
    {
     "name": "stderr",
     "output_type": "stream",
     "text": [
      "100%|██████████| 43/43 [01:40<00:00,  2.34s/it]\n",
      "Validation: 100%|██████████| 13/13 [00:31<00:00,  2.39s/it]\n"
     ]
    },
    {
     "name": "stdout",
     "output_type": "stream",
     "text": [
      "Validation loss = [tensor(1.9065, device='cuda:0', grad_fn=<DivBackward0>), tensor(1.8300, device='cuda:0', grad_fn=<DivBackward0>), tensor(1.7860, device='cuda:0', grad_fn=<DivBackward0>), tensor(1.7659, device='cuda:0', grad_fn=<DivBackward0>), tensor(1.7526, device='cuda:0', grad_fn=<DivBackward0>), tensor(1.7369, device='cuda:0', grad_fn=<DivBackward0>), tensor(1.7136, device='cuda:0', grad_fn=<DivBackward0>), tensor(1.7136, device='cuda:0', grad_fn=<DivBackward0>), tensor(1.6984, device='cuda:0', grad_fn=<DivBackward0>), tensor(1.6978, device='cuda:0', grad_fn=<DivBackward0>), tensor(1.7040, device='cuda:0', grad_fn=<DivBackward0>), tensor(1.6847, device='cuda:0', grad_fn=<DivBackward0>), tensor(1.6896, device='cuda:0', grad_fn=<DivBackward0>), tensor(1.6666, device='cuda:0', grad_fn=<DivBackward0>), tensor(1.6698, device='cuda:0', grad_fn=<DivBackward0>), tensor(1.6450, device='cuda:0', grad_fn=<DivBackward0>), tensor(1.6526, device='cuda:0', grad_fn=<DivBackward0>), tensor(1.6479, device='cuda:0', grad_fn=<DivBackward0>), tensor(1.6435, device='cuda:0', grad_fn=<DivBackward0>), tensor(1.6568, device='cuda:0', grad_fn=<DivBackward0>), tensor(1.6310, device='cuda:0', grad_fn=<DivBackward0>), tensor(1.6326, device='cuda:0', grad_fn=<DivBackward0>), tensor(1.6467, device='cuda:0', grad_fn=<DivBackward0>), tensor(1.6254, device='cuda:0', grad_fn=<DivBackward0>), tensor(1.6157, device='cuda:0', grad_fn=<DivBackward0>), tensor(1.6137, device='cuda:0', grad_fn=<DivBackward0>), tensor(1.6114, device='cuda:0', grad_fn=<DivBackward0>), tensor(1.6012, device='cuda:0', grad_fn=<DivBackward0>), tensor(1.5913, device='cuda:0', grad_fn=<DivBackward0>), tensor(1.6053, device='cuda:0', grad_fn=<DivBackward0>), tensor(1.5992, device='cuda:0', grad_fn=<DivBackward0>), tensor(1.6021, device='cuda:0', grad_fn=<DivBackward0>), tensor(1.5914, device='cuda:0', grad_fn=<DivBackward0>), tensor(1.5827, device='cuda:0', grad_fn=<DivBackward0>)]\n",
      "Epoch 35\n"
     ]
    },
    {
     "name": "stderr",
     "output_type": "stream",
     "text": [
      "  2%|▏         | 1/43 [00:03<02:20,  3.36s/it]"
     ]
    },
    {
     "name": "stdout",
     "output_type": "stream",
     "text": [
      "Train loss: 0.1415739506483078\n"
     ]
    },
    {
     "name": "stderr",
     "output_type": "stream",
     "text": [
      " 26%|██▌       | 11/43 [00:26<01:15,  2.35s/it]"
     ]
    },
    {
     "name": "stdout",
     "output_type": "stream",
     "text": [
      "Train loss: 1.4432684183120728\n"
     ]
    },
    {
     "name": "stderr",
     "output_type": "stream",
     "text": [
      " 49%|████▉     | 21/43 [00:50<00:51,  2.34s/it]"
     ]
    },
    {
     "name": "stdout",
     "output_type": "stream",
     "text": [
      "Train loss: 1.4352790117263794\n"
     ]
    },
    {
     "name": "stderr",
     "output_type": "stream",
     "text": [
      " 72%|███████▏  | 31/43 [01:13<00:28,  2.34s/it]"
     ]
    },
    {
     "name": "stdout",
     "output_type": "stream",
     "text": [
      "Train loss: 1.474583625793457\n"
     ]
    },
    {
     "name": "stderr",
     "output_type": "stream",
     "text": [
      " 95%|█████████▌| 41/43 [01:36<00:04,  2.34s/it]"
     ]
    },
    {
     "name": "stdout",
     "output_type": "stream",
     "text": [
      "Train loss: 1.445471167564392\n"
     ]
    },
    {
     "name": "stderr",
     "output_type": "stream",
     "text": [
      "100%|██████████| 43/43 [01:40<00:00,  2.34s/it]\n",
      "Validation: 100%|██████████| 13/13 [00:31<00:00,  2.39s/it]\n"
     ]
    },
    {
     "name": "stdout",
     "output_type": "stream",
     "text": [
      "Validation loss = [tensor(1.9065, device='cuda:0', grad_fn=<DivBackward0>), tensor(1.8300, device='cuda:0', grad_fn=<DivBackward0>), tensor(1.7860, device='cuda:0', grad_fn=<DivBackward0>), tensor(1.7659, device='cuda:0', grad_fn=<DivBackward0>), tensor(1.7526, device='cuda:0', grad_fn=<DivBackward0>), tensor(1.7369, device='cuda:0', grad_fn=<DivBackward0>), tensor(1.7136, device='cuda:0', grad_fn=<DivBackward0>), tensor(1.7136, device='cuda:0', grad_fn=<DivBackward0>), tensor(1.6984, device='cuda:0', grad_fn=<DivBackward0>), tensor(1.6978, device='cuda:0', grad_fn=<DivBackward0>), tensor(1.7040, device='cuda:0', grad_fn=<DivBackward0>), tensor(1.6847, device='cuda:0', grad_fn=<DivBackward0>), tensor(1.6896, device='cuda:0', grad_fn=<DivBackward0>), tensor(1.6666, device='cuda:0', grad_fn=<DivBackward0>), tensor(1.6698, device='cuda:0', grad_fn=<DivBackward0>), tensor(1.6450, device='cuda:0', grad_fn=<DivBackward0>), tensor(1.6526, device='cuda:0', grad_fn=<DivBackward0>), tensor(1.6479, device='cuda:0', grad_fn=<DivBackward0>), tensor(1.6435, device='cuda:0', grad_fn=<DivBackward0>), tensor(1.6568, device='cuda:0', grad_fn=<DivBackward0>), tensor(1.6310, device='cuda:0', grad_fn=<DivBackward0>), tensor(1.6326, device='cuda:0', grad_fn=<DivBackward0>), tensor(1.6467, device='cuda:0', grad_fn=<DivBackward0>), tensor(1.6254, device='cuda:0', grad_fn=<DivBackward0>), tensor(1.6157, device='cuda:0', grad_fn=<DivBackward0>), tensor(1.6137, device='cuda:0', grad_fn=<DivBackward0>), tensor(1.6114, device='cuda:0', grad_fn=<DivBackward0>), tensor(1.6012, device='cuda:0', grad_fn=<DivBackward0>), tensor(1.5913, device='cuda:0', grad_fn=<DivBackward0>), tensor(1.6053, device='cuda:0', grad_fn=<DivBackward0>), tensor(1.5992, device='cuda:0', grad_fn=<DivBackward0>), tensor(1.6021, device='cuda:0', grad_fn=<DivBackward0>), tensor(1.5914, device='cuda:0', grad_fn=<DivBackward0>), tensor(1.5827, device='cuda:0', grad_fn=<DivBackward0>), tensor(1.5882, device='cuda:0', grad_fn=<DivBackward0>)]\n",
      "Epoch 36\n"
     ]
    },
    {
     "name": "stderr",
     "output_type": "stream",
     "text": [
      "  2%|▏         | 1/43 [00:03<02:18,  3.31s/it]"
     ]
    },
    {
     "name": "stdout",
     "output_type": "stream",
     "text": [
      "Train loss: 0.14906711876392365\n"
     ]
    },
    {
     "name": "stderr",
     "output_type": "stream",
     "text": [
      " 26%|██▌       | 11/43 [00:26<01:15,  2.35s/it]"
     ]
    },
    {
     "name": "stdout",
     "output_type": "stream",
     "text": [
      "Train loss: 1.416021704673767\n"
     ]
    },
    {
     "name": "stderr",
     "output_type": "stream",
     "text": [
      " 49%|████▉     | 21/43 [00:50<00:51,  2.34s/it]"
     ]
    },
    {
     "name": "stdout",
     "output_type": "stream",
     "text": [
      "Train loss: 1.4153515100479126\n"
     ]
    },
    {
     "name": "stderr",
     "output_type": "stream",
     "text": [
      " 72%|███████▏  | 31/43 [01:13<00:28,  2.34s/it]"
     ]
    },
    {
     "name": "stdout",
     "output_type": "stream",
     "text": [
      "Train loss: 1.4655460119247437\n"
     ]
    },
    {
     "name": "stderr",
     "output_type": "stream",
     "text": [
      " 95%|█████████▌| 41/43 [01:36<00:04,  2.34s/it]"
     ]
    },
    {
     "name": "stdout",
     "output_type": "stream",
     "text": [
      "Train loss: 1.476906180381775\n"
     ]
    },
    {
     "name": "stderr",
     "output_type": "stream",
     "text": [
      "100%|██████████| 43/43 [01:40<00:00,  2.34s/it]\n",
      "Validation: 100%|██████████| 13/13 [00:31<00:00,  2.39s/it]\n"
     ]
    },
    {
     "name": "stdout",
     "output_type": "stream",
     "text": [
      "Validation loss = [tensor(1.9065, device='cuda:0', grad_fn=<DivBackward0>), tensor(1.8300, device='cuda:0', grad_fn=<DivBackward0>), tensor(1.7860, device='cuda:0', grad_fn=<DivBackward0>), tensor(1.7659, device='cuda:0', grad_fn=<DivBackward0>), tensor(1.7526, device='cuda:0', grad_fn=<DivBackward0>), tensor(1.7369, device='cuda:0', grad_fn=<DivBackward0>), tensor(1.7136, device='cuda:0', grad_fn=<DivBackward0>), tensor(1.7136, device='cuda:0', grad_fn=<DivBackward0>), tensor(1.6984, device='cuda:0', grad_fn=<DivBackward0>), tensor(1.6978, device='cuda:0', grad_fn=<DivBackward0>), tensor(1.7040, device='cuda:0', grad_fn=<DivBackward0>), tensor(1.6847, device='cuda:0', grad_fn=<DivBackward0>), tensor(1.6896, device='cuda:0', grad_fn=<DivBackward0>), tensor(1.6666, device='cuda:0', grad_fn=<DivBackward0>), tensor(1.6698, device='cuda:0', grad_fn=<DivBackward0>), tensor(1.6450, device='cuda:0', grad_fn=<DivBackward0>), tensor(1.6526, device='cuda:0', grad_fn=<DivBackward0>), tensor(1.6479, device='cuda:0', grad_fn=<DivBackward0>), tensor(1.6435, device='cuda:0', grad_fn=<DivBackward0>), tensor(1.6568, device='cuda:0', grad_fn=<DivBackward0>), tensor(1.6310, device='cuda:0', grad_fn=<DivBackward0>), tensor(1.6326, device='cuda:0', grad_fn=<DivBackward0>), tensor(1.6467, device='cuda:0', grad_fn=<DivBackward0>), tensor(1.6254, device='cuda:0', grad_fn=<DivBackward0>), tensor(1.6157, device='cuda:0', grad_fn=<DivBackward0>), tensor(1.6137, device='cuda:0', grad_fn=<DivBackward0>), tensor(1.6114, device='cuda:0', grad_fn=<DivBackward0>), tensor(1.6012, device='cuda:0', grad_fn=<DivBackward0>), tensor(1.5913, device='cuda:0', grad_fn=<DivBackward0>), tensor(1.6053, device='cuda:0', grad_fn=<DivBackward0>), tensor(1.5992, device='cuda:0', grad_fn=<DivBackward0>), tensor(1.6021, device='cuda:0', grad_fn=<DivBackward0>), tensor(1.5914, device='cuda:0', grad_fn=<DivBackward0>), tensor(1.5827, device='cuda:0', grad_fn=<DivBackward0>), tensor(1.5882, device='cuda:0', grad_fn=<DivBackward0>), tensor(1.5830, device='cuda:0', grad_fn=<DivBackward0>)]\n",
      "Epoch 37\n"
     ]
    },
    {
     "name": "stderr",
     "output_type": "stream",
     "text": [
      "  2%|▏         | 1/43 [00:03<02:17,  3.26s/it]"
     ]
    },
    {
     "name": "stdout",
     "output_type": "stream",
     "text": [
      "Train loss: 0.1449664831161499\n"
     ]
    },
    {
     "name": "stderr",
     "output_type": "stream",
     "text": [
      " 26%|██▌       | 11/43 [00:26<01:15,  2.35s/it]"
     ]
    },
    {
     "name": "stdout",
     "output_type": "stream",
     "text": [
      "Train loss: 1.4256243705749512\n"
     ]
    },
    {
     "name": "stderr",
     "output_type": "stream",
     "text": [
      " 49%|████▉     | 21/43 [00:50<00:51,  2.34s/it]"
     ]
    },
    {
     "name": "stdout",
     "output_type": "stream",
     "text": [
      "Train loss: 1.4519456624984741\n"
     ]
    },
    {
     "name": "stderr",
     "output_type": "stream",
     "text": [
      " 72%|███████▏  | 31/43 [01:13<00:28,  2.34s/it]"
     ]
    },
    {
     "name": "stdout",
     "output_type": "stream",
     "text": [
      "Train loss: 1.4284895658493042\n"
     ]
    },
    {
     "name": "stderr",
     "output_type": "stream",
     "text": [
      " 95%|█████████▌| 41/43 [01:36<00:04,  2.34s/it]"
     ]
    },
    {
     "name": "stdout",
     "output_type": "stream",
     "text": [
      "Train loss: 1.458308219909668\n"
     ]
    },
    {
     "name": "stderr",
     "output_type": "stream",
     "text": [
      "100%|██████████| 43/43 [01:40<00:00,  2.34s/it]\n",
      "Validation: 100%|██████████| 13/13 [00:31<00:00,  2.39s/it]\n"
     ]
    },
    {
     "name": "stdout",
     "output_type": "stream",
     "text": [
      "Validation loss = [tensor(1.9065, device='cuda:0', grad_fn=<DivBackward0>), tensor(1.8300, device='cuda:0', grad_fn=<DivBackward0>), tensor(1.7860, device='cuda:0', grad_fn=<DivBackward0>), tensor(1.7659, device='cuda:0', grad_fn=<DivBackward0>), tensor(1.7526, device='cuda:0', grad_fn=<DivBackward0>), tensor(1.7369, device='cuda:0', grad_fn=<DivBackward0>), tensor(1.7136, device='cuda:0', grad_fn=<DivBackward0>), tensor(1.7136, device='cuda:0', grad_fn=<DivBackward0>), tensor(1.6984, device='cuda:0', grad_fn=<DivBackward0>), tensor(1.6978, device='cuda:0', grad_fn=<DivBackward0>), tensor(1.7040, device='cuda:0', grad_fn=<DivBackward0>), tensor(1.6847, device='cuda:0', grad_fn=<DivBackward0>), tensor(1.6896, device='cuda:0', grad_fn=<DivBackward0>), tensor(1.6666, device='cuda:0', grad_fn=<DivBackward0>), tensor(1.6698, device='cuda:0', grad_fn=<DivBackward0>), tensor(1.6450, device='cuda:0', grad_fn=<DivBackward0>), tensor(1.6526, device='cuda:0', grad_fn=<DivBackward0>), tensor(1.6479, device='cuda:0', grad_fn=<DivBackward0>), tensor(1.6435, device='cuda:0', grad_fn=<DivBackward0>), tensor(1.6568, device='cuda:0', grad_fn=<DivBackward0>), tensor(1.6310, device='cuda:0', grad_fn=<DivBackward0>), tensor(1.6326, device='cuda:0', grad_fn=<DivBackward0>), tensor(1.6467, device='cuda:0', grad_fn=<DivBackward0>), tensor(1.6254, device='cuda:0', grad_fn=<DivBackward0>), tensor(1.6157, device='cuda:0', grad_fn=<DivBackward0>), tensor(1.6137, device='cuda:0', grad_fn=<DivBackward0>), tensor(1.6114, device='cuda:0', grad_fn=<DivBackward0>), tensor(1.6012, device='cuda:0', grad_fn=<DivBackward0>), tensor(1.5913, device='cuda:0', grad_fn=<DivBackward0>), tensor(1.6053, device='cuda:0', grad_fn=<DivBackward0>), tensor(1.5992, device='cuda:0', grad_fn=<DivBackward0>), tensor(1.6021, device='cuda:0', grad_fn=<DivBackward0>), tensor(1.5914, device='cuda:0', grad_fn=<DivBackward0>), tensor(1.5827, device='cuda:0', grad_fn=<DivBackward0>), tensor(1.5882, device='cuda:0', grad_fn=<DivBackward0>), tensor(1.5830, device='cuda:0', grad_fn=<DivBackward0>), tensor(1.5798, device='cuda:0', grad_fn=<DivBackward0>)]\n",
      "Epoch 38\n"
     ]
    },
    {
     "name": "stderr",
     "output_type": "stream",
     "text": [
      "  2%|▏         | 1/43 [00:03<02:18,  3.29s/it]"
     ]
    },
    {
     "name": "stdout",
     "output_type": "stream",
     "text": [
      "Train loss: 0.12812593579292297\n"
     ]
    },
    {
     "name": "stderr",
     "output_type": "stream",
     "text": [
      " 26%|██▌       | 11/43 [00:26<01:15,  2.36s/it]"
     ]
    },
    {
     "name": "stdout",
     "output_type": "stream",
     "text": [
      "Train loss: 1.4523085355758667\n"
     ]
    },
    {
     "name": "stderr",
     "output_type": "stream",
     "text": [
      " 49%|████▉     | 21/43 [00:50<00:51,  2.34s/it]"
     ]
    },
    {
     "name": "stdout",
     "output_type": "stream",
     "text": [
      "Train loss: 1.4409822225570679\n"
     ]
    },
    {
     "name": "stderr",
     "output_type": "stream",
     "text": [
      " 72%|███████▏  | 31/43 [01:13<00:28,  2.34s/it]"
     ]
    },
    {
     "name": "stdout",
     "output_type": "stream",
     "text": [
      "Train loss: 1.4297090768814087\n"
     ]
    },
    {
     "name": "stderr",
     "output_type": "stream",
     "text": [
      " 95%|█████████▌| 41/43 [01:36<00:04,  2.34s/it]"
     ]
    },
    {
     "name": "stdout",
     "output_type": "stream",
     "text": [
      "Train loss: 1.4333100318908691\n"
     ]
    },
    {
     "name": "stderr",
     "output_type": "stream",
     "text": [
      "100%|██████████| 43/43 [01:40<00:00,  2.34s/it]\n",
      "Validation: 100%|██████████| 13/13 [00:31<00:00,  2.39s/it]\n"
     ]
    },
    {
     "name": "stdout",
     "output_type": "stream",
     "text": [
      "Validation loss = [tensor(1.9065, device='cuda:0', grad_fn=<DivBackward0>), tensor(1.8300, device='cuda:0', grad_fn=<DivBackward0>), tensor(1.7860, device='cuda:0', grad_fn=<DivBackward0>), tensor(1.7659, device='cuda:0', grad_fn=<DivBackward0>), tensor(1.7526, device='cuda:0', grad_fn=<DivBackward0>), tensor(1.7369, device='cuda:0', grad_fn=<DivBackward0>), tensor(1.7136, device='cuda:0', grad_fn=<DivBackward0>), tensor(1.7136, device='cuda:0', grad_fn=<DivBackward0>), tensor(1.6984, device='cuda:0', grad_fn=<DivBackward0>), tensor(1.6978, device='cuda:0', grad_fn=<DivBackward0>), tensor(1.7040, device='cuda:0', grad_fn=<DivBackward0>), tensor(1.6847, device='cuda:0', grad_fn=<DivBackward0>), tensor(1.6896, device='cuda:0', grad_fn=<DivBackward0>), tensor(1.6666, device='cuda:0', grad_fn=<DivBackward0>), tensor(1.6698, device='cuda:0', grad_fn=<DivBackward0>), tensor(1.6450, device='cuda:0', grad_fn=<DivBackward0>), tensor(1.6526, device='cuda:0', grad_fn=<DivBackward0>), tensor(1.6479, device='cuda:0', grad_fn=<DivBackward0>), tensor(1.6435, device='cuda:0', grad_fn=<DivBackward0>), tensor(1.6568, device='cuda:0', grad_fn=<DivBackward0>), tensor(1.6310, device='cuda:0', grad_fn=<DivBackward0>), tensor(1.6326, device='cuda:0', grad_fn=<DivBackward0>), tensor(1.6467, device='cuda:0', grad_fn=<DivBackward0>), tensor(1.6254, device='cuda:0', grad_fn=<DivBackward0>), tensor(1.6157, device='cuda:0', grad_fn=<DivBackward0>), tensor(1.6137, device='cuda:0', grad_fn=<DivBackward0>), tensor(1.6114, device='cuda:0', grad_fn=<DivBackward0>), tensor(1.6012, device='cuda:0', grad_fn=<DivBackward0>), tensor(1.5913, device='cuda:0', grad_fn=<DivBackward0>), tensor(1.6053, device='cuda:0', grad_fn=<DivBackward0>), tensor(1.5992, device='cuda:0', grad_fn=<DivBackward0>), tensor(1.6021, device='cuda:0', grad_fn=<DivBackward0>), tensor(1.5914, device='cuda:0', grad_fn=<DivBackward0>), tensor(1.5827, device='cuda:0', grad_fn=<DivBackward0>), tensor(1.5882, device='cuda:0', grad_fn=<DivBackward0>), tensor(1.5830, device='cuda:0', grad_fn=<DivBackward0>), tensor(1.5798, device='cuda:0', grad_fn=<DivBackward0>), tensor(1.5784, device='cuda:0', grad_fn=<DivBackward0>)]\n",
      "Epoch 39\n"
     ]
    },
    {
     "name": "stderr",
     "output_type": "stream",
     "text": [
      "  2%|▏         | 1/43 [00:03<02:20,  3.35s/it]"
     ]
    },
    {
     "name": "stdout",
     "output_type": "stream",
     "text": [
      "Train loss: 0.15172038972377777\n"
     ]
    },
    {
     "name": "stderr",
     "output_type": "stream",
     "text": [
      " 26%|██▌       | 11/43 [00:26<01:15,  2.35s/it]"
     ]
    },
    {
     "name": "stdout",
     "output_type": "stream",
     "text": [
      "Train loss: 1.4124515056610107\n"
     ]
    },
    {
     "name": "stderr",
     "output_type": "stream",
     "text": [
      " 49%|████▉     | 21/43 [00:50<00:51,  2.34s/it]"
     ]
    },
    {
     "name": "stdout",
     "output_type": "stream",
     "text": [
      "Train loss: 1.4357101917266846\n"
     ]
    },
    {
     "name": "stderr",
     "output_type": "stream",
     "text": [
      " 72%|███████▏  | 31/43 [01:13<00:28,  2.34s/it]"
     ]
    },
    {
     "name": "stdout",
     "output_type": "stream",
     "text": [
      "Train loss: 1.4184902906417847\n"
     ]
    },
    {
     "name": "stderr",
     "output_type": "stream",
     "text": [
      " 95%|█████████▌| 41/43 [01:37<00:04,  2.34s/it]"
     ]
    },
    {
     "name": "stdout",
     "output_type": "stream",
     "text": [
      "Train loss: 1.46998929977417\n"
     ]
    },
    {
     "name": "stderr",
     "output_type": "stream",
     "text": [
      "100%|██████████| 43/43 [01:40<00:00,  2.34s/it]\n",
      "Validation: 100%|██████████| 13/13 [00:30<00:00,  2.38s/it]\n"
     ]
    },
    {
     "name": "stdout",
     "output_type": "stream",
     "text": [
      "Validation loss = [tensor(1.9065, device='cuda:0', grad_fn=<DivBackward0>), tensor(1.8300, device='cuda:0', grad_fn=<DivBackward0>), tensor(1.7860, device='cuda:0', grad_fn=<DivBackward0>), tensor(1.7659, device='cuda:0', grad_fn=<DivBackward0>), tensor(1.7526, device='cuda:0', grad_fn=<DivBackward0>), tensor(1.7369, device='cuda:0', grad_fn=<DivBackward0>), tensor(1.7136, device='cuda:0', grad_fn=<DivBackward0>), tensor(1.7136, device='cuda:0', grad_fn=<DivBackward0>), tensor(1.6984, device='cuda:0', grad_fn=<DivBackward0>), tensor(1.6978, device='cuda:0', grad_fn=<DivBackward0>), tensor(1.7040, device='cuda:0', grad_fn=<DivBackward0>), tensor(1.6847, device='cuda:0', grad_fn=<DivBackward0>), tensor(1.6896, device='cuda:0', grad_fn=<DivBackward0>), tensor(1.6666, device='cuda:0', grad_fn=<DivBackward0>), tensor(1.6698, device='cuda:0', grad_fn=<DivBackward0>), tensor(1.6450, device='cuda:0', grad_fn=<DivBackward0>), tensor(1.6526, device='cuda:0', grad_fn=<DivBackward0>), tensor(1.6479, device='cuda:0', grad_fn=<DivBackward0>), tensor(1.6435, device='cuda:0', grad_fn=<DivBackward0>), tensor(1.6568, device='cuda:0', grad_fn=<DivBackward0>), tensor(1.6310, device='cuda:0', grad_fn=<DivBackward0>), tensor(1.6326, device='cuda:0', grad_fn=<DivBackward0>), tensor(1.6467, device='cuda:0', grad_fn=<DivBackward0>), tensor(1.6254, device='cuda:0', grad_fn=<DivBackward0>), tensor(1.6157, device='cuda:0', grad_fn=<DivBackward0>), tensor(1.6137, device='cuda:0', grad_fn=<DivBackward0>), tensor(1.6114, device='cuda:0', grad_fn=<DivBackward0>), tensor(1.6012, device='cuda:0', grad_fn=<DivBackward0>), tensor(1.5913, device='cuda:0', grad_fn=<DivBackward0>), tensor(1.6053, device='cuda:0', grad_fn=<DivBackward0>), tensor(1.5992, device='cuda:0', grad_fn=<DivBackward0>), tensor(1.6021, device='cuda:0', grad_fn=<DivBackward0>), tensor(1.5914, device='cuda:0', grad_fn=<DivBackward0>), tensor(1.5827, device='cuda:0', grad_fn=<DivBackward0>), tensor(1.5882, device='cuda:0', grad_fn=<DivBackward0>), tensor(1.5830, device='cuda:0', grad_fn=<DivBackward0>), tensor(1.5798, device='cuda:0', grad_fn=<DivBackward0>), tensor(1.5784, device='cuda:0', grad_fn=<DivBackward0>), tensor(1.5701, device='cuda:0', grad_fn=<DivBackward0>)]\n",
      "Epoch 40\n"
     ]
    },
    {
     "name": "stderr",
     "output_type": "stream",
     "text": [
      "  2%|▏         | 1/43 [00:03<02:31,  3.60s/it]"
     ]
    },
    {
     "name": "stdout",
     "output_type": "stream",
     "text": [
      "Train loss: 0.14490391314029694\n"
     ]
    },
    {
     "name": "stderr",
     "output_type": "stream",
     "text": [
      " 26%|██▌       | 11/43 [00:27<01:15,  2.35s/it]"
     ]
    },
    {
     "name": "stdout",
     "output_type": "stream",
     "text": [
      "Train loss: 1.430475115776062\n"
     ]
    },
    {
     "name": "stderr",
     "output_type": "stream",
     "text": [
      " 49%|████▉     | 21/43 [00:50<00:51,  2.34s/it]"
     ]
    },
    {
     "name": "stdout",
     "output_type": "stream",
     "text": [
      "Train loss: 1.4525331258773804\n"
     ]
    },
    {
     "name": "stderr",
     "output_type": "stream",
     "text": [
      " 72%|███████▏  | 31/43 [01:13<00:28,  2.34s/it]"
     ]
    },
    {
     "name": "stdout",
     "output_type": "stream",
     "text": [
      "Train loss: 1.4062328338623047\n"
     ]
    },
    {
     "name": "stderr",
     "output_type": "stream",
     "text": [
      " 95%|█████████▌| 41/43 [01:37<00:04,  2.34s/it]"
     ]
    },
    {
     "name": "stdout",
     "output_type": "stream",
     "text": [
      "Train loss: 1.4195877313613892\n"
     ]
    },
    {
     "name": "stderr",
     "output_type": "stream",
     "text": [
      "100%|██████████| 43/43 [01:40<00:00,  2.34s/it]\n",
      "Validation: 100%|██████████| 13/13 [00:31<00:00,  2.39s/it]\n"
     ]
    },
    {
     "name": "stdout",
     "output_type": "stream",
     "text": [
      "Validation loss = [tensor(1.9065, device='cuda:0', grad_fn=<DivBackward0>), tensor(1.8300, device='cuda:0', grad_fn=<DivBackward0>), tensor(1.7860, device='cuda:0', grad_fn=<DivBackward0>), tensor(1.7659, device='cuda:0', grad_fn=<DivBackward0>), tensor(1.7526, device='cuda:0', grad_fn=<DivBackward0>), tensor(1.7369, device='cuda:0', grad_fn=<DivBackward0>), tensor(1.7136, device='cuda:0', grad_fn=<DivBackward0>), tensor(1.7136, device='cuda:0', grad_fn=<DivBackward0>), tensor(1.6984, device='cuda:0', grad_fn=<DivBackward0>), tensor(1.6978, device='cuda:0', grad_fn=<DivBackward0>), tensor(1.7040, device='cuda:0', grad_fn=<DivBackward0>), tensor(1.6847, device='cuda:0', grad_fn=<DivBackward0>), tensor(1.6896, device='cuda:0', grad_fn=<DivBackward0>), tensor(1.6666, device='cuda:0', grad_fn=<DivBackward0>), tensor(1.6698, device='cuda:0', grad_fn=<DivBackward0>), tensor(1.6450, device='cuda:0', grad_fn=<DivBackward0>), tensor(1.6526, device='cuda:0', grad_fn=<DivBackward0>), tensor(1.6479, device='cuda:0', grad_fn=<DivBackward0>), tensor(1.6435, device='cuda:0', grad_fn=<DivBackward0>), tensor(1.6568, device='cuda:0', grad_fn=<DivBackward0>), tensor(1.6310, device='cuda:0', grad_fn=<DivBackward0>), tensor(1.6326, device='cuda:0', grad_fn=<DivBackward0>), tensor(1.6467, device='cuda:0', grad_fn=<DivBackward0>), tensor(1.6254, device='cuda:0', grad_fn=<DivBackward0>), tensor(1.6157, device='cuda:0', grad_fn=<DivBackward0>), tensor(1.6137, device='cuda:0', grad_fn=<DivBackward0>), tensor(1.6114, device='cuda:0', grad_fn=<DivBackward0>), tensor(1.6012, device='cuda:0', grad_fn=<DivBackward0>), tensor(1.5913, device='cuda:0', grad_fn=<DivBackward0>), tensor(1.6053, device='cuda:0', grad_fn=<DivBackward0>), tensor(1.5992, device='cuda:0', grad_fn=<DivBackward0>), tensor(1.6021, device='cuda:0', grad_fn=<DivBackward0>), tensor(1.5914, device='cuda:0', grad_fn=<DivBackward0>), tensor(1.5827, device='cuda:0', grad_fn=<DivBackward0>), tensor(1.5882, device='cuda:0', grad_fn=<DivBackward0>), tensor(1.5830, device='cuda:0', grad_fn=<DivBackward0>), tensor(1.5798, device='cuda:0', grad_fn=<DivBackward0>), tensor(1.5784, device='cuda:0', grad_fn=<DivBackward0>), tensor(1.5701, device='cuda:0', grad_fn=<DivBackward0>), tensor(1.5744, device='cuda:0', grad_fn=<DivBackward0>)]\n",
      "Epoch 41\n"
     ]
    },
    {
     "name": "stderr",
     "output_type": "stream",
     "text": [
      "  2%|▏         | 1/43 [00:03<02:20,  3.35s/it]"
     ]
    },
    {
     "name": "stdout",
     "output_type": "stream",
     "text": [
      "Train loss: 0.14452426135540009\n"
     ]
    },
    {
     "name": "stderr",
     "output_type": "stream",
     "text": [
      " 26%|██▌       | 11/43 [00:26<01:15,  2.35s/it]"
     ]
    },
    {
     "name": "stdout",
     "output_type": "stream",
     "text": [
      "Train loss: 1.3983161449432373\n"
     ]
    },
    {
     "name": "stderr",
     "output_type": "stream",
     "text": [
      " 49%|████▉     | 21/43 [00:50<00:51,  2.34s/it]"
     ]
    },
    {
     "name": "stdout",
     "output_type": "stream",
     "text": [
      "Train loss: 1.4132343530654907\n"
     ]
    },
    {
     "name": "stderr",
     "output_type": "stream",
     "text": [
      " 72%|███████▏  | 31/43 [01:13<00:28,  2.34s/it]"
     ]
    },
    {
     "name": "stdout",
     "output_type": "stream",
     "text": [
      "Train loss: 1.4200239181518555\n"
     ]
    },
    {
     "name": "stderr",
     "output_type": "stream",
     "text": [
      " 95%|█████████▌| 41/43 [01:36<00:04,  2.34s/it]"
     ]
    },
    {
     "name": "stdout",
     "output_type": "stream",
     "text": [
      "Train loss: 1.4510973691940308\n"
     ]
    },
    {
     "name": "stderr",
     "output_type": "stream",
     "text": [
      "100%|██████████| 43/43 [01:40<00:00,  2.34s/it]\n",
      "Validation: 100%|██████████| 13/13 [00:31<00:00,  2.39s/it]\n"
     ]
    },
    {
     "name": "stdout",
     "output_type": "stream",
     "text": [
      "Validation loss = [tensor(1.9065, device='cuda:0', grad_fn=<DivBackward0>), tensor(1.8300, device='cuda:0', grad_fn=<DivBackward0>), tensor(1.7860, device='cuda:0', grad_fn=<DivBackward0>), tensor(1.7659, device='cuda:0', grad_fn=<DivBackward0>), tensor(1.7526, device='cuda:0', grad_fn=<DivBackward0>), tensor(1.7369, device='cuda:0', grad_fn=<DivBackward0>), tensor(1.7136, device='cuda:0', grad_fn=<DivBackward0>), tensor(1.7136, device='cuda:0', grad_fn=<DivBackward0>), tensor(1.6984, device='cuda:0', grad_fn=<DivBackward0>), tensor(1.6978, device='cuda:0', grad_fn=<DivBackward0>), tensor(1.7040, device='cuda:0', grad_fn=<DivBackward0>), tensor(1.6847, device='cuda:0', grad_fn=<DivBackward0>), tensor(1.6896, device='cuda:0', grad_fn=<DivBackward0>), tensor(1.6666, device='cuda:0', grad_fn=<DivBackward0>), tensor(1.6698, device='cuda:0', grad_fn=<DivBackward0>), tensor(1.6450, device='cuda:0', grad_fn=<DivBackward0>), tensor(1.6526, device='cuda:0', grad_fn=<DivBackward0>), tensor(1.6479, device='cuda:0', grad_fn=<DivBackward0>), tensor(1.6435, device='cuda:0', grad_fn=<DivBackward0>), tensor(1.6568, device='cuda:0', grad_fn=<DivBackward0>), tensor(1.6310, device='cuda:0', grad_fn=<DivBackward0>), tensor(1.6326, device='cuda:0', grad_fn=<DivBackward0>), tensor(1.6467, device='cuda:0', grad_fn=<DivBackward0>), tensor(1.6254, device='cuda:0', grad_fn=<DivBackward0>), tensor(1.6157, device='cuda:0', grad_fn=<DivBackward0>), tensor(1.6137, device='cuda:0', grad_fn=<DivBackward0>), tensor(1.6114, device='cuda:0', grad_fn=<DivBackward0>), tensor(1.6012, device='cuda:0', grad_fn=<DivBackward0>), tensor(1.5913, device='cuda:0', grad_fn=<DivBackward0>), tensor(1.6053, device='cuda:0', grad_fn=<DivBackward0>), tensor(1.5992, device='cuda:0', grad_fn=<DivBackward0>), tensor(1.6021, device='cuda:0', grad_fn=<DivBackward0>), tensor(1.5914, device='cuda:0', grad_fn=<DivBackward0>), tensor(1.5827, device='cuda:0', grad_fn=<DivBackward0>), tensor(1.5882, device='cuda:0', grad_fn=<DivBackward0>), tensor(1.5830, device='cuda:0', grad_fn=<DivBackward0>), tensor(1.5798, device='cuda:0', grad_fn=<DivBackward0>), tensor(1.5784, device='cuda:0', grad_fn=<DivBackward0>), tensor(1.5701, device='cuda:0', grad_fn=<DivBackward0>), tensor(1.5744, device='cuda:0', grad_fn=<DivBackward0>), tensor(1.5579, device='cuda:0', grad_fn=<DivBackward0>)]\n",
      "Epoch 42\n"
     ]
    },
    {
     "name": "stderr",
     "output_type": "stream",
     "text": [
      "  2%|▏         | 1/43 [00:03<02:20,  3.34s/it]"
     ]
    },
    {
     "name": "stdout",
     "output_type": "stream",
     "text": [
      "Train loss: 0.13751496374607086\n"
     ]
    },
    {
     "name": "stderr",
     "output_type": "stream",
     "text": [
      " 26%|██▌       | 11/43 [00:26<01:15,  2.35s/it]"
     ]
    },
    {
     "name": "stdout",
     "output_type": "stream",
     "text": [
      "Train loss: 1.3980717658996582\n"
     ]
    },
    {
     "name": "stderr",
     "output_type": "stream",
     "text": [
      " 49%|████▉     | 21/43 [00:50<00:51,  2.34s/it]"
     ]
    },
    {
     "name": "stdout",
     "output_type": "stream",
     "text": [
      "Train loss: 1.470566987991333\n"
     ]
    },
    {
     "name": "stderr",
     "output_type": "stream",
     "text": [
      " 72%|███████▏  | 31/43 [01:13<00:28,  2.34s/it]"
     ]
    },
    {
     "name": "stdout",
     "output_type": "stream",
     "text": [
      "Train loss: 1.429348111152649\n"
     ]
    },
    {
     "name": "stderr",
     "output_type": "stream",
     "text": [
      " 95%|█████████▌| 41/43 [01:36<00:04,  2.34s/it]"
     ]
    },
    {
     "name": "stdout",
     "output_type": "stream",
     "text": [
      "Train loss: 1.3799002170562744\n"
     ]
    },
    {
     "name": "stderr",
     "output_type": "stream",
     "text": [
      "100%|██████████| 43/43 [01:40<00:00,  2.34s/it]\n",
      "Validation: 100%|██████████| 13/13 [00:31<00:00,  2.39s/it]\n"
     ]
    },
    {
     "name": "stdout",
     "output_type": "stream",
     "text": [
      "Validation loss = [tensor(1.9065, device='cuda:0', grad_fn=<DivBackward0>), tensor(1.8300, device='cuda:0', grad_fn=<DivBackward0>), tensor(1.7860, device='cuda:0', grad_fn=<DivBackward0>), tensor(1.7659, device='cuda:0', grad_fn=<DivBackward0>), tensor(1.7526, device='cuda:0', grad_fn=<DivBackward0>), tensor(1.7369, device='cuda:0', grad_fn=<DivBackward0>), tensor(1.7136, device='cuda:0', grad_fn=<DivBackward0>), tensor(1.7136, device='cuda:0', grad_fn=<DivBackward0>), tensor(1.6984, device='cuda:0', grad_fn=<DivBackward0>), tensor(1.6978, device='cuda:0', grad_fn=<DivBackward0>), tensor(1.7040, device='cuda:0', grad_fn=<DivBackward0>), tensor(1.6847, device='cuda:0', grad_fn=<DivBackward0>), tensor(1.6896, device='cuda:0', grad_fn=<DivBackward0>), tensor(1.6666, device='cuda:0', grad_fn=<DivBackward0>), tensor(1.6698, device='cuda:0', grad_fn=<DivBackward0>), tensor(1.6450, device='cuda:0', grad_fn=<DivBackward0>), tensor(1.6526, device='cuda:0', grad_fn=<DivBackward0>), tensor(1.6479, device='cuda:0', grad_fn=<DivBackward0>), tensor(1.6435, device='cuda:0', grad_fn=<DivBackward0>), tensor(1.6568, device='cuda:0', grad_fn=<DivBackward0>), tensor(1.6310, device='cuda:0', grad_fn=<DivBackward0>), tensor(1.6326, device='cuda:0', grad_fn=<DivBackward0>), tensor(1.6467, device='cuda:0', grad_fn=<DivBackward0>), tensor(1.6254, device='cuda:0', grad_fn=<DivBackward0>), tensor(1.6157, device='cuda:0', grad_fn=<DivBackward0>), tensor(1.6137, device='cuda:0', grad_fn=<DivBackward0>), tensor(1.6114, device='cuda:0', grad_fn=<DivBackward0>), tensor(1.6012, device='cuda:0', grad_fn=<DivBackward0>), tensor(1.5913, device='cuda:0', grad_fn=<DivBackward0>), tensor(1.6053, device='cuda:0', grad_fn=<DivBackward0>), tensor(1.5992, device='cuda:0', grad_fn=<DivBackward0>), tensor(1.6021, device='cuda:0', grad_fn=<DivBackward0>), tensor(1.5914, device='cuda:0', grad_fn=<DivBackward0>), tensor(1.5827, device='cuda:0', grad_fn=<DivBackward0>), tensor(1.5882, device='cuda:0', grad_fn=<DivBackward0>), tensor(1.5830, device='cuda:0', grad_fn=<DivBackward0>), tensor(1.5798, device='cuda:0', grad_fn=<DivBackward0>), tensor(1.5784, device='cuda:0', grad_fn=<DivBackward0>), tensor(1.5701, device='cuda:0', grad_fn=<DivBackward0>), tensor(1.5744, device='cuda:0', grad_fn=<DivBackward0>), tensor(1.5579, device='cuda:0', grad_fn=<DivBackward0>), tensor(1.5557, device='cuda:0', grad_fn=<DivBackward0>)]\n",
      "Epoch 43\n"
     ]
    },
    {
     "name": "stderr",
     "output_type": "stream",
     "text": [
      "  2%|▏         | 1/43 [00:03<02:18,  3.30s/it]"
     ]
    },
    {
     "name": "stdout",
     "output_type": "stream",
     "text": [
      "Train loss: 0.1458723545074463\n"
     ]
    },
    {
     "name": "stderr",
     "output_type": "stream",
     "text": [
      " 26%|██▌       | 11/43 [00:26<01:15,  2.35s/it]"
     ]
    },
    {
     "name": "stdout",
     "output_type": "stream",
     "text": [
      "Train loss: 1.4095004796981812\n"
     ]
    },
    {
     "name": "stderr",
     "output_type": "stream",
     "text": [
      " 49%|████▉     | 21/43 [00:50<00:51,  2.34s/it]"
     ]
    },
    {
     "name": "stdout",
     "output_type": "stream",
     "text": [
      "Train loss: 1.4331294298171997\n"
     ]
    },
    {
     "name": "stderr",
     "output_type": "stream",
     "text": [
      " 72%|███████▏  | 31/43 [01:13<00:28,  2.34s/it]"
     ]
    },
    {
     "name": "stdout",
     "output_type": "stream",
     "text": [
      "Train loss: 1.4088783264160156\n"
     ]
    },
    {
     "name": "stderr",
     "output_type": "stream",
     "text": [
      " 95%|█████████▌| 41/43 [01:36<00:04,  2.34s/it]"
     ]
    },
    {
     "name": "stdout",
     "output_type": "stream",
     "text": [
      "Train loss: 1.3794001340866089\n"
     ]
    },
    {
     "name": "stderr",
     "output_type": "stream",
     "text": [
      "100%|██████████| 43/43 [01:40<00:00,  2.34s/it]\n",
      "Validation: 100%|██████████| 13/13 [00:31<00:00,  2.39s/it]\n"
     ]
    },
    {
     "name": "stdout",
     "output_type": "stream",
     "text": [
      "Validation loss = [tensor(1.9065, device='cuda:0', grad_fn=<DivBackward0>), tensor(1.8300, device='cuda:0', grad_fn=<DivBackward0>), tensor(1.7860, device='cuda:0', grad_fn=<DivBackward0>), tensor(1.7659, device='cuda:0', grad_fn=<DivBackward0>), tensor(1.7526, device='cuda:0', grad_fn=<DivBackward0>), tensor(1.7369, device='cuda:0', grad_fn=<DivBackward0>), tensor(1.7136, device='cuda:0', grad_fn=<DivBackward0>), tensor(1.7136, device='cuda:0', grad_fn=<DivBackward0>), tensor(1.6984, device='cuda:0', grad_fn=<DivBackward0>), tensor(1.6978, device='cuda:0', grad_fn=<DivBackward0>), tensor(1.7040, device='cuda:0', grad_fn=<DivBackward0>), tensor(1.6847, device='cuda:0', grad_fn=<DivBackward0>), tensor(1.6896, device='cuda:0', grad_fn=<DivBackward0>), tensor(1.6666, device='cuda:0', grad_fn=<DivBackward0>), tensor(1.6698, device='cuda:0', grad_fn=<DivBackward0>), tensor(1.6450, device='cuda:0', grad_fn=<DivBackward0>), tensor(1.6526, device='cuda:0', grad_fn=<DivBackward0>), tensor(1.6479, device='cuda:0', grad_fn=<DivBackward0>), tensor(1.6435, device='cuda:0', grad_fn=<DivBackward0>), tensor(1.6568, device='cuda:0', grad_fn=<DivBackward0>), tensor(1.6310, device='cuda:0', grad_fn=<DivBackward0>), tensor(1.6326, device='cuda:0', grad_fn=<DivBackward0>), tensor(1.6467, device='cuda:0', grad_fn=<DivBackward0>), tensor(1.6254, device='cuda:0', grad_fn=<DivBackward0>), tensor(1.6157, device='cuda:0', grad_fn=<DivBackward0>), tensor(1.6137, device='cuda:0', grad_fn=<DivBackward0>), tensor(1.6114, device='cuda:0', grad_fn=<DivBackward0>), tensor(1.6012, device='cuda:0', grad_fn=<DivBackward0>), tensor(1.5913, device='cuda:0', grad_fn=<DivBackward0>), tensor(1.6053, device='cuda:0', grad_fn=<DivBackward0>), tensor(1.5992, device='cuda:0', grad_fn=<DivBackward0>), tensor(1.6021, device='cuda:0', grad_fn=<DivBackward0>), tensor(1.5914, device='cuda:0', grad_fn=<DivBackward0>), tensor(1.5827, device='cuda:0', grad_fn=<DivBackward0>), tensor(1.5882, device='cuda:0', grad_fn=<DivBackward0>), tensor(1.5830, device='cuda:0', grad_fn=<DivBackward0>), tensor(1.5798, device='cuda:0', grad_fn=<DivBackward0>), tensor(1.5784, device='cuda:0', grad_fn=<DivBackward0>), tensor(1.5701, device='cuda:0', grad_fn=<DivBackward0>), tensor(1.5744, device='cuda:0', grad_fn=<DivBackward0>), tensor(1.5579, device='cuda:0', grad_fn=<DivBackward0>), tensor(1.5557, device='cuda:0', grad_fn=<DivBackward0>), tensor(1.5582, device='cuda:0', grad_fn=<DivBackward0>)]\n",
      "Epoch 44\n"
     ]
    },
    {
     "name": "stderr",
     "output_type": "stream",
     "text": [
      "  2%|▏         | 1/43 [00:03<02:19,  3.31s/it]"
     ]
    },
    {
     "name": "stdout",
     "output_type": "stream",
     "text": [
      "Train loss: 0.14911514520645142\n"
     ]
    },
    {
     "name": "stderr",
     "output_type": "stream",
     "text": [
      " 26%|██▌       | 11/43 [00:26<01:15,  2.35s/it]"
     ]
    },
    {
     "name": "stdout",
     "output_type": "stream",
     "text": [
      "Train loss: 1.3628876209259033\n"
     ]
    },
    {
     "name": "stderr",
     "output_type": "stream",
     "text": [
      " 49%|████▉     | 21/43 [00:50<00:51,  2.34s/it]"
     ]
    },
    {
     "name": "stdout",
     "output_type": "stream",
     "text": [
      "Train loss: 1.451358675956726\n"
     ]
    },
    {
     "name": "stderr",
     "output_type": "stream",
     "text": [
      " 72%|███████▏  | 31/43 [01:13<00:28,  2.34s/it]"
     ]
    },
    {
     "name": "stdout",
     "output_type": "stream",
     "text": [
      "Train loss: 1.3789136409759521\n"
     ]
    },
    {
     "name": "stderr",
     "output_type": "stream",
     "text": [
      " 95%|█████████▌| 41/43 [01:36<00:04,  2.34s/it]"
     ]
    },
    {
     "name": "stdout",
     "output_type": "stream",
     "text": [
      "Train loss: 1.4407652616500854\n"
     ]
    },
    {
     "name": "stderr",
     "output_type": "stream",
     "text": [
      "100%|██████████| 43/43 [01:40<00:00,  2.34s/it]\n",
      "Validation: 100%|██████████| 13/13 [00:31<00:00,  2.39s/it]\n"
     ]
    },
    {
     "name": "stdout",
     "output_type": "stream",
     "text": [
      "Validation loss = [tensor(1.9065, device='cuda:0', grad_fn=<DivBackward0>), tensor(1.8300, device='cuda:0', grad_fn=<DivBackward0>), tensor(1.7860, device='cuda:0', grad_fn=<DivBackward0>), tensor(1.7659, device='cuda:0', grad_fn=<DivBackward0>), tensor(1.7526, device='cuda:0', grad_fn=<DivBackward0>), tensor(1.7369, device='cuda:0', grad_fn=<DivBackward0>), tensor(1.7136, device='cuda:0', grad_fn=<DivBackward0>), tensor(1.7136, device='cuda:0', grad_fn=<DivBackward0>), tensor(1.6984, device='cuda:0', grad_fn=<DivBackward0>), tensor(1.6978, device='cuda:0', grad_fn=<DivBackward0>), tensor(1.7040, device='cuda:0', grad_fn=<DivBackward0>), tensor(1.6847, device='cuda:0', grad_fn=<DivBackward0>), tensor(1.6896, device='cuda:0', grad_fn=<DivBackward0>), tensor(1.6666, device='cuda:0', grad_fn=<DivBackward0>), tensor(1.6698, device='cuda:0', grad_fn=<DivBackward0>), tensor(1.6450, device='cuda:0', grad_fn=<DivBackward0>), tensor(1.6526, device='cuda:0', grad_fn=<DivBackward0>), tensor(1.6479, device='cuda:0', grad_fn=<DivBackward0>), tensor(1.6435, device='cuda:0', grad_fn=<DivBackward0>), tensor(1.6568, device='cuda:0', grad_fn=<DivBackward0>), tensor(1.6310, device='cuda:0', grad_fn=<DivBackward0>), tensor(1.6326, device='cuda:0', grad_fn=<DivBackward0>), tensor(1.6467, device='cuda:0', grad_fn=<DivBackward0>), tensor(1.6254, device='cuda:0', grad_fn=<DivBackward0>), tensor(1.6157, device='cuda:0', grad_fn=<DivBackward0>), tensor(1.6137, device='cuda:0', grad_fn=<DivBackward0>), tensor(1.6114, device='cuda:0', grad_fn=<DivBackward0>), tensor(1.6012, device='cuda:0', grad_fn=<DivBackward0>), tensor(1.5913, device='cuda:0', grad_fn=<DivBackward0>), tensor(1.6053, device='cuda:0', grad_fn=<DivBackward0>), tensor(1.5992, device='cuda:0', grad_fn=<DivBackward0>), tensor(1.6021, device='cuda:0', grad_fn=<DivBackward0>), tensor(1.5914, device='cuda:0', grad_fn=<DivBackward0>), tensor(1.5827, device='cuda:0', grad_fn=<DivBackward0>), tensor(1.5882, device='cuda:0', grad_fn=<DivBackward0>), tensor(1.5830, device='cuda:0', grad_fn=<DivBackward0>), tensor(1.5798, device='cuda:0', grad_fn=<DivBackward0>), tensor(1.5784, device='cuda:0', grad_fn=<DivBackward0>), tensor(1.5701, device='cuda:0', grad_fn=<DivBackward0>), tensor(1.5744, device='cuda:0', grad_fn=<DivBackward0>), tensor(1.5579, device='cuda:0', grad_fn=<DivBackward0>), tensor(1.5557, device='cuda:0', grad_fn=<DivBackward0>), tensor(1.5582, device='cuda:0', grad_fn=<DivBackward0>), tensor(1.5662, device='cuda:0', grad_fn=<DivBackward0>)]\n",
      "Epoch 45\n"
     ]
    },
    {
     "name": "stderr",
     "output_type": "stream",
     "text": [
      "  2%|▏         | 1/43 [00:03<02:20,  3.34s/it]"
     ]
    },
    {
     "name": "stdout",
     "output_type": "stream",
     "text": [
      "Train loss: 0.14879879355430603\n"
     ]
    },
    {
     "name": "stderr",
     "output_type": "stream",
     "text": [
      " 26%|██▌       | 11/43 [00:26<01:15,  2.35s/it]"
     ]
    },
    {
     "name": "stdout",
     "output_type": "stream",
     "text": [
      "Train loss: 1.4292668104171753\n"
     ]
    },
    {
     "name": "stderr",
     "output_type": "stream",
     "text": [
      " 49%|████▉     | 21/43 [00:50<00:51,  2.34s/it]"
     ]
    },
    {
     "name": "stdout",
     "output_type": "stream",
     "text": [
      "Train loss: 1.4010002613067627\n"
     ]
    },
    {
     "name": "stderr",
     "output_type": "stream",
     "text": [
      " 72%|███████▏  | 31/43 [01:13<00:28,  2.34s/it]"
     ]
    },
    {
     "name": "stdout",
     "output_type": "stream",
     "text": [
      "Train loss: 1.414111614227295\n"
     ]
    },
    {
     "name": "stderr",
     "output_type": "stream",
     "text": [
      " 95%|█████████▌| 41/43 [01:36<00:04,  2.34s/it]"
     ]
    },
    {
     "name": "stdout",
     "output_type": "stream",
     "text": [
      "Train loss: 1.3925058841705322\n"
     ]
    },
    {
     "name": "stderr",
     "output_type": "stream",
     "text": [
      "100%|██████████| 43/43 [01:40<00:00,  2.34s/it]\n",
      "Validation: 100%|██████████| 13/13 [00:31<00:00,  2.39s/it]\n"
     ]
    },
    {
     "name": "stdout",
     "output_type": "stream",
     "text": [
      "Validation loss = [tensor(1.9065, device='cuda:0', grad_fn=<DivBackward0>), tensor(1.8300, device='cuda:0', grad_fn=<DivBackward0>), tensor(1.7860, device='cuda:0', grad_fn=<DivBackward0>), tensor(1.7659, device='cuda:0', grad_fn=<DivBackward0>), tensor(1.7526, device='cuda:0', grad_fn=<DivBackward0>), tensor(1.7369, device='cuda:0', grad_fn=<DivBackward0>), tensor(1.7136, device='cuda:0', grad_fn=<DivBackward0>), tensor(1.7136, device='cuda:0', grad_fn=<DivBackward0>), tensor(1.6984, device='cuda:0', grad_fn=<DivBackward0>), tensor(1.6978, device='cuda:0', grad_fn=<DivBackward0>), tensor(1.7040, device='cuda:0', grad_fn=<DivBackward0>), tensor(1.6847, device='cuda:0', grad_fn=<DivBackward0>), tensor(1.6896, device='cuda:0', grad_fn=<DivBackward0>), tensor(1.6666, device='cuda:0', grad_fn=<DivBackward0>), tensor(1.6698, device='cuda:0', grad_fn=<DivBackward0>), tensor(1.6450, device='cuda:0', grad_fn=<DivBackward0>), tensor(1.6526, device='cuda:0', grad_fn=<DivBackward0>), tensor(1.6479, device='cuda:0', grad_fn=<DivBackward0>), tensor(1.6435, device='cuda:0', grad_fn=<DivBackward0>), tensor(1.6568, device='cuda:0', grad_fn=<DivBackward0>), tensor(1.6310, device='cuda:0', grad_fn=<DivBackward0>), tensor(1.6326, device='cuda:0', grad_fn=<DivBackward0>), tensor(1.6467, device='cuda:0', grad_fn=<DivBackward0>), tensor(1.6254, device='cuda:0', grad_fn=<DivBackward0>), tensor(1.6157, device='cuda:0', grad_fn=<DivBackward0>), tensor(1.6137, device='cuda:0', grad_fn=<DivBackward0>), tensor(1.6114, device='cuda:0', grad_fn=<DivBackward0>), tensor(1.6012, device='cuda:0', grad_fn=<DivBackward0>), tensor(1.5913, device='cuda:0', grad_fn=<DivBackward0>), tensor(1.6053, device='cuda:0', grad_fn=<DivBackward0>), tensor(1.5992, device='cuda:0', grad_fn=<DivBackward0>), tensor(1.6021, device='cuda:0', grad_fn=<DivBackward0>), tensor(1.5914, device='cuda:0', grad_fn=<DivBackward0>), tensor(1.5827, device='cuda:0', grad_fn=<DivBackward0>), tensor(1.5882, device='cuda:0', grad_fn=<DivBackward0>), tensor(1.5830, device='cuda:0', grad_fn=<DivBackward0>), tensor(1.5798, device='cuda:0', grad_fn=<DivBackward0>), tensor(1.5784, device='cuda:0', grad_fn=<DivBackward0>), tensor(1.5701, device='cuda:0', grad_fn=<DivBackward0>), tensor(1.5744, device='cuda:0', grad_fn=<DivBackward0>), tensor(1.5579, device='cuda:0', grad_fn=<DivBackward0>), tensor(1.5557, device='cuda:0', grad_fn=<DivBackward0>), tensor(1.5582, device='cuda:0', grad_fn=<DivBackward0>), tensor(1.5662, device='cuda:0', grad_fn=<DivBackward0>), tensor(1.5610, device='cuda:0', grad_fn=<DivBackward0>)]\n",
      "Epoch 46\n"
     ]
    },
    {
     "name": "stderr",
     "output_type": "stream",
     "text": [
      "  2%|▏         | 1/43 [00:03<02:19,  3.31s/it]"
     ]
    },
    {
     "name": "stdout",
     "output_type": "stream",
     "text": [
      "Train loss: 0.144306942820549\n"
     ]
    },
    {
     "name": "stderr",
     "output_type": "stream",
     "text": [
      " 26%|██▌       | 11/43 [00:26<01:15,  2.35s/it]"
     ]
    },
    {
     "name": "stdout",
     "output_type": "stream",
     "text": [
      "Train loss: 1.4174511432647705\n"
     ]
    },
    {
     "name": "stderr",
     "output_type": "stream",
     "text": [
      " 49%|████▉     | 21/43 [00:50<00:51,  2.35s/it]"
     ]
    },
    {
     "name": "stdout",
     "output_type": "stream",
     "text": [
      "Train loss: 1.4378224611282349\n"
     ]
    },
    {
     "name": "stderr",
     "output_type": "stream",
     "text": [
      " 72%|███████▏  | 31/43 [01:13<00:28,  2.34s/it]"
     ]
    },
    {
     "name": "stdout",
     "output_type": "stream",
     "text": [
      "Train loss: 1.4034438133239746\n"
     ]
    },
    {
     "name": "stderr",
     "output_type": "stream",
     "text": [
      " 95%|█████████▌| 41/43 [01:37<00:04,  2.34s/it]"
     ]
    },
    {
     "name": "stdout",
     "output_type": "stream",
     "text": [
      "Train loss: 1.3766525983810425\n"
     ]
    },
    {
     "name": "stderr",
     "output_type": "stream",
     "text": [
      "100%|██████████| 43/43 [01:40<00:00,  2.34s/it]\n",
      "Validation: 100%|██████████| 13/13 [00:31<00:00,  2.39s/it]\n"
     ]
    },
    {
     "name": "stdout",
     "output_type": "stream",
     "text": [
      "Validation loss = [tensor(1.9065, device='cuda:0', grad_fn=<DivBackward0>), tensor(1.8300, device='cuda:0', grad_fn=<DivBackward0>), tensor(1.7860, device='cuda:0', grad_fn=<DivBackward0>), tensor(1.7659, device='cuda:0', grad_fn=<DivBackward0>), tensor(1.7526, device='cuda:0', grad_fn=<DivBackward0>), tensor(1.7369, device='cuda:0', grad_fn=<DivBackward0>), tensor(1.7136, device='cuda:0', grad_fn=<DivBackward0>), tensor(1.7136, device='cuda:0', grad_fn=<DivBackward0>), tensor(1.6984, device='cuda:0', grad_fn=<DivBackward0>), tensor(1.6978, device='cuda:0', grad_fn=<DivBackward0>), tensor(1.7040, device='cuda:0', grad_fn=<DivBackward0>), tensor(1.6847, device='cuda:0', grad_fn=<DivBackward0>), tensor(1.6896, device='cuda:0', grad_fn=<DivBackward0>), tensor(1.6666, device='cuda:0', grad_fn=<DivBackward0>), tensor(1.6698, device='cuda:0', grad_fn=<DivBackward0>), tensor(1.6450, device='cuda:0', grad_fn=<DivBackward0>), tensor(1.6526, device='cuda:0', grad_fn=<DivBackward0>), tensor(1.6479, device='cuda:0', grad_fn=<DivBackward0>), tensor(1.6435, device='cuda:0', grad_fn=<DivBackward0>), tensor(1.6568, device='cuda:0', grad_fn=<DivBackward0>), tensor(1.6310, device='cuda:0', grad_fn=<DivBackward0>), tensor(1.6326, device='cuda:0', grad_fn=<DivBackward0>), tensor(1.6467, device='cuda:0', grad_fn=<DivBackward0>), tensor(1.6254, device='cuda:0', grad_fn=<DivBackward0>), tensor(1.6157, device='cuda:0', grad_fn=<DivBackward0>), tensor(1.6137, device='cuda:0', grad_fn=<DivBackward0>), tensor(1.6114, device='cuda:0', grad_fn=<DivBackward0>), tensor(1.6012, device='cuda:0', grad_fn=<DivBackward0>), tensor(1.5913, device='cuda:0', grad_fn=<DivBackward0>), tensor(1.6053, device='cuda:0', grad_fn=<DivBackward0>), tensor(1.5992, device='cuda:0', grad_fn=<DivBackward0>), tensor(1.6021, device='cuda:0', grad_fn=<DivBackward0>), tensor(1.5914, device='cuda:0', grad_fn=<DivBackward0>), tensor(1.5827, device='cuda:0', grad_fn=<DivBackward0>), tensor(1.5882, device='cuda:0', grad_fn=<DivBackward0>), tensor(1.5830, device='cuda:0', grad_fn=<DivBackward0>), tensor(1.5798, device='cuda:0', grad_fn=<DivBackward0>), tensor(1.5784, device='cuda:0', grad_fn=<DivBackward0>), tensor(1.5701, device='cuda:0', grad_fn=<DivBackward0>), tensor(1.5744, device='cuda:0', grad_fn=<DivBackward0>), tensor(1.5579, device='cuda:0', grad_fn=<DivBackward0>), tensor(1.5557, device='cuda:0', grad_fn=<DivBackward0>), tensor(1.5582, device='cuda:0', grad_fn=<DivBackward0>), tensor(1.5662, device='cuda:0', grad_fn=<DivBackward0>), tensor(1.5610, device='cuda:0', grad_fn=<DivBackward0>), tensor(1.5507, device='cuda:0', grad_fn=<DivBackward0>)]\n",
      "Epoch 47\n"
     ]
    },
    {
     "name": "stderr",
     "output_type": "stream",
     "text": [
      "  2%|▏         | 1/43 [00:03<02:21,  3.36s/it]"
     ]
    },
    {
     "name": "stdout",
     "output_type": "stream",
     "text": [
      "Train loss: 0.12949426472187042\n"
     ]
    },
    {
     "name": "stderr",
     "output_type": "stream",
     "text": [
      " 26%|██▌       | 11/43 [00:26<01:15,  2.36s/it]"
     ]
    },
    {
     "name": "stdout",
     "output_type": "stream",
     "text": [
      "Train loss: 1.3699373006820679\n"
     ]
    },
    {
     "name": "stderr",
     "output_type": "stream",
     "text": [
      " 49%|████▉     | 21/43 [00:50<00:51,  2.34s/it]"
     ]
    },
    {
     "name": "stdout",
     "output_type": "stream",
     "text": [
      "Train loss: 1.4141734838485718\n"
     ]
    },
    {
     "name": "stderr",
     "output_type": "stream",
     "text": [
      " 72%|███████▏  | 31/43 [01:13<00:28,  2.34s/it]"
     ]
    },
    {
     "name": "stdout",
     "output_type": "stream",
     "text": [
      "Train loss: 1.4363723993301392\n"
     ]
    },
    {
     "name": "stderr",
     "output_type": "stream",
     "text": [
      " 95%|█████████▌| 41/43 [01:37<00:04,  2.34s/it]"
     ]
    },
    {
     "name": "stdout",
     "output_type": "stream",
     "text": [
      "Train loss: 1.3997249603271484\n"
     ]
    },
    {
     "name": "stderr",
     "output_type": "stream",
     "text": [
      "100%|██████████| 43/43 [01:40<00:00,  2.34s/it]\n",
      "Validation: 100%|██████████| 13/13 [00:31<00:00,  2.39s/it]\n"
     ]
    },
    {
     "name": "stdout",
     "output_type": "stream",
     "text": [
      "Validation loss = [tensor(1.9065, device='cuda:0', grad_fn=<DivBackward0>), tensor(1.8300, device='cuda:0', grad_fn=<DivBackward0>), tensor(1.7860, device='cuda:0', grad_fn=<DivBackward0>), tensor(1.7659, device='cuda:0', grad_fn=<DivBackward0>), tensor(1.7526, device='cuda:0', grad_fn=<DivBackward0>), tensor(1.7369, device='cuda:0', grad_fn=<DivBackward0>), tensor(1.7136, device='cuda:0', grad_fn=<DivBackward0>), tensor(1.7136, device='cuda:0', grad_fn=<DivBackward0>), tensor(1.6984, device='cuda:0', grad_fn=<DivBackward0>), tensor(1.6978, device='cuda:0', grad_fn=<DivBackward0>), tensor(1.7040, device='cuda:0', grad_fn=<DivBackward0>), tensor(1.6847, device='cuda:0', grad_fn=<DivBackward0>), tensor(1.6896, device='cuda:0', grad_fn=<DivBackward0>), tensor(1.6666, device='cuda:0', grad_fn=<DivBackward0>), tensor(1.6698, device='cuda:0', grad_fn=<DivBackward0>), tensor(1.6450, device='cuda:0', grad_fn=<DivBackward0>), tensor(1.6526, device='cuda:0', grad_fn=<DivBackward0>), tensor(1.6479, device='cuda:0', grad_fn=<DivBackward0>), tensor(1.6435, device='cuda:0', grad_fn=<DivBackward0>), tensor(1.6568, device='cuda:0', grad_fn=<DivBackward0>), tensor(1.6310, device='cuda:0', grad_fn=<DivBackward0>), tensor(1.6326, device='cuda:0', grad_fn=<DivBackward0>), tensor(1.6467, device='cuda:0', grad_fn=<DivBackward0>), tensor(1.6254, device='cuda:0', grad_fn=<DivBackward0>), tensor(1.6157, device='cuda:0', grad_fn=<DivBackward0>), tensor(1.6137, device='cuda:0', grad_fn=<DivBackward0>), tensor(1.6114, device='cuda:0', grad_fn=<DivBackward0>), tensor(1.6012, device='cuda:0', grad_fn=<DivBackward0>), tensor(1.5913, device='cuda:0', grad_fn=<DivBackward0>), tensor(1.6053, device='cuda:0', grad_fn=<DivBackward0>), tensor(1.5992, device='cuda:0', grad_fn=<DivBackward0>), tensor(1.6021, device='cuda:0', grad_fn=<DivBackward0>), tensor(1.5914, device='cuda:0', grad_fn=<DivBackward0>), tensor(1.5827, device='cuda:0', grad_fn=<DivBackward0>), tensor(1.5882, device='cuda:0', grad_fn=<DivBackward0>), tensor(1.5830, device='cuda:0', grad_fn=<DivBackward0>), tensor(1.5798, device='cuda:0', grad_fn=<DivBackward0>), tensor(1.5784, device='cuda:0', grad_fn=<DivBackward0>), tensor(1.5701, device='cuda:0', grad_fn=<DivBackward0>), tensor(1.5744, device='cuda:0', grad_fn=<DivBackward0>), tensor(1.5579, device='cuda:0', grad_fn=<DivBackward0>), tensor(1.5557, device='cuda:0', grad_fn=<DivBackward0>), tensor(1.5582, device='cuda:0', grad_fn=<DivBackward0>), tensor(1.5662, device='cuda:0', grad_fn=<DivBackward0>), tensor(1.5610, device='cuda:0', grad_fn=<DivBackward0>), tensor(1.5507, device='cuda:0', grad_fn=<DivBackward0>), tensor(1.5631, device='cuda:0', grad_fn=<DivBackward0>)]\n",
      "Epoch 48\n"
     ]
    },
    {
     "name": "stderr",
     "output_type": "stream",
     "text": [
      "  2%|▏         | 1/43 [00:03<02:19,  3.32s/it]"
     ]
    },
    {
     "name": "stdout",
     "output_type": "stream",
     "text": [
      "Train loss: 0.14125458896160126\n"
     ]
    },
    {
     "name": "stderr",
     "output_type": "stream",
     "text": [
      " 26%|██▌       | 11/43 [00:26<01:15,  2.35s/it]"
     ]
    },
    {
     "name": "stdout",
     "output_type": "stream",
     "text": [
      "Train loss: 1.3541388511657715\n"
     ]
    },
    {
     "name": "stderr",
     "output_type": "stream",
     "text": [
      " 49%|████▉     | 21/43 [00:50<00:51,  2.34s/it]"
     ]
    },
    {
     "name": "stdout",
     "output_type": "stream",
     "text": [
      "Train loss: 1.3808077573776245\n"
     ]
    },
    {
     "name": "stderr",
     "output_type": "stream",
     "text": [
      " 72%|███████▏  | 31/43 [01:13<00:28,  2.34s/it]"
     ]
    },
    {
     "name": "stdout",
     "output_type": "stream",
     "text": [
      "Train loss: 1.4509268999099731\n"
     ]
    },
    {
     "name": "stderr",
     "output_type": "stream",
     "text": [
      " 95%|█████████▌| 41/43 [01:37<00:04,  2.34s/it]"
     ]
    },
    {
     "name": "stdout",
     "output_type": "stream",
     "text": [
      "Train loss: 1.4001107215881348\n"
     ]
    },
    {
     "name": "stderr",
     "output_type": "stream",
     "text": [
      "100%|██████████| 43/43 [01:40<00:00,  2.34s/it]\n",
      "Validation: 100%|██████████| 13/13 [00:31<00:00,  2.39s/it]\n"
     ]
    },
    {
     "name": "stdout",
     "output_type": "stream",
     "text": [
      "Validation loss = [tensor(1.9065, device='cuda:0', grad_fn=<DivBackward0>), tensor(1.8300, device='cuda:0', grad_fn=<DivBackward0>), tensor(1.7860, device='cuda:0', grad_fn=<DivBackward0>), tensor(1.7659, device='cuda:0', grad_fn=<DivBackward0>), tensor(1.7526, device='cuda:0', grad_fn=<DivBackward0>), tensor(1.7369, device='cuda:0', grad_fn=<DivBackward0>), tensor(1.7136, device='cuda:0', grad_fn=<DivBackward0>), tensor(1.7136, device='cuda:0', grad_fn=<DivBackward0>), tensor(1.6984, device='cuda:0', grad_fn=<DivBackward0>), tensor(1.6978, device='cuda:0', grad_fn=<DivBackward0>), tensor(1.7040, device='cuda:0', grad_fn=<DivBackward0>), tensor(1.6847, device='cuda:0', grad_fn=<DivBackward0>), tensor(1.6896, device='cuda:0', grad_fn=<DivBackward0>), tensor(1.6666, device='cuda:0', grad_fn=<DivBackward0>), tensor(1.6698, device='cuda:0', grad_fn=<DivBackward0>), tensor(1.6450, device='cuda:0', grad_fn=<DivBackward0>), tensor(1.6526, device='cuda:0', grad_fn=<DivBackward0>), tensor(1.6479, device='cuda:0', grad_fn=<DivBackward0>), tensor(1.6435, device='cuda:0', grad_fn=<DivBackward0>), tensor(1.6568, device='cuda:0', grad_fn=<DivBackward0>), tensor(1.6310, device='cuda:0', grad_fn=<DivBackward0>), tensor(1.6326, device='cuda:0', grad_fn=<DivBackward0>), tensor(1.6467, device='cuda:0', grad_fn=<DivBackward0>), tensor(1.6254, device='cuda:0', grad_fn=<DivBackward0>), tensor(1.6157, device='cuda:0', grad_fn=<DivBackward0>), tensor(1.6137, device='cuda:0', grad_fn=<DivBackward0>), tensor(1.6114, device='cuda:0', grad_fn=<DivBackward0>), tensor(1.6012, device='cuda:0', grad_fn=<DivBackward0>), tensor(1.5913, device='cuda:0', grad_fn=<DivBackward0>), tensor(1.6053, device='cuda:0', grad_fn=<DivBackward0>), tensor(1.5992, device='cuda:0', grad_fn=<DivBackward0>), tensor(1.6021, device='cuda:0', grad_fn=<DivBackward0>), tensor(1.5914, device='cuda:0', grad_fn=<DivBackward0>), tensor(1.5827, device='cuda:0', grad_fn=<DivBackward0>), tensor(1.5882, device='cuda:0', grad_fn=<DivBackward0>), tensor(1.5830, device='cuda:0', grad_fn=<DivBackward0>), tensor(1.5798, device='cuda:0', grad_fn=<DivBackward0>), tensor(1.5784, device='cuda:0', grad_fn=<DivBackward0>), tensor(1.5701, device='cuda:0', grad_fn=<DivBackward0>), tensor(1.5744, device='cuda:0', grad_fn=<DivBackward0>), tensor(1.5579, device='cuda:0', grad_fn=<DivBackward0>), tensor(1.5557, device='cuda:0', grad_fn=<DivBackward0>), tensor(1.5582, device='cuda:0', grad_fn=<DivBackward0>), tensor(1.5662, device='cuda:0', grad_fn=<DivBackward0>), tensor(1.5610, device='cuda:0', grad_fn=<DivBackward0>), tensor(1.5507, device='cuda:0', grad_fn=<DivBackward0>), tensor(1.5631, device='cuda:0', grad_fn=<DivBackward0>), tensor(1.5508, device='cuda:0', grad_fn=<DivBackward0>)]\n",
      "Epoch 49\n"
     ]
    },
    {
     "name": "stderr",
     "output_type": "stream",
     "text": [
      "  2%|▏         | 1/43 [00:03<02:20,  3.34s/it]"
     ]
    },
    {
     "name": "stdout",
     "output_type": "stream",
     "text": [
      "Train loss: 0.1532873660326004\n"
     ]
    },
    {
     "name": "stderr",
     "output_type": "stream",
     "text": [
      " 26%|██▌       | 11/43 [00:26<01:15,  2.36s/it]"
     ]
    },
    {
     "name": "stdout",
     "output_type": "stream",
     "text": [
      "Train loss: 1.3972053527832031\n"
     ]
    },
    {
     "name": "stderr",
     "output_type": "stream",
     "text": [
      " 49%|████▉     | 21/43 [00:50<00:51,  2.35s/it]"
     ]
    },
    {
     "name": "stdout",
     "output_type": "stream",
     "text": [
      "Train loss: 1.4069955348968506\n"
     ]
    },
    {
     "name": "stderr",
     "output_type": "stream",
     "text": [
      " 72%|███████▏  | 31/43 [01:13<00:28,  2.34s/it]"
     ]
    },
    {
     "name": "stdout",
     "output_type": "stream",
     "text": [
      "Train loss: 1.3877668380737305\n"
     ]
    },
    {
     "name": "stderr",
     "output_type": "stream",
     "text": [
      " 95%|█████████▌| 41/43 [01:37<00:04,  2.34s/it]"
     ]
    },
    {
     "name": "stdout",
     "output_type": "stream",
     "text": [
      "Train loss: 1.3847101926803589\n"
     ]
    },
    {
     "name": "stderr",
     "output_type": "stream",
     "text": [
      "100%|██████████| 43/43 [01:40<00:00,  2.34s/it]\n",
      "Validation: 100%|██████████| 13/13 [00:31<00:00,  2.39s/it]\n"
     ]
    },
    {
     "name": "stdout",
     "output_type": "stream",
     "text": [
      "Validation loss = [tensor(1.9065, device='cuda:0', grad_fn=<DivBackward0>), tensor(1.8300, device='cuda:0', grad_fn=<DivBackward0>), tensor(1.7860, device='cuda:0', grad_fn=<DivBackward0>), tensor(1.7659, device='cuda:0', grad_fn=<DivBackward0>), tensor(1.7526, device='cuda:0', grad_fn=<DivBackward0>), tensor(1.7369, device='cuda:0', grad_fn=<DivBackward0>), tensor(1.7136, device='cuda:0', grad_fn=<DivBackward0>), tensor(1.7136, device='cuda:0', grad_fn=<DivBackward0>), tensor(1.6984, device='cuda:0', grad_fn=<DivBackward0>), tensor(1.6978, device='cuda:0', grad_fn=<DivBackward0>), tensor(1.7040, device='cuda:0', grad_fn=<DivBackward0>), tensor(1.6847, device='cuda:0', grad_fn=<DivBackward0>), tensor(1.6896, device='cuda:0', grad_fn=<DivBackward0>), tensor(1.6666, device='cuda:0', grad_fn=<DivBackward0>), tensor(1.6698, device='cuda:0', grad_fn=<DivBackward0>), tensor(1.6450, device='cuda:0', grad_fn=<DivBackward0>), tensor(1.6526, device='cuda:0', grad_fn=<DivBackward0>), tensor(1.6479, device='cuda:0', grad_fn=<DivBackward0>), tensor(1.6435, device='cuda:0', grad_fn=<DivBackward0>), tensor(1.6568, device='cuda:0', grad_fn=<DivBackward0>), tensor(1.6310, device='cuda:0', grad_fn=<DivBackward0>), tensor(1.6326, device='cuda:0', grad_fn=<DivBackward0>), tensor(1.6467, device='cuda:0', grad_fn=<DivBackward0>), tensor(1.6254, device='cuda:0', grad_fn=<DivBackward0>), tensor(1.6157, device='cuda:0', grad_fn=<DivBackward0>), tensor(1.6137, device='cuda:0', grad_fn=<DivBackward0>), tensor(1.6114, device='cuda:0', grad_fn=<DivBackward0>), tensor(1.6012, device='cuda:0', grad_fn=<DivBackward0>), tensor(1.5913, device='cuda:0', grad_fn=<DivBackward0>), tensor(1.6053, device='cuda:0', grad_fn=<DivBackward0>), tensor(1.5992, device='cuda:0', grad_fn=<DivBackward0>), tensor(1.6021, device='cuda:0', grad_fn=<DivBackward0>), tensor(1.5914, device='cuda:0', grad_fn=<DivBackward0>), tensor(1.5827, device='cuda:0', grad_fn=<DivBackward0>), tensor(1.5882, device='cuda:0', grad_fn=<DivBackward0>), tensor(1.5830, device='cuda:0', grad_fn=<DivBackward0>), tensor(1.5798, device='cuda:0', grad_fn=<DivBackward0>), tensor(1.5784, device='cuda:0', grad_fn=<DivBackward0>), tensor(1.5701, device='cuda:0', grad_fn=<DivBackward0>), tensor(1.5744, device='cuda:0', grad_fn=<DivBackward0>), tensor(1.5579, device='cuda:0', grad_fn=<DivBackward0>), tensor(1.5557, device='cuda:0', grad_fn=<DivBackward0>), tensor(1.5582, device='cuda:0', grad_fn=<DivBackward0>), tensor(1.5662, device='cuda:0', grad_fn=<DivBackward0>), tensor(1.5610, device='cuda:0', grad_fn=<DivBackward0>), tensor(1.5507, device='cuda:0', grad_fn=<DivBackward0>), tensor(1.5631, device='cuda:0', grad_fn=<DivBackward0>), tensor(1.5508, device='cuda:0', grad_fn=<DivBackward0>), tensor(1.5433, device='cuda:0', grad_fn=<DivBackward0>)]\n",
      "Epoch 50\n"
     ]
    },
    {
     "name": "stderr",
     "output_type": "stream",
     "text": [
      "  2%|▏         | 1/43 [00:03<02:20,  3.35s/it]"
     ]
    },
    {
     "name": "stdout",
     "output_type": "stream",
     "text": [
      "Train loss: 0.13188578188419342\n"
     ]
    },
    {
     "name": "stderr",
     "output_type": "stream",
     "text": [
      " 26%|██▌       | 11/43 [00:26<01:15,  2.35s/it]"
     ]
    },
    {
     "name": "stdout",
     "output_type": "stream",
     "text": [
      "Train loss: 1.3916019201278687\n"
     ]
    },
    {
     "name": "stderr",
     "output_type": "stream",
     "text": [
      " 49%|████▉     | 21/43 [00:50<00:51,  2.34s/it]"
     ]
    },
    {
     "name": "stdout",
     "output_type": "stream",
     "text": [
      "Train loss: 1.4079108238220215\n"
     ]
    },
    {
     "name": "stderr",
     "output_type": "stream",
     "text": [
      " 72%|███████▏  | 31/43 [01:13<00:28,  2.34s/it]"
     ]
    },
    {
     "name": "stdout",
     "output_type": "stream",
     "text": [
      "Train loss: 1.4149893522262573\n"
     ]
    },
    {
     "name": "stderr",
     "output_type": "stream",
     "text": [
      " 95%|█████████▌| 41/43 [01:37<00:04,  2.34s/it]"
     ]
    },
    {
     "name": "stdout",
     "output_type": "stream",
     "text": [
      "Train loss: 1.3653768301010132\n"
     ]
    },
    {
     "name": "stderr",
     "output_type": "stream",
     "text": [
      "100%|██████████| 43/43 [01:40<00:00,  2.34s/it]\n",
      "Validation: 100%|██████████| 13/13 [00:31<00:00,  2.39s/it]"
     ]
    },
    {
     "name": "stdout",
     "output_type": "stream",
     "text": [
      "Validation loss = [tensor(1.9065, device='cuda:0', grad_fn=<DivBackward0>), tensor(1.8300, device='cuda:0', grad_fn=<DivBackward0>), tensor(1.7860, device='cuda:0', grad_fn=<DivBackward0>), tensor(1.7659, device='cuda:0', grad_fn=<DivBackward0>), tensor(1.7526, device='cuda:0', grad_fn=<DivBackward0>), tensor(1.7369, device='cuda:0', grad_fn=<DivBackward0>), tensor(1.7136, device='cuda:0', grad_fn=<DivBackward0>), tensor(1.7136, device='cuda:0', grad_fn=<DivBackward0>), tensor(1.6984, device='cuda:0', grad_fn=<DivBackward0>), tensor(1.6978, device='cuda:0', grad_fn=<DivBackward0>), tensor(1.7040, device='cuda:0', grad_fn=<DivBackward0>), tensor(1.6847, device='cuda:0', grad_fn=<DivBackward0>), tensor(1.6896, device='cuda:0', grad_fn=<DivBackward0>), tensor(1.6666, device='cuda:0', grad_fn=<DivBackward0>), tensor(1.6698, device='cuda:0', grad_fn=<DivBackward0>), tensor(1.6450, device='cuda:0', grad_fn=<DivBackward0>), tensor(1.6526, device='cuda:0', grad_fn=<DivBackward0>), tensor(1.6479, device='cuda:0', grad_fn=<DivBackward0>), tensor(1.6435, device='cuda:0', grad_fn=<DivBackward0>), tensor(1.6568, device='cuda:0', grad_fn=<DivBackward0>), tensor(1.6310, device='cuda:0', grad_fn=<DivBackward0>), tensor(1.6326, device='cuda:0', grad_fn=<DivBackward0>), tensor(1.6467, device='cuda:0', grad_fn=<DivBackward0>), tensor(1.6254, device='cuda:0', grad_fn=<DivBackward0>), tensor(1.6157, device='cuda:0', grad_fn=<DivBackward0>), tensor(1.6137, device='cuda:0', grad_fn=<DivBackward0>), tensor(1.6114, device='cuda:0', grad_fn=<DivBackward0>), tensor(1.6012, device='cuda:0', grad_fn=<DivBackward0>), tensor(1.5913, device='cuda:0', grad_fn=<DivBackward0>), tensor(1.6053, device='cuda:0', grad_fn=<DivBackward0>), tensor(1.5992, device='cuda:0', grad_fn=<DivBackward0>), tensor(1.6021, device='cuda:0', grad_fn=<DivBackward0>), tensor(1.5914, device='cuda:0', grad_fn=<DivBackward0>), tensor(1.5827, device='cuda:0', grad_fn=<DivBackward0>), tensor(1.5882, device='cuda:0', grad_fn=<DivBackward0>), tensor(1.5830, device='cuda:0', grad_fn=<DivBackward0>), tensor(1.5798, device='cuda:0', grad_fn=<DivBackward0>), tensor(1.5784, device='cuda:0', grad_fn=<DivBackward0>), tensor(1.5701, device='cuda:0', grad_fn=<DivBackward0>), tensor(1.5744, device='cuda:0', grad_fn=<DivBackward0>), tensor(1.5579, device='cuda:0', grad_fn=<DivBackward0>), tensor(1.5557, device='cuda:0', grad_fn=<DivBackward0>), tensor(1.5582, device='cuda:0', grad_fn=<DivBackward0>), tensor(1.5662, device='cuda:0', grad_fn=<DivBackward0>), tensor(1.5610, device='cuda:0', grad_fn=<DivBackward0>), tensor(1.5507, device='cuda:0', grad_fn=<DivBackward0>), tensor(1.5631, device='cuda:0', grad_fn=<DivBackward0>), tensor(1.5508, device='cuda:0', grad_fn=<DivBackward0>), tensor(1.5433, device='cuda:0', grad_fn=<DivBackward0>), tensor(1.5457, device='cuda:0', grad_fn=<DivBackward0>)]\n"
     ]
    },
    {
     "name": "stderr",
     "output_type": "stream",
     "text": [
      "\n"
     ]
    }
   ],
   "source": [
    "n_epoch = 50\n",
    "\n",
    "classif_probe = LinProbe(input_size=256,output_size=10)\n",
    "\n",
    "train_loader= DataLoader(dataset_train, batch_size=128, shuffle=True,num_workers=10)\n",
    "valid_loader = DataLoader(dataset_valid, batch_size=128, shuffle=False,num_workers=10)\n",
    "\n",
    "loss_fn = torch.nn.CrossEntropyLoss()\n",
    "optimizer = torch.optim.Adam(classif_probe.parameters(),lr=0.01)\n",
    "\n",
    "device = torch.device(\"cuda\" if torch.cuda.is_available() else \"cpu\")\n",
    "\n",
    "model.to(device)\n",
    "classif_probe.to(device)\n",
    "\n",
    "best_valid = 1e8\n",
    "\n",
    "train_loss = []\n",
    "valid_loss = []\n",
    "for epoch in range(1,n_epoch+1):\n",
    "    print(f\"Epoch {epoch}\")\n",
    "    classif_probe, train_loss_t = train_epoch(seg_model=model,classif_probe=classif_probe,dataloader=train_loader,loss_fun=loss_fn,optimizer=optimizer,device=device)\n",
    "    valid_loss_t = valid_epoch(seg_model=model,classif_probe=classif_probe,dataloader=valid_loader,loss_fun=loss_fn,device=device)\n",
    "    valid_loss.append(valid_loss_t)\n",
    "    print(f\"Validation loss = {valid_loss}\")\n",
    "    \n",
    "    train_loss.append(train_loss_t)\n",
    "    \n",
    "    \n",
    "    if valid_loss_t < best_valid:\n",
    "        torch.save(classif_probe.state_dict(), \"noise_probe.pt\")\n",
    "        best_valid = valid_loss_t\n",
    "    "
   ]
  },
  {
   "cell_type": "code",
   "execution_count": null,
   "id": "84ddc94e",
   "metadata": {},
   "outputs": [],
   "source": []
  },
  {
   "cell_type": "code",
   "execution_count": 19,
   "id": "ee9f8024",
   "metadata": {},
   "outputs": [
    {
     "data": {
      "image/png": "[encoded data removed]",
      "text/plain": [
       "<Figure size 700x500 with 1 Axes>"
      ]
     },
     "metadata": {},
     "output_type": "display_data"
    }
   ],
   "source": [
    "epochs = range(1,n_epoch+1)\n",
    "#epochs = range(1,20)\n",
    "train_loss = [i.detach().cpu() for i in train_loss]\n",
    "valid_loss = [i.detach().cpu() for i in valid_loss]\n",
    "\n",
    "fig, ax = plt.subplots(nrows=1,ncols=1,figsize=(7,5),layout=\"constrained\")\n",
    "ax.plot(epochs,train_loss,linewidth=2,color=\"b\",label='Train')\n",
    "ax.plot(epochs,valid_loss,linewidth=2,color=\"r\",label='Valid')\n",
    "ax.grid()\n",
    "\n",
    "ax.legend()\n",
    "\n",
    "ax.set_xlabel(\"Epoch index\")\n",
    "ax.set_ylabel(\"Cross Entropy\")\n",
    "ax.set_title(\"Training curves for noise\")\n",
    "\n",
    "plt.show()\n",
    "\n",
    "fig.savefig(\"train_noise_detection.png\",dpi=300)"
   ]
  },
  {
   "cell_type": "code",
   "execution_count": null,
   "id": "380bb782",
   "metadata": {},
   "outputs": [],
   "source": [
    "dataset_music = "
   ]
  },
  {
   "cell_type": "code",
   "execution_count": 7,
   "id": "dcda3046",
   "metadata": {},
   "outputs": [],
   "source": [
    "import matplotlib.pyplot as plt"
   ]
  },
  {
   "cell_type": "code",
   "execution_count": 8,
   "id": "3ea28dd0",
   "metadata": {},
   "outputs": [],
   "source": [
    "test_loader= DataLoader(dataset_test, batch_size=128, shuffle=False,num_workers=10)"
   ]
  },
  {
   "cell_type": "code",
   "execution_count": 7,
   "id": "b59f956d",
   "metadata": {},
   "outputs": [
    {
     "data": {
      "text/plain": [
       "'test'"
      ]
     },
     "execution_count": 7,
     "metadata": {},
     "output_type": "execute_result"
    }
   ],
   "source": [
    "\"test\""
   ]
  },
  {
   "cell_type": "code",
   "execution_count": 9,
   "id": "95c82d2b",
   "metadata": {
    "scrolled": true,
    "tags": []
   },
   "outputs": [
    {
     "name": "stdout",
     "output_type": "stream",
     "text": [
      "OrderedDict([('probe.0.weight', tensor([[-0.0929,  0.0097, -0.0972,  ..., -0.4526, -0.0676,  0.0435],\n",
      "        [ 0.1112, -0.0763, -0.0078,  ..., -0.0510, -0.0784, -0.1012],\n",
      "        [ 0.0814, -0.0046,  0.1233,  ...,  0.2474,  0.0383, -0.0339],\n",
      "        ...,\n",
      "        [-0.1830, -0.0048,  0.0616,  ..., -0.3441,  0.0012,  0.0025],\n",
      "        [ 0.2958, -0.0078, -0.0259,  ..., -0.1820, -0.2771,  0.0383],\n",
      "        [-0.0039, -0.0292,  0.0407,  ...,  0.6060, -0.0634, -0.1575]],\n",
      "       device='cuda:0')), ('probe.0.bias', tensor([-0.0244,  0.0274, -0.0437, -0.1953,  0.3059,  0.1295,  0.0223,  0.0176,\n",
      "        -0.0612, -0.1477], device='cuda:0'))])\n"
     ]
    },
    {
     "data": {
      "text/plain": [
       "MASNMF(\n",
       "  (spec_feat): SpecFeat(\n",
       "    (spec): Spectrogram()\n",
       "  )\n",
       "  (wavlm): WavLM_Feats(\n",
       "    (feature_extract): UpstreamExpert(\n",
       "      (model): WavLM(\n",
       "        (feature_extractor): ConvFeatureExtractionModel(\n",
       "          (conv_layers): ModuleList(\n",
       "            (0): Sequential(\n",
       "              (0): Conv1d(1, 512, kernel_size=(10,), stride=(5,), bias=False)\n",
       "              (1): Dropout(p=0.0, inplace=False)\n",
       "              (2): Sequential(\n",
       "                (0): TransposeLast()\n",
       "                (1): Fp32LayerNorm((512,), eps=1e-05, elementwise_affine=True)\n",
       "                (2): TransposeLast()\n",
       "              )\n",
       "              (3): GELU()\n",
       "            )\n",
       "            (1): Sequential(\n",
       "              (0): Conv1d(512, 512, kernel_size=(3,), stride=(2,), bias=False)\n",
       "              (1): Dropout(p=0.0, inplace=False)\n",
       "              (2): Sequential(\n",
       "                (0): TransposeLast()\n",
       "                (1): Fp32LayerNorm((512,), eps=1e-05, elementwise_affine=True)\n",
       "                (2): TransposeLast()\n",
       "              )\n",
       "              (3): GELU()\n",
       "            )\n",
       "            (2): Sequential(\n",
       "              (0): Conv1d(512, 512, kernel_size=(3,), stride=(2,), bias=False)\n",
       "              (1): Dropout(p=0.0, inplace=False)\n",
       "              (2): Sequential(\n",
       "                (0): TransposeLast()\n",
       "                (1): Fp32LayerNorm((512,), eps=1e-05, elementwise_affine=True)\n",
       "                (2): TransposeLast()\n",
       "              )\n",
       "              (3): GELU()\n",
       "            )\n",
       "            (3): Sequential(\n",
       "              (0): Conv1d(512, 512, kernel_size=(3,), stride=(2,), bias=False)\n",
       "              (1): Dropout(p=0.0, inplace=False)\n",
       "              (2): Sequential(\n",
       "                (0): TransposeLast()\n",
       "                (1): Fp32LayerNorm((512,), eps=1e-05, elementwise_affine=True)\n",
       "                (2): TransposeLast()\n",
       "              )\n",
       "              (3): GELU()\n",
       "            )\n",
       "            (4): Sequential(\n",
       "              (0): Conv1d(512, 512, kernel_size=(3,), stride=(2,), bias=False)\n",
       "              (1): Dropout(p=0.0, inplace=False)\n",
       "              (2): Sequential(\n",
       "                (0): TransposeLast()\n",
       "                (1): Fp32LayerNorm((512,), eps=1e-05, elementwise_affine=True)\n",
       "                (2): TransposeLast()\n",
       "              )\n",
       "              (3): GELU()\n",
       "            )\n",
       "            (5): Sequential(\n",
       "              (0): Conv1d(512, 512, kernel_size=(2,), stride=(2,), bias=False)\n",
       "              (1): Dropout(p=0.0, inplace=False)\n",
       "              (2): Sequential(\n",
       "                (0): TransposeLast()\n",
       "                (1): Fp32LayerNorm((512,), eps=1e-05, elementwise_affine=True)\n",
       "                (2): TransposeLast()\n",
       "              )\n",
       "              (3): GELU()\n",
       "            )\n",
       "            (6): Sequential(\n",
       "              (0): Conv1d(512, 512, kernel_size=(2,), stride=(2,), bias=False)\n",
       "              (1): Dropout(p=0.0, inplace=False)\n",
       "              (2): Sequential(\n",
       "                (0): TransposeLast()\n",
       "                (1): Fp32LayerNorm((512,), eps=1e-05, elementwise_affine=True)\n",
       "                (2): TransposeLast()\n",
       "              )\n",
       "              (3): GELU()\n",
       "            )\n",
       "          )\n",
       "        )\n",
       "        (post_extract_proj): Linear(in_features=512, out_features=1024, bias=True)\n",
       "        (dropout_input): Dropout(p=0.0, inplace=False)\n",
       "        (dropout_features): Dropout(p=0.0, inplace=False)\n",
       "        (encoder): TransformerEncoder(\n",
       "          (pos_conv): Sequential(\n",
       "            (0): Conv1d(1024, 1024, kernel_size=(128,), stride=(1,), padding=(64,), groups=16)\n",
       "            (1): SamePad()\n",
       "            (2): GELU()\n",
       "          )\n",
       "          (layers): ModuleList(\n",
       "            (0): TransformerSentenceEncoderLayer(\n",
       "              (self_attn): MultiheadAttention(\n",
       "                (dropout_module): Dropout(p=0.0, inplace=False)\n",
       "                (relative_attention_bias): Embedding(320, 16)\n",
       "                (k_proj): Linear(in_features=1024, out_features=1024, bias=True)\n",
       "                (v_proj): Linear(in_features=1024, out_features=1024, bias=True)\n",
       "                (q_proj): Linear(in_features=1024, out_features=1024, bias=True)\n",
       "                (out_proj): Linear(in_features=1024, out_features=1024, bias=True)\n",
       "                (grep_linear): Linear(in_features=64, out_features=8, bias=True)\n",
       "              )\n",
       "              (dropout1): Dropout(p=0.0, inplace=False)\n",
       "              (dropout2): Dropout(p=0.0, inplace=False)\n",
       "              (dropout3): Dropout(p=0.0, inplace=False)\n",
       "              (self_attn_layer_norm): LayerNorm((1024,), eps=1e-05, elementwise_affine=True)\n",
       "              (fc1): Linear(in_features=1024, out_features=4096, bias=True)\n",
       "              (fc2): Linear(in_features=4096, out_features=1024, bias=True)\n",
       "              (final_layer_norm): LayerNorm((1024,), eps=1e-05, elementwise_affine=True)\n",
       "            )\n",
       "            (1): TransformerSentenceEncoderLayer(\n",
       "              (self_attn): MultiheadAttention(\n",
       "                (dropout_module): Dropout(p=0.0, inplace=False)\n",
       "                (k_proj): Linear(in_features=1024, out_features=1024, bias=True)\n",
       "                (v_proj): Linear(in_features=1024, out_features=1024, bias=True)\n",
       "                (q_proj): Linear(in_features=1024, out_features=1024, bias=True)\n",
       "                (out_proj): Linear(in_features=1024, out_features=1024, bias=True)\n",
       "                (grep_linear): Linear(in_features=64, out_features=8, bias=True)\n",
       "              )\n",
       "              (dropout1): Dropout(p=0.0, inplace=False)\n",
       "              (dropout2): Dropout(p=0.0, inplace=False)\n",
       "              (dropout3): Dropout(p=0.0, inplace=False)\n",
       "              (self_attn_layer_norm): LayerNorm((1024,), eps=1e-05, elementwise_affine=True)\n",
       "              (fc1): Linear(in_features=1024, out_features=4096, bias=True)\n",
       "              (fc2): Linear(in_features=4096, out_features=1024, bias=True)\n",
       "              (final_layer_norm): LayerNorm((1024,), eps=1e-05, elementwise_affine=True)\n",
       "            )\n",
       "            (2): TransformerSentenceEncoderLayer(\n",
       "              (self_attn): MultiheadAttention(\n",
       "                (dropout_module): Dropout(p=0.0, inplace=False)\n",
       "                (k_proj): Linear(in_features=1024, out_features=1024, bias=True)\n",
       "                (v_proj): Linear(in_features=1024, out_features=1024, bias=True)\n",
       "                (q_proj): Linear(in_features=1024, out_features=1024, bias=True)\n",
       "                (out_proj): Linear(in_features=1024, out_features=1024, bias=True)\n",
       "                (grep_linear): Linear(in_features=64, out_features=8, bias=True)\n",
       "              )\n",
       "              (dropout1): Dropout(p=0.0, inplace=False)\n",
       "              (dropout2): Dropout(p=0.0, inplace=False)\n",
       "              (dropout3): Dropout(p=0.0, inplace=False)\n",
       "              (self_attn_layer_norm): LayerNorm((1024,), eps=1e-05, elementwise_affine=True)\n",
       "              (fc1): Linear(in_features=1024, out_features=4096, bias=True)\n",
       "              (fc2): Linear(in_features=4096, out_features=1024, bias=True)\n",
       "              (final_layer_norm): LayerNorm((1024,), eps=1e-05, elementwise_affine=True)\n",
       "            )\n",
       "            (3): TransformerSentenceEncoderLayer(\n",
       "              (self_attn): MultiheadAttention(\n",
       "                (dropout_module): Dropout(p=0.0, inplace=False)\n",
       "                (k_proj): Linear(in_features=1024, out_features=1024, bias=True)\n",
       "                (v_proj): Linear(in_features=1024, out_features=1024, bias=True)\n",
       "                (q_proj): Linear(in_features=1024, out_features=1024, bias=True)\n",
       "                (out_proj): Linear(in_features=1024, out_features=1024, bias=True)\n",
       "                (grep_linear): Linear(in_features=64, out_features=8, bias=True)\n",
       "              )\n",
       "              (dropout1): Dropout(p=0.0, inplace=False)\n",
       "              (dropout2): Dropout(p=0.0, inplace=False)\n",
       "              (dropout3): Dropout(p=0.0, inplace=False)\n",
       "              (self_attn_layer_norm): LayerNorm((1024,), eps=1e-05, elementwise_affine=True)\n",
       "              (fc1): Linear(in_features=1024, out_features=4096, bias=True)\n",
       "              (fc2): Linear(in_features=4096, out_features=1024, bias=True)\n",
       "              (final_layer_norm): LayerNorm((1024,), eps=1e-05, elementwise_affine=True)\n",
       "            )\n",
       "            (4): TransformerSentenceEncoderLayer(\n",
       "              (self_attn): MultiheadAttention(\n",
       "                (dropout_module): Dropout(p=0.0, inplace=False)\n",
       "                (k_proj): Linear(in_features=1024, out_features=1024, bias=True)\n",
       "                (v_proj): Linear(in_features=1024, out_features=1024, bias=True)\n",
       "                (q_proj): Linear(in_features=1024, out_features=1024, bias=True)\n",
       "                (out_proj): Linear(in_features=1024, out_features=1024, bias=True)\n",
       "                (grep_linear): Linear(in_features=64, out_features=8, bias=True)\n",
       "              )\n",
       "              (dropout1): Dropout(p=0.0, inplace=False)\n",
       "              (dropout2): Dropout(p=0.0, inplace=False)\n",
       "              (dropout3): Dropout(p=0.0, inplace=False)\n",
       "              (self_attn_layer_norm): LayerNorm((1024,), eps=1e-05, elementwise_affine=True)\n",
       "              (fc1): Linear(in_features=1024, out_features=4096, bias=True)\n",
       "              (fc2): Linear(in_features=4096, out_features=1024, bias=True)\n",
       "              (final_layer_norm): LayerNorm((1024,), eps=1e-05, elementwise_affine=True)\n",
       "            )\n",
       "            (5): TransformerSentenceEncoderLayer(\n",
       "              (self_attn): MultiheadAttention(\n",
       "                (dropout_module): Dropout(p=0.0, inplace=False)\n",
       "                (k_proj): Linear(in_features=1024, out_features=1024, bias=True)\n",
       "                (v_proj): Linear(in_features=1024, out_features=1024, bias=True)\n",
       "                (q_proj): Linear(in_features=1024, out_features=1024, bias=True)\n",
       "                (out_proj): Linear(in_features=1024, out_features=1024, bias=True)\n",
       "                (grep_linear): Linear(in_features=64, out_features=8, bias=True)\n",
       "              )\n",
       "              (dropout1): Dropout(p=0.0, inplace=False)\n",
       "              (dropout2): Dropout(p=0.0, inplace=False)\n",
       "              (dropout3): Dropout(p=0.0, inplace=False)\n",
       "              (self_attn_layer_norm): LayerNorm((1024,), eps=1e-05, elementwise_affine=True)\n",
       "              (fc1): Linear(in_features=1024, out_features=4096, bias=True)\n",
       "              (fc2): Linear(in_features=4096, out_features=1024, bias=True)\n",
       "              (final_layer_norm): LayerNorm((1024,), eps=1e-05, elementwise_affine=True)\n",
       "            )\n",
       "            (6): TransformerSentenceEncoderLayer(\n",
       "              (self_attn): MultiheadAttention(\n",
       "                (dropout_module): Dropout(p=0.0, inplace=False)\n",
       "                (k_proj): Linear(in_features=1024, out_features=1024, bias=True)\n",
       "                (v_proj): Linear(in_features=1024, out_features=1024, bias=True)\n",
       "                (q_proj): Linear(in_features=1024, out_features=1024, bias=True)\n",
       "                (out_proj): Linear(in_features=1024, out_features=1024, bias=True)\n",
       "                (grep_linear): Linear(in_features=64, out_features=8, bias=True)\n",
       "              )\n",
       "              (dropout1): Dropout(p=0.0, inplace=False)\n",
       "              (dropout2): Dropout(p=0.0, inplace=False)\n",
       "              (dropout3): Dropout(p=0.0, inplace=False)\n",
       "              (self_attn_layer_norm): LayerNorm((1024,), eps=1e-05, elementwise_affine=True)\n",
       "              (fc1): Linear(in_features=1024, out_features=4096, bias=True)\n",
       "              (fc2): Linear(in_features=4096, out_features=1024, bias=True)\n",
       "              (final_layer_norm): LayerNorm((1024,), eps=1e-05, elementwise_affine=True)\n",
       "            )\n",
       "            (7): TransformerSentenceEncoderLayer(\n",
       "              (self_attn): MultiheadAttention(\n",
       "                (dropout_module): Dropout(p=0.0, inplace=False)\n",
       "                (k_proj): Linear(in_features=1024, out_features=1024, bias=True)\n",
       "                (v_proj): Linear(in_features=1024, out_features=1024, bias=True)\n",
       "                (q_proj): Linear(in_features=1024, out_features=1024, bias=True)\n",
       "                (out_proj): Linear(in_features=1024, out_features=1024, bias=True)\n",
       "                (grep_linear): Linear(in_features=64, out_features=8, bias=True)\n",
       "              )\n",
       "              (dropout1): Dropout(p=0.0, inplace=False)\n",
       "              (dropout2): Dropout(p=0.0, inplace=False)\n",
       "              (dropout3): Dropout(p=0.0, inplace=False)\n",
       "              (self_attn_layer_norm): LayerNorm((1024,), eps=1e-05, elementwise_affine=True)\n",
       "              (fc1): Linear(in_features=1024, out_features=4096, bias=True)\n",
       "              (fc2): Linear(in_features=4096, out_features=1024, bias=True)\n",
       "              (final_layer_norm): LayerNorm((1024,), eps=1e-05, elementwise_affine=True)\n",
       "            )\n",
       "            (8): TransformerSentenceEncoderLayer(\n",
       "              (self_attn): MultiheadAttention(\n",
       "                (dropout_module): Dropout(p=0.0, inplace=False)\n",
       "                (k_proj): Linear(in_features=1024, out_features=1024, bias=True)\n",
       "                (v_proj): Linear(in_features=1024, out_features=1024, bias=True)\n",
       "                (q_proj): Linear(in_features=1024, out_features=1024, bias=True)\n",
       "                (out_proj): Linear(in_features=1024, out_features=1024, bias=True)\n",
       "                (grep_linear): Linear(in_features=64, out_features=8, bias=True)\n",
       "              )\n",
       "              (dropout1): Dropout(p=0.0, inplace=False)\n",
       "              (dropout2): Dropout(p=0.0, inplace=False)\n",
       "              (dropout3): Dropout(p=0.0, inplace=False)\n",
       "              (self_attn_layer_norm): LayerNorm((1024,), eps=1e-05, elementwise_affine=True)\n",
       "              (fc1): Linear(in_features=1024, out_features=4096, bias=True)\n",
       "              (fc2): Linear(in_features=4096, out_features=1024, bias=True)\n",
       "              (final_layer_norm): LayerNorm((1024,), eps=1e-05, elementwise_affine=True)\n",
       "            )\n",
       "            (9): TransformerSentenceEncoderLayer(\n",
       "              (self_attn): MultiheadAttention(\n",
       "                (dropout_module): Dropout(p=0.0, inplace=False)\n",
       "                (k_proj): Linear(in_features=1024, out_features=1024, bias=True)\n",
       "                (v_proj): Linear(in_features=1024, out_features=1024, bias=True)\n",
       "                (q_proj): Linear(in_features=1024, out_features=1024, bias=True)\n",
       "                (out_proj): Linear(in_features=1024, out_features=1024, bias=True)\n",
       "                (grep_linear): Linear(in_features=64, out_features=8, bias=True)\n",
       "              )\n",
       "              (dropout1): Dropout(p=0.0, inplace=False)\n",
       "              (dropout2): Dropout(p=0.0, inplace=False)\n",
       "              (dropout3): Dropout(p=0.0, inplace=False)\n",
       "              (self_attn_layer_norm): LayerNorm((1024,), eps=1e-05, elementwise_affine=True)\n",
       "              (fc1): Linear(in_features=1024, out_features=4096, bias=True)\n",
       "              (fc2): Linear(in_features=4096, out_features=1024, bias=True)\n",
       "              (final_layer_norm): LayerNorm((1024,), eps=1e-05, elementwise_affine=True)\n",
       "            )\n",
       "            (10): TransformerSentenceEncoderLayer(\n",
       "              (self_attn): MultiheadAttention(\n",
       "                (dropout_module): Dropout(p=0.0, inplace=False)\n",
       "                (k_proj): Linear(in_features=1024, out_features=1024, bias=True)\n",
       "                (v_proj): Linear(in_features=1024, out_features=1024, bias=True)\n",
       "                (q_proj): Linear(in_features=1024, out_features=1024, bias=True)\n",
       "                (out_proj): Linear(in_features=1024, out_features=1024, bias=True)\n",
       "                (grep_linear): Linear(in_features=64, out_features=8, bias=True)\n",
       "              )\n",
       "              (dropout1): Dropout(p=0.0, inplace=False)\n",
       "              (dropout2): Dropout(p=0.0, inplace=False)\n",
       "              (dropout3): Dropout(p=0.0, inplace=False)\n",
       "              (self_attn_layer_norm): LayerNorm((1024,), eps=1e-05, elementwise_affine=True)\n",
       "              (fc1): Linear(in_features=1024, out_features=4096, bias=True)\n",
       "              (fc2): Linear(in_features=4096, out_features=1024, bias=True)\n",
       "              (final_layer_norm): LayerNorm((1024,), eps=1e-05, elementwise_affine=True)\n",
       "            )\n",
       "            (11): TransformerSentenceEncoderLayer(\n",
       "              (self_attn): MultiheadAttention(\n",
       "                (dropout_module): Dropout(p=0.0, inplace=False)\n",
       "                (k_proj): Linear(in_features=1024, out_features=1024, bias=True)\n",
       "                (v_proj): Linear(in_features=1024, out_features=1024, bias=True)\n",
       "                (q_proj): Linear(in_features=1024, out_features=1024, bias=True)\n",
       "                (out_proj): Linear(in_features=1024, out_features=1024, bias=True)\n",
       "                (grep_linear): Linear(in_features=64, out_features=8, bias=True)\n",
       "              )\n",
       "              (dropout1): Dropout(p=0.0, inplace=False)\n",
       "              (dropout2): Dropout(p=0.0, inplace=False)\n",
       "              (dropout3): Dropout(p=0.0, inplace=False)\n",
       "              (self_attn_layer_norm): LayerNorm((1024,), eps=1e-05, elementwise_affine=True)\n",
       "              (fc1): Linear(in_features=1024, out_features=4096, bias=True)\n",
       "              (fc2): Linear(in_features=4096, out_features=1024, bias=True)\n",
       "              (final_layer_norm): LayerNorm((1024,), eps=1e-05, elementwise_affine=True)\n",
       "            )\n",
       "            (12): TransformerSentenceEncoderLayer(\n",
       "              (self_attn): MultiheadAttention(\n",
       "                (dropout_module): Dropout(p=0.0, inplace=False)\n",
       "                (k_proj): Linear(in_features=1024, out_features=1024, bias=True)\n",
       "                (v_proj): Linear(in_features=1024, out_features=1024, bias=True)\n",
       "                (q_proj): Linear(in_features=1024, out_features=1024, bias=True)\n",
       "                (out_proj): Linear(in_features=1024, out_features=1024, bias=True)\n",
       "                (grep_linear): Linear(in_features=64, out_features=8, bias=True)\n",
       "              )\n",
       "              (dropout1): Dropout(p=0.0, inplace=False)\n",
       "              (dropout2): Dropout(p=0.0, inplace=False)\n",
       "              (dropout3): Dropout(p=0.0, inplace=False)\n",
       "              (self_attn_layer_norm): LayerNorm((1024,), eps=1e-05, elementwise_affine=True)\n",
       "              (fc1): Linear(in_features=1024, out_features=4096, bias=True)\n",
       "              (fc2): Linear(in_features=4096, out_features=1024, bias=True)\n",
       "              (final_layer_norm): LayerNorm((1024,), eps=1e-05, elementwise_affine=True)\n",
       "            )\n",
       "            (13): TransformerSentenceEncoderLayer(\n",
       "              (self_attn): MultiheadAttention(\n",
       "                (dropout_module): Dropout(p=0.0, inplace=False)\n",
       "                (k_proj): Linear(in_features=1024, out_features=1024, bias=True)\n",
       "                (v_proj): Linear(in_features=1024, out_features=1024, bias=True)\n",
       "                (q_proj): Linear(in_features=1024, out_features=1024, bias=True)\n",
       "                (out_proj): Linear(in_features=1024, out_features=1024, bias=True)\n",
       "                (grep_linear): Linear(in_features=64, out_features=8, bias=True)\n",
       "              )\n",
       "              (dropout1): Dropout(p=0.0, inplace=False)\n",
       "              (dropout2): Dropout(p=0.0, inplace=False)\n",
       "              (dropout3): Dropout(p=0.0, inplace=False)\n",
       "              (self_attn_layer_norm): LayerNorm((1024,), eps=1e-05, elementwise_affine=True)\n",
       "              (fc1): Linear(in_features=1024, out_features=4096, bias=True)\n",
       "              (fc2): Linear(in_features=4096, out_features=1024, bias=True)\n",
       "              (final_layer_norm): LayerNorm((1024,), eps=1e-05, elementwise_affine=True)\n",
       "            )\n",
       "            (14): TransformerSentenceEncoderLayer(\n",
       "              (self_attn): MultiheadAttention(\n",
       "                (dropout_module): Dropout(p=0.0, inplace=False)\n",
       "                (k_proj): Linear(in_features=1024, out_features=1024, bias=True)\n",
       "                (v_proj): Linear(in_features=1024, out_features=1024, bias=True)\n",
       "                (q_proj): Linear(in_features=1024, out_features=1024, bias=True)\n",
       "                (out_proj): Linear(in_features=1024, out_features=1024, bias=True)\n",
       "                (grep_linear): Linear(in_features=64, out_features=8, bias=True)\n",
       "              )\n",
       "              (dropout1): Dropout(p=0.0, inplace=False)\n",
       "              (dropout2): Dropout(p=0.0, inplace=False)\n",
       "              (dropout3): Dropout(p=0.0, inplace=False)\n",
       "              (self_attn_layer_norm): LayerNorm((1024,), eps=1e-05, elementwise_affine=True)\n",
       "              (fc1): Linear(in_features=1024, out_features=4096, bias=True)\n",
       "              (fc2): Linear(in_features=4096, out_features=1024, bias=True)\n",
       "              (final_layer_norm): LayerNorm((1024,), eps=1e-05, elementwise_affine=True)\n",
       "            )\n",
       "            (15): TransformerSentenceEncoderLayer(\n",
       "              (self_attn): MultiheadAttention(\n",
       "                (dropout_module): Dropout(p=0.0, inplace=False)\n",
       "                (k_proj): Linear(in_features=1024, out_features=1024, bias=True)\n",
       "                (v_proj): Linear(in_features=1024, out_features=1024, bias=True)\n",
       "                (q_proj): Linear(in_features=1024, out_features=1024, bias=True)\n",
       "                (out_proj): Linear(in_features=1024, out_features=1024, bias=True)\n",
       "                (grep_linear): Linear(in_features=64, out_features=8, bias=True)\n",
       "              )\n",
       "              (dropout1): Dropout(p=0.0, inplace=False)\n",
       "              (dropout2): Dropout(p=0.0, inplace=False)\n",
       "              (dropout3): Dropout(p=0.0, inplace=False)\n",
       "              (self_attn_layer_norm): LayerNorm((1024,), eps=1e-05, elementwise_affine=True)\n",
       "              (fc1): Linear(in_features=1024, out_features=4096, bias=True)\n",
       "              (fc2): Linear(in_features=4096, out_features=1024, bias=True)\n",
       "              (final_layer_norm): LayerNorm((1024,), eps=1e-05, elementwise_affine=True)\n",
       "            )\n",
       "            (16): TransformerSentenceEncoderLayer(\n",
       "              (self_attn): MultiheadAttention(\n",
       "                (dropout_module): Dropout(p=0.0, inplace=False)\n",
       "                (k_proj): Linear(in_features=1024, out_features=1024, bias=True)\n",
       "                (v_proj): Linear(in_features=1024, out_features=1024, bias=True)\n",
       "                (q_proj): Linear(in_features=1024, out_features=1024, bias=True)\n",
       "                (out_proj): Linear(in_features=1024, out_features=1024, bias=True)\n",
       "                (grep_linear): Linear(in_features=64, out_features=8, bias=True)\n",
       "              )\n",
       "              (dropout1): Dropout(p=0.0, inplace=False)\n",
       "              (dropout2): Dropout(p=0.0, inplace=False)\n",
       "              (dropout3): Dropout(p=0.0, inplace=False)\n",
       "              (self_attn_layer_norm): LayerNorm((1024,), eps=1e-05, elementwise_affine=True)\n",
       "              (fc1): Linear(in_features=1024, out_features=4096, bias=True)\n",
       "              (fc2): Linear(in_features=4096, out_features=1024, bias=True)\n",
       "              (final_layer_norm): LayerNorm((1024,), eps=1e-05, elementwise_affine=True)\n",
       "            )\n",
       "            (17): TransformerSentenceEncoderLayer(\n",
       "              (self_attn): MultiheadAttention(\n",
       "                (dropout_module): Dropout(p=0.0, inplace=False)\n",
       "                (k_proj): Linear(in_features=1024, out_features=1024, bias=True)\n",
       "                (v_proj): Linear(in_features=1024, out_features=1024, bias=True)\n",
       "                (q_proj): Linear(in_features=1024, out_features=1024, bias=True)\n",
       "                (out_proj): Linear(in_features=1024, out_features=1024, bias=True)\n",
       "                (grep_linear): Linear(in_features=64, out_features=8, bias=True)\n",
       "              )\n",
       "              (dropout1): Dropout(p=0.0, inplace=False)\n",
       "              (dropout2): Dropout(p=0.0, inplace=False)\n",
       "              (dropout3): Dropout(p=0.0, inplace=False)\n",
       "              (self_attn_layer_norm): LayerNorm((1024,), eps=1e-05, elementwise_affine=True)\n",
       "              (fc1): Linear(in_features=1024, out_features=4096, bias=True)\n",
       "              (fc2): Linear(in_features=4096, out_features=1024, bias=True)\n",
       "              (final_layer_norm): LayerNorm((1024,), eps=1e-05, elementwise_affine=True)\n",
       "            )\n",
       "            (18): TransformerSentenceEncoderLayer(\n",
       "              (self_attn): MultiheadAttention(\n",
       "                (dropout_module): Dropout(p=0.0, inplace=False)\n",
       "                (k_proj): Linear(in_features=1024, out_features=1024, bias=True)\n",
       "                (v_proj): Linear(in_features=1024, out_features=1024, bias=True)\n",
       "                (q_proj): Linear(in_features=1024, out_features=1024, bias=True)\n",
       "                (out_proj): Linear(in_features=1024, out_features=1024, bias=True)\n",
       "                (grep_linear): Linear(in_features=64, out_features=8, bias=True)\n",
       "              )\n",
       "              (dropout1): Dropout(p=0.0, inplace=False)\n",
       "              (dropout2): Dropout(p=0.0, inplace=False)\n",
       "              (dropout3): Dropout(p=0.0, inplace=False)\n",
       "              (self_attn_layer_norm): LayerNorm((1024,), eps=1e-05, elementwise_affine=True)\n",
       "              (fc1): Linear(in_features=1024, out_features=4096, bias=True)\n",
       "              (fc2): Linear(in_features=4096, out_features=1024, bias=True)\n",
       "              (final_layer_norm): LayerNorm((1024,), eps=1e-05, elementwise_affine=True)\n",
       "            )\n",
       "            (19): TransformerSentenceEncoderLayer(\n",
       "              (self_attn): MultiheadAttention(\n",
       "                (dropout_module): Dropout(p=0.0, inplace=False)\n",
       "                (k_proj): Linear(in_features=1024, out_features=1024, bias=True)\n",
       "                (v_proj): Linear(in_features=1024, out_features=1024, bias=True)\n",
       "                (q_proj): Linear(in_features=1024, out_features=1024, bias=True)\n",
       "                (out_proj): Linear(in_features=1024, out_features=1024, bias=True)\n",
       "                (grep_linear): Linear(in_features=64, out_features=8, bias=True)\n",
       "              )\n",
       "              (dropout1): Dropout(p=0.0, inplace=False)\n",
       "              (dropout2): Dropout(p=0.0, inplace=False)\n",
       "              (dropout3): Dropout(p=0.0, inplace=False)\n",
       "              (self_attn_layer_norm): LayerNorm((1024,), eps=1e-05, elementwise_affine=True)\n",
       "              (fc1): Linear(in_features=1024, out_features=4096, bias=True)\n",
       "              (fc2): Linear(in_features=4096, out_features=1024, bias=True)\n",
       "              (final_layer_norm): LayerNorm((1024,), eps=1e-05, elementwise_affine=True)\n",
       "            )\n",
       "            (20): TransformerSentenceEncoderLayer(\n",
       "              (self_attn): MultiheadAttention(\n",
       "                (dropout_module): Dropout(p=0.0, inplace=False)\n",
       "                (k_proj): Linear(in_features=1024, out_features=1024, bias=True)\n",
       "                (v_proj): Linear(in_features=1024, out_features=1024, bias=True)\n",
       "                (q_proj): Linear(in_features=1024, out_features=1024, bias=True)\n",
       "                (out_proj): Linear(in_features=1024, out_features=1024, bias=True)\n",
       "                (grep_linear): Linear(in_features=64, out_features=8, bias=True)\n",
       "              )\n",
       "              (dropout1): Dropout(p=0.0, inplace=False)\n",
       "              (dropout2): Dropout(p=0.0, inplace=False)\n",
       "              (dropout3): Dropout(p=0.0, inplace=False)\n",
       "              (self_attn_layer_norm): LayerNorm((1024,), eps=1e-05, elementwise_affine=True)\n",
       "              (fc1): Linear(in_features=1024, out_features=4096, bias=True)\n",
       "              (fc2): Linear(in_features=4096, out_features=1024, bias=True)\n",
       "              (final_layer_norm): LayerNorm((1024,), eps=1e-05, elementwise_affine=True)\n",
       "            )\n",
       "            (21): TransformerSentenceEncoderLayer(\n",
       "              (self_attn): MultiheadAttention(\n",
       "                (dropout_module): Dropout(p=0.0, inplace=False)\n",
       "                (k_proj): Linear(in_features=1024, out_features=1024, bias=True)\n",
       "                (v_proj): Linear(in_features=1024, out_features=1024, bias=True)\n",
       "                (q_proj): Linear(in_features=1024, out_features=1024, bias=True)\n",
       "                (out_proj): Linear(in_features=1024, out_features=1024, bias=True)\n",
       "                (grep_linear): Linear(in_features=64, out_features=8, bias=True)\n",
       "              )\n",
       "              (dropout1): Dropout(p=0.0, inplace=False)\n",
       "              (dropout2): Dropout(p=0.0, inplace=False)\n",
       "              (dropout3): Dropout(p=0.0, inplace=False)\n",
       "              (self_attn_layer_norm): LayerNorm((1024,), eps=1e-05, elementwise_affine=True)\n",
       "              (fc1): Linear(in_features=1024, out_features=4096, bias=True)\n",
       "              (fc2): Linear(in_features=4096, out_features=1024, bias=True)\n",
       "              (final_layer_norm): LayerNorm((1024,), eps=1e-05, elementwise_affine=True)\n",
       "            )\n",
       "            (22): TransformerSentenceEncoderLayer(\n",
       "              (self_attn): MultiheadAttention(\n",
       "                (dropout_module): Dropout(p=0.0, inplace=False)\n",
       "                (k_proj): Linear(in_features=1024, out_features=1024, bias=True)\n",
       "                (v_proj): Linear(in_features=1024, out_features=1024, bias=True)\n",
       "                (q_proj): Linear(in_features=1024, out_features=1024, bias=True)\n",
       "                (out_proj): Linear(in_features=1024, out_features=1024, bias=True)\n",
       "                (grep_linear): Linear(in_features=64, out_features=8, bias=True)\n",
       "              )\n",
       "              (dropout1): Dropout(p=0.0, inplace=False)\n",
       "              (dropout2): Dropout(p=0.0, inplace=False)\n",
       "              (dropout3): Dropout(p=0.0, inplace=False)\n",
       "              (self_attn_layer_norm): LayerNorm((1024,), eps=1e-05, elementwise_affine=True)\n",
       "              (fc1): Linear(in_features=1024, out_features=4096, bias=True)\n",
       "              (fc2): Linear(in_features=4096, out_features=1024, bias=True)\n",
       "              (final_layer_norm): LayerNorm((1024,), eps=1e-05, elementwise_affine=True)\n",
       "            )\n",
       "            (23): TransformerSentenceEncoderLayer(\n",
       "              (self_attn): MultiheadAttention(\n",
       "                (dropout_module): Dropout(p=0.0, inplace=False)\n",
       "                (k_proj): Linear(in_features=1024, out_features=1024, bias=True)\n",
       "                (v_proj): Linear(in_features=1024, out_features=1024, bias=True)\n",
       "                (q_proj): Linear(in_features=1024, out_features=1024, bias=True)\n",
       "                (out_proj): Linear(in_features=1024, out_features=1024, bias=True)\n",
       "                (grep_linear): Linear(in_features=64, out_features=8, bias=True)\n",
       "              )\n",
       "              (dropout1): Dropout(p=0.0, inplace=False)\n",
       "              (dropout2): Dropout(p=0.0, inplace=False)\n",
       "              (dropout3): Dropout(p=0.0, inplace=False)\n",
       "              (self_attn_layer_norm): LayerNorm((1024,), eps=1e-05, elementwise_affine=True)\n",
       "              (fc1): Linear(in_features=1024, out_features=4096, bias=True)\n",
       "              (fc2): Linear(in_features=4096, out_features=1024, bias=True)\n",
       "              (final_layer_norm): LayerNorm((1024,), eps=1e-05, elementwise_affine=True)\n",
       "            )\n",
       "          )\n",
       "          (layer_norm): LayerNorm((1024,), eps=1e-05, elementwise_affine=True)\n",
       "        )\n",
       "        (layer_norm): LayerNorm((512,), eps=1e-05, elementwise_affine=True)\n",
       "      )\n",
       "    )\n",
       "    (instance_norm): InstanceNorm1d(1024, eps=1e-05, momentum=0.1, affine=False, track_running_stats=False)\n",
       "  )\n",
       "  (emb_transform): TCN(\n",
       "    (bottleneck): Sequential(\n",
       "      (0): GlobLN()\n",
       "      (1): Conv1d(1024, 64, kernel_size=(1,), stride=(1,))\n",
       "    )\n",
       "    (TCN): ModuleList(\n",
       "      (0): Conv1DBlock(\n",
       "        (shared_block): Sequential(\n",
       "          (0): Conv1d(64, 128, kernel_size=(1,), stride=(1,))\n",
       "          (1): PReLU(num_parameters=1)\n",
       "          (2): GlobLN()\n",
       "          (3): Conv1d(128, 128, kernel_size=(3,), stride=(1,), padding=(1,), groups=128)\n",
       "          (4): PReLU(num_parameters=1)\n",
       "          (5): GlobLN()\n",
       "        )\n",
       "        (res_conv): Conv1d(128, 64, kernel_size=(1,), stride=(1,))\n",
       "      )\n",
       "      (1): Conv1DBlock(\n",
       "        (shared_block): Sequential(\n",
       "          (0): Conv1d(64, 128, kernel_size=(1,), stride=(1,))\n",
       "          (1): PReLU(num_parameters=1)\n",
       "          (2): GlobLN()\n",
       "          (3): Conv1d(128, 128, kernel_size=(3,), stride=(1,), padding=(2,), dilation=(2,), groups=128)\n",
       "          (4): PReLU(num_parameters=1)\n",
       "          (5): GlobLN()\n",
       "        )\n",
       "        (res_conv): Conv1d(128, 64, kernel_size=(1,), stride=(1,))\n",
       "      )\n",
       "      (2): Conv1DBlock(\n",
       "        (shared_block): Sequential(\n",
       "          (0): Conv1d(64, 128, kernel_size=(1,), stride=(1,))\n",
       "          (1): PReLU(num_parameters=1)\n",
       "          (2): GlobLN()\n",
       "          (3): Conv1d(128, 128, kernel_size=(3,), stride=(1,), padding=(4,), dilation=(4,), groups=128)\n",
       "          (4): PReLU(num_parameters=1)\n",
       "          (5): GlobLN()\n",
       "        )\n",
       "        (res_conv): Conv1d(128, 64, kernel_size=(1,), stride=(1,))\n",
       "      )\n",
       "      (3): Conv1DBlock(\n",
       "        (shared_block): Sequential(\n",
       "          (0): Conv1d(64, 128, kernel_size=(1,), stride=(1,))\n",
       "          (1): PReLU(num_parameters=1)\n",
       "          (2): GlobLN()\n",
       "          (3): Conv1d(128, 128, kernel_size=(3,), stride=(1,), padding=(1,), groups=128)\n",
       "          (4): PReLU(num_parameters=1)\n",
       "          (5): GlobLN()\n",
       "        )\n",
       "        (res_conv): Conv1d(128, 64, kernel_size=(1,), stride=(1,))\n",
       "      )\n",
       "      (4): Conv1DBlock(\n",
       "        (shared_block): Sequential(\n",
       "          (0): Conv1d(64, 128, kernel_size=(1,), stride=(1,))\n",
       "          (1): PReLU(num_parameters=1)\n",
       "          (2): GlobLN()\n",
       "          (3): Conv1d(128, 128, kernel_size=(3,), stride=(1,), padding=(2,), dilation=(2,), groups=128)\n",
       "          (4): PReLU(num_parameters=1)\n",
       "          (5): GlobLN()\n",
       "        )\n",
       "        (res_conv): Conv1d(128, 64, kernel_size=(1,), stride=(1,))\n",
       "      )\n",
       "      (5): Conv1DBlock(\n",
       "        (shared_block): Sequential(\n",
       "          (0): Conv1d(64, 128, kernel_size=(1,), stride=(1,))\n",
       "          (1): PReLU(num_parameters=1)\n",
       "          (2): GlobLN()\n",
       "          (3): Conv1d(128, 128, kernel_size=(3,), stride=(1,), padding=(4,), dilation=(4,), groups=128)\n",
       "          (4): PReLU(num_parameters=1)\n",
       "          (5): GlobLN()\n",
       "        )\n",
       "        (res_conv): Conv1d(128, 64, kernel_size=(1,), stride=(1,))\n",
       "      )\n",
       "    )\n",
       "    (out): Sequential(\n",
       "      (0): PReLU(num_parameters=1)\n",
       "      (1): Conv1d(64, 256, kernel_size=(1,), stride=(1,))\n",
       "    )\n",
       "  )\n",
       "  (class_layer): Linear(in_features=256, out_features=4, bias=True)\n",
       ")"
      ]
     },
     "execution_count": 9,
     "metadata": {},
     "output_type": "execute_result"
    }
   ],
   "source": [
    "ckpt = torch.load(\"./probes/sparse_noise_probe_256_mean.pt\")\n",
    "print(ckpt)\n",
    "device = torch.device(\"cuda\" if torch.cuda.is_available() else \"cpu\")\n",
    "classif_probe = LinProbe(input_size=256,output_size=10,agreg='mean')\n",
    "classif_probe.load_state_dict(ckpt)\n",
    "classif_probe.to(device)\n",
    "model.to(device)"
   ]
  },
  {
   "cell_type": "code",
   "execution_count": 10,
   "id": "e3df4bbb",
   "metadata": {},
   "outputs": [
    {
     "name": "stderr",
     "output_type": "stream",
     "text": [
      "100%|██████████| 13/13 [00:30<00:00,  2.31s/it]\n"
     ]
    }
   ],
   "source": [
    "pred = []\n",
    "lab = []\n",
    "model.to(device)\n",
    "classif_probe.to(device)\n",
    "for batch_idx, (data,label) in enumerate(tqdm.tqdm(test_loader)):    \n",
    "\n",
    "    with torch.no_grad():\n",
    "        feat = model.wavlm(data.to(device))\n",
    "        emb = model.emb_transform(feat)\n",
    "        lab.extend(label.detach().cpu().numpy())\n",
    "        \n",
    "        logits = classif_probe(emb.permute(0,2,1))\n",
    "        #print(logits.shape)\n",
    "        pred.extend(logits.argmax(dim=-1).detach().cpu().numpy())\n",
    "\n",
    "        "
   ]
  },
  {
   "cell_type": "code",
   "execution_count": 12,
   "id": "3884bd76",
   "metadata": {},
   "outputs": [],
   "source": [
    "from torchmetrics import F1Score,Accuracy,ConfusionMatrix,Recall\n",
    "nclasses = 10\n",
    "f1 = F1Score(task=\"multiclass\",num_classes=nclasses,average=\"macro\")\n",
    "recall = Recall(task=\"multiclass\",num_classes=nclasses,average=\"macro\")\n",
    "acc = Accuracy(task='multiclass',num_classes=nclasses)\n",
    "conf = ConfusionMatrix(task='multiclass',num_classes=nclasses)\n",
    "ecp = ExpectedCost(task=\"multiclass\",num_classes=nclasses)"
   ]
  },
  {
   "cell_type": "code",
   "execution_count": 13,
   "id": "086074f6",
   "metadata": {},
   "outputs": [],
   "source": [
    "tpred = torch.from_numpy(np.array(pred))\n",
    "tlabel = torch.from_numpy(np.array(lab))"
   ]
  },
  {
   "cell_type": "code",
   "execution_count": 14,
   "id": "608842ba",
   "metadata": {},
   "outputs": [
    {
     "name": "stdout",
     "output_type": "stream",
     "text": [
      "Acc = tensor(0.6140)\n",
      "F1score = tensor(0.6125)\n",
      "UAR = tensor(0.6068)\n",
      "Expected cost tensor(0.3860)\n",
      "Acc from EC tensor(0.6140)\n"
     ]
    }
   ],
   "source": [
    "import numpy as np\n",
    "from expected_cost import ec\n",
    "#print(\"0 Male, 1 Female\")\n",
    "\n",
    "print(\"Acc =\",acc(tpred,tlabel))\n",
    "print(\"F1score =\",f1(tpred,tlabel))\n",
    "print(\"UAR =\",recall(tpred,tlabel))\n",
    "#print(\"F1score Male =\",f1((tpred*-1)+1,(tlabel*-1)+1))\n",
    "#print(\"Confusion = \",conf(tpred,tlabel))\n",
    "#print(\"\\nCUSTOM EC\")\n",
    "print(\"Expected cost\",ecp(tpred,tlabel))\n",
    "print(\"Acc from EC\",1-ecp(tpred,tlabel))\n"
   ]
  },
  {
   "cell_type": "code",
   "execution_count": 18,
   "id": "fbc00951",
   "metadata": {},
   "outputs": [],
   "source": [
    "classes = ['air_conditioner', 'car_horn', 'children_playing', 'dog_bark', 'drilling', 'engine_idling', 'gun_shot', 'jackhammer', 'siren', 'street_music']"
   ]
  },
  {
   "cell_type": "code",
   "execution_count": null,
   "id": "6c0cdc9e",
   "metadata": {},
   "outputs": [],
   "source": []
  },
  {
   "cell_type": "code",
   "execution_count": 19,
   "id": "7a906378",
   "metadata": {},
   "outputs": [
    {
     "data": {
      "text/plain": [
       "<Axes: >"
      ]
     },
     "execution_count": 19,
     "metadata": {},
     "output_type": "execute_result"
    },
    {
     "data": {
      "image/png": "[encoded data removed]",
      "text/plain": [
       "<Figure size 1000x1000 with 2 Axes>"
      ]
     },
     "metadata": {},
     "output_type": "display_data"
    }
   ],
   "source": [
    "import seaborn as sn\n",
    "plt.figure(figsize=(10,10))\n",
    "sn.heatmap(conf(tpred,tlabel),xticklabels=classes,yticklabels=classes)"
   ]
  },
  {
   "cell_type": "code",
   "execution_count": 20,
   "id": "4647d61e",
   "metadata": {},
   "outputs": [
    {
     "name": "stdout",
     "output_type": "stream",
     "text": [
      "torch.Size([512])\n"
     ]
    },
    {
     "data": {
      "text/plain": [
       "<Axes: >"
      ]
     },
     "execution_count": 20,
     "metadata": {},
     "output_type": "execute_result"
    },
    {
     "data": {
      "image/png": "[encoded data removed]",
      "text/plain": [
       "<Figure size 1500x1500 with 2 Axes>"
      ]
     },
     "metadata": {},
     "output_type": "display_data"
    }
   ],
   "source": [
    "plt.figure(figsize=(15,15))\n",
    "print(ckpt['probe.0.weight'].cpu()[0].shape)\n",
    "\n",
    "sn.heatmap(ckpt['probe.0.weight'].cpu(),cmap='bwr')"
   ]
  }
 ],
 "metadata": {
  "kernelspec": {
   "display_name": "jsalt3.9",
   "language": "python",
   "name": "jsalt3.9"
  },
  "language_info": {
   "codemirror_mode": {
    "name": "ipython",
    "version": 3
   },
   "file_extension": ".py",
   "mimetype": "text/x-python",
   "name": "python",
   "nbconvert_exporter": "python",
   "pygments_lexer": "ipython3",
   "version": "3.9.16"
  }
 },
 "nbformat": 4,
 "nbformat_minor": 5
}
